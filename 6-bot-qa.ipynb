{
  "metadata": {
    "kernelspec": {
      "display_name": "Python 3",
      "name": "python3"
    },
    "language_info": {
      "name": "python",
      "version": "3.10.12",
      "mimetype": "text/x-python",
      "codemirror_mode": {
        "name": "ipython",
        "version": 3
      },
      "pygments_lexer": "ipython3",
      "nbconvert_exporter": "python",
      "file_extension": ".py"
    },
    "colab": {
      "provenance": [],
      "gpuType": "T4"
    },
    "accelerator": "GPU"
  },
  "nbformat_minor": 0,
  "nbformat": 4,
  "cells": [
    {
      "cell_type": "markdown",
      "source": [
        "<img src=\"https://github.com/hernancontigiani/ceia_memorias_especializacion/raw/master/Figures/logoFIUBA.jpg\" width=\"500\" align=\"center\">\n",
        "\n",
        "\n",
        "# Procesamiento de lenguaje natural\n",
        "## LSTM Bot QA"
      ],
      "metadata": {
        "_uuid": "168929cc-cf47-4626-8a2f-3c81580fe6a3",
        "_cell_guid": "1dd7fc99-f339-4ec9-a4a6-2e03059cc668",
        "id": "pfa39F4lsLf3",
        "trusted": true
      }
    },
    {
      "cell_type": "markdown",
      "source": [
        "### Datos\n",
        "El objecto es utilizar datos disponibles del challenge ConvAI2 (Conversational Intelligence Challenge 2) de conversaciones en inglés. Se construirá un BOT para responder a preguntas del usuario (QA).\\\n",
        "[LINK](http://convai.io/data/)"
      ],
      "metadata": {
        "_uuid": "d5fb7793-c13c-4baa-8578-fceae087b6d1",
        "_cell_guid": "3f75fff3-9ea5-4052-8744-2d7ef7e54b1b",
        "id": "ZqO0PRcFsPTe",
        "trusted": true
      }
    },
    {
      "cell_type": "code",
      "source": [
        "!pip install --upgrade --no-cache-dir gdown --quiet"
      ],
      "metadata": {
        "_uuid": "603792f6-0ca6-459b-bba4-21e2e40065fb",
        "_cell_guid": "7b9e41de-4dd9-4d18-aec1-e8fd786953f4",
        "id": "bDFC0I3j9oFD",
        "jupyter": {
          "outputs_hidden": false
        },
        "execution": {
          "iopub.status.busy": "2023-10-12T23:39:44.128003Z",
          "iopub.execute_input": "2023-10-12T23:39:44.128440Z",
          "iopub.status.idle": "2023-10-12T23:39:52.857804Z",
          "shell.execute_reply.started": "2023-10-12T23:39:44.128410Z",
          "shell.execute_reply": "2023-10-12T23:39:52.856450Z"
        },
        "trusted": true
      },
      "execution_count": 1,
      "outputs": []
    },
    {
      "cell_type": "code",
      "source": [
        "import re\n",
        "\n",
        "import numpy as np\n",
        "import pandas as pd\n",
        "\n",
        "import tensorflow as tf\n",
        "from keras.preprocessing.text import one_hot, Tokenizer\n",
        "from tensorflow.keras.utils import pad_sequences\n",
        "from keras.models import Sequential, Model\n",
        "from keras.layers import Activation, Dropout, Dense, Flatten, LSTM, SimpleRNN, Input, Embedding\n",
        "from sklearn.model_selection import train_test_split\n",
        "from keras.utils import plot_model"
      ],
      "metadata": {
        "_uuid": "e4c9fc5a-f2f7-4f82-b1b7-3213bbe71aa9",
        "_cell_guid": "3bc9c7ae-72ba-46ab-9650-c2be7a6ba9a4",
        "id": "cq3YXak9sGHd",
        "jupyter": {
          "outputs_hidden": false
        },
        "execution": {
          "iopub.status.busy": "2023-10-12T23:39:52.860355Z",
          "iopub.execute_input": "2023-10-12T23:39:52.860774Z",
          "iopub.status.idle": "2023-10-12T23:39:52.867817Z",
          "shell.execute_reply.started": "2023-10-12T23:39:52.860735Z",
          "shell.execute_reply": "2023-10-12T23:39:52.866505Z"
        },
        "trusted": true
      },
      "execution_count": 2,
      "outputs": []
    },
    {
      "cell_type": "code",
      "source": [
        "# Descargar la carpeta de dataset\n",
        "import os\n",
        "import gdown\n",
        "if os.access('data_volunteers.json', os.F_OK) is False:\n",
        "    url = 'https://drive.google.com/uc?id=1awUxYwImF84MIT5-jCaYAPe2QwSgS1hN&export=download'\n",
        "    output = 'data_volunteers.json'\n",
        "    gdown.download(url, output, quiet=False)\n",
        "else:\n",
        "    print(\"El dataset ya se encuentra descargado\")"
      ],
      "metadata": {
        "_uuid": "7c22441a-350a-4cf5-89ee-4f557ba55624",
        "_cell_guid": "84dd5444-8322-44f0-83d2-857e7418358c",
        "id": "RHNkUaPp6aYq",
        "jupyter": {
          "outputs_hidden": false
        },
        "execution": {
          "iopub.status.busy": "2023-10-12T23:39:52.868985Z",
          "iopub.execute_input": "2023-10-12T23:39:52.869397Z",
          "iopub.status.idle": "2023-10-12T23:39:52.878969Z",
          "shell.execute_reply.started": "2023-10-12T23:39:52.869365Z",
          "shell.execute_reply": "2023-10-12T23:39:52.878070Z"
        },
        "trusted": true,
        "outputId": "e8af8c31-644b-4257-b68b-68f3b62a0b7d",
        "colab": {
          "base_uri": "https://localhost:8080/"
        }
      },
      "execution_count": 3,
      "outputs": [
        {
          "output_type": "stream",
          "name": "stderr",
          "text": [
            "Downloading...\n",
            "From: https://drive.google.com/uc?id=1awUxYwImF84MIT5-jCaYAPe2QwSgS1hN&export=download\n",
            "To: /content/data_volunteers.json\n",
            "100%|██████████| 2.58M/2.58M [00:00<00:00, 222MB/s]\n"
          ]
        }
      ]
    },
    {
      "cell_type": "code",
      "source": [
        "# dataset_file\n",
        "import json\n",
        "\n",
        "text_file = \"data_volunteers.json\"\n",
        "with open(text_file) as f:\n",
        "    data = json.load(f) # la variable data será un diccionario"
      ],
      "metadata": {
        "_uuid": "6cfb2f85-37b9-48a5-8f9e-980fa2aa9e97",
        "_cell_guid": "04a42360-bda0-41ab-86d7-5d8b09a06f3b",
        "id": "WZy1-wgG-Rp7",
        "jupyter": {
          "outputs_hidden": false
        },
        "execution": {
          "iopub.status.busy": "2023-10-12T23:39:52.882253Z",
          "iopub.execute_input": "2023-10-12T23:39:52.882556Z",
          "iopub.status.idle": "2023-10-12T23:39:52.929849Z",
          "shell.execute_reply.started": "2023-10-12T23:39:52.882527Z",
          "shell.execute_reply": "2023-10-12T23:39:52.928758Z"
        },
        "trusted": true
      },
      "execution_count": 4,
      "outputs": []
    },
    {
      "cell_type": "code",
      "source": [
        "# Observar los campos disponibles en cada linea del dataset\n",
        "data[0].keys()"
      ],
      "metadata": {
        "_uuid": "aa04ee9a-cad2-440b-9274-1bd280e44630",
        "_cell_guid": "f25676d1-bca4-4cd6-8714-9001ca8f0721",
        "id": "ue5qd54S-eew",
        "jupyter": {
          "outputs_hidden": false
        },
        "execution": {
          "iopub.status.busy": "2023-10-12T23:39:52.931243Z",
          "iopub.execute_input": "2023-10-12T23:39:52.931594Z",
          "iopub.status.idle": "2023-10-12T23:39:52.938625Z",
          "shell.execute_reply.started": "2023-10-12T23:39:52.931543Z",
          "shell.execute_reply": "2023-10-12T23:39:52.937397Z"
        },
        "trusted": true,
        "outputId": "cc4efa92-8959-45cb-a9ca-af61905b775b",
        "colab": {
          "base_uri": "https://localhost:8080/"
        }
      },
      "execution_count": 5,
      "outputs": [
        {
          "output_type": "execute_result",
          "data": {
            "text/plain": [
              "dict_keys(['dialog', 'start_time', 'end_time', 'bot_profile', 'user_profile', 'eval_score', 'profile_match', 'participant1_id', 'participant2_id'])"
            ]
          },
          "metadata": {},
          "execution_count": 5
        }
      ]
    },
    {
      "cell_type": "code",
      "source": [
        "chat_in = []\n",
        "chat_out = []\n",
        "\n",
        "input_sentences = []\n",
        "output_sentences = []\n",
        "output_sentences_inputs = []\n",
        "max_len = 30\n",
        "\n",
        "def clean_text(txt):\n",
        "    txt = txt.lower()\n",
        "    txt.replace(\"\\'d\", \" had\")\n",
        "    txt.replace(\"\\'s\", \" is\")\n",
        "    txt.replace(\"\\'m\", \" am\")\n",
        "    txt.replace(\"don't\", \"do not\")\n",
        "    txt = re.sub(r'\\W+', ' ', txt)\n",
        "\n",
        "    return txt\n",
        "\n",
        "for line in data:\n",
        "    for i in range(len(line['dialog'])-1):\n",
        "        # vamos separando el texto en \"preguntas\" (chat_in)\n",
        "        # y \"respuestas\" (chat_out)\n",
        "        chat_in = clean_text(line['dialog'][i]['text'])\n",
        "        chat_out = clean_text(line['dialog'][i+1]['text'])\n",
        "\n",
        "        if len(chat_in) >= max_len or len(chat_out) >= max_len:\n",
        "            continue\n",
        "\n",
        "        input_sentence, output = chat_in, chat_out\n",
        "\n",
        "        # output sentence (decoder_output) tiene <eos>\n",
        "        output_sentence = output + ' <eos>'\n",
        "        # output sentence input (decoder_input) tiene <sos>\n",
        "        output_sentence_input = '<sos> ' + output\n",
        "\n",
        "        input_sentences.append(input_sentence)\n",
        "        output_sentences.append(output_sentence)\n",
        "        output_sentences_inputs.append(output_sentence_input)\n",
        "\n",
        "print(\"Cantidad de rows utilizadas:\", len(input_sentences))"
      ],
      "metadata": {
        "_uuid": "6187aafd-cf5b-4baf-9aeb-8b76c5bc2ec5",
        "_cell_guid": "a85901a3-dfc8-42b4-ab54-c2eaae299df6",
        "id": "jHBRAXPl-3dz",
        "jupyter": {
          "outputs_hidden": false
        },
        "execution": {
          "iopub.status.busy": "2023-10-12T23:39:52.940347Z",
          "iopub.execute_input": "2023-10-12T23:39:52.941255Z",
          "iopub.status.idle": "2023-10-12T23:39:53.057376Z",
          "shell.execute_reply.started": "2023-10-12T23:39:52.941208Z",
          "shell.execute_reply": "2023-10-12T23:39:53.056293Z"
        },
        "trusted": true,
        "outputId": "157b4266-29b1-49f5-8d00-6897dfe68a37",
        "colab": {
          "base_uri": "https://localhost:8080/"
        }
      },
      "execution_count": 6,
      "outputs": [
        {
          "output_type": "stream",
          "name": "stdout",
          "text": [
            "Cantidad de rows utilizadas: 6033\n"
          ]
        }
      ]
    },
    {
      "cell_type": "code",
      "source": [
        "input_sentences[2], output_sentences[2], output_sentences_inputs[2]"
      ],
      "metadata": {
        "_uuid": "7d178804-5be9-4645-9857-8a77be7c6b48",
        "_cell_guid": "9f2b823a-6fea-496c-8c9b-6c37486d7e80",
        "id": "07L1qj8pC_l6",
        "jupyter": {
          "outputs_hidden": false
        },
        "execution": {
          "iopub.status.busy": "2023-10-12T23:39:53.058492Z",
          "iopub.execute_input": "2023-10-12T23:39:53.059383Z",
          "iopub.status.idle": "2023-10-12T23:39:53.066243Z",
          "shell.execute_reply.started": "2023-10-12T23:39:53.059351Z",
          "shell.execute_reply": "2023-10-12T23:39:53.065150Z"
        },
        "trusted": true,
        "outputId": "eac0b6a1-0b72-42aa-aa4c-764d03b0988a",
        "colab": {
          "base_uri": "https://localhost:8080/"
        }
      },
      "execution_count": 7,
      "outputs": [
        {
          "output_type": "execute_result",
          "data": {
            "text/plain": [
              "('hi ', 'hello  <eos>', '<sos> hello ')"
            ]
          },
          "metadata": {},
          "execution_count": 7
        }
      ]
    },
    {
      "cell_type": "markdown",
      "source": [
        "### 2 - Preprocesamiento\n",
        "Realizar el preprocesamiento necesario para obtener:\n",
        "- word2idx_inputs, max_input_len\n",
        "- word2idx_outputs, max_out_len, num_words_output\n",
        "- encoder_input_sequences, decoder_output_sequences, decoder_targets"
      ],
      "metadata": {
        "_uuid": "177899f7-964b-4220-9814-89697bf943a0",
        "_cell_guid": "f93d127f-e5aa-411e-bf5d-e0915e5e022b",
        "id": "8P-ynUNP5xp6",
        "trusted": true
      }
    },
    {
      "cell_type": "code",
      "source": [
        "# Definir el tamaño máximo del vocabulario\n",
        "MAX_VOCAB_SIZE = 8000\n",
        "# Vamos a necesitar un tokenizador para cada idioma"
      ],
      "metadata": {
        "_uuid": "1088ce9e-001c-4943-a64c-e729cb420452",
        "_cell_guid": "806a8121-8341-407a-b81f-b946bae5a3b3",
        "id": "5WAZGOTfGyha",
        "jupyter": {
          "outputs_hidden": false
        },
        "execution": {
          "iopub.status.busy": "2023-10-12T23:39:53.067495Z",
          "iopub.execute_input": "2023-10-12T23:39:53.068488Z",
          "iopub.status.idle": "2023-10-12T23:39:53.074693Z",
          "shell.execute_reply.started": "2023-10-12T23:39:53.068457Z",
          "shell.execute_reply": "2023-10-12T23:39:53.073921Z"
        },
        "trusted": true
      },
      "execution_count": 8,
      "outputs": []
    },
    {
      "cell_type": "code",
      "source": [
        "# Tokenizar las palabras con el Tokenizer de Keras\n",
        "# Definir una máxima cantidad de palabras a utilizar:\n",
        "# - num_words --> the maximum number of words to keep, based on word frequency.\n",
        "# - Only the most common num_words-1 words will be kept.\n",
        "from keras.preprocessing.text import Tokenizer\n",
        "\n",
        "# tokenizador de inglés\n",
        "input_tokenizer = Tokenizer(num_words=MAX_VOCAB_SIZE)\n",
        "input_tokenizer.fit_on_texts(input_sentences)\n",
        "input_integer_seq = input_tokenizer.texts_to_sequences(input_sentences)\n",
        "\n",
        "word2idx_inputs = input_tokenizer.word_index\n",
        "print(\"Palabras en el vocabulario:\", len(word2idx_inputs))\n",
        "\n",
        "max_input_len = max(len(sen) for sen in input_integer_seq)\n",
        "print(\"Sentencia de entrada más larga:\", max_input_len)"
      ],
      "metadata": {
        "_uuid": "d42af8c2-8a5a-4712-8a1b-45b4d89c59ac",
        "_cell_guid": "9916e39a-1d90-4c03-83f6-b2611cf5e56a",
        "id": "eF1W6peoFGXA",
        "jupyter": {
          "outputs_hidden": false
        },
        "execution": {
          "iopub.status.busy": "2023-10-12T23:39:53.076303Z",
          "iopub.execute_input": "2023-10-12T23:39:53.077139Z",
          "iopub.status.idle": "2023-10-12T23:39:53.174027Z",
          "shell.execute_reply.started": "2023-10-12T23:39:53.077108Z",
          "shell.execute_reply": "2023-10-12T23:39:53.173013Z"
        },
        "trusted": true,
        "outputId": "b009e916-e9df-4161-abfc-1f90f16ea327",
        "colab": {
          "base_uri": "https://localhost:8080/"
        }
      },
      "execution_count": 9,
      "outputs": [
        {
          "output_type": "stream",
          "name": "stdout",
          "text": [
            "Palabras en el vocabulario: 1799\n",
            "Sentencia de entrada más larga: 9\n"
          ]
        }
      ]
    },
    {
      "cell_type": "code",
      "source": [
        "# tokenizador decoder\n",
        "# sacamos los \"<>\" para que no afectar nuestros tokens\n",
        "output_tokenizer = Tokenizer(num_words=MAX_VOCAB_SIZE, filters='!\"#$%&()*+,-./:;=?@[\\\\]^_`{|}~\\t\\n')\n",
        "output_tokenizer.fit_on_texts([\"<sos>\", \"<eos>\"] + output_sentences)\n",
        "output_integer_seq = output_tokenizer.texts_to_sequences(output_sentences)\n",
        "output_input_integer_seq = output_tokenizer.texts_to_sequences(output_sentences_inputs)\n",
        "\n",
        "word2idx_outputs = output_tokenizer.word_index\n",
        "print(\"Palabras en el vocabulario:\", len(word2idx_outputs))\n",
        "\n",
        "num_words_output = min(len(word2idx_outputs) + 1, MAX_VOCAB_SIZE)\n",
        "# Se suma 1 para incluir el token de palabra desconocida\n",
        "\n",
        "max_out_len = max(len(sen) for sen in output_integer_seq)\n",
        "print(\"Sentencia de salida más larga:\", max_out_len)"
      ],
      "metadata": {
        "_uuid": "f1ce367d-3915-4526-87ab-8457ab8b6d4f",
        "_cell_guid": "2dacc08f-fe68-4755-9583-bf493184388e",
        "id": "zBzdKiTVIBYY",
        "jupyter": {
          "outputs_hidden": false
        },
        "execution": {
          "iopub.status.busy": "2023-10-12T23:39:53.177635Z",
          "iopub.execute_input": "2023-10-12T23:39:53.178012Z",
          "iopub.status.idle": "2023-10-12T23:39:53.321296Z",
          "shell.execute_reply.started": "2023-10-12T23:39:53.177989Z",
          "shell.execute_reply": "2023-10-12T23:39:53.320313Z"
        },
        "trusted": true,
        "outputId": "954b6eca-81dd-4b9c-835b-999b0f38381f",
        "colab": {
          "base_uri": "https://localhost:8080/"
        }
      },
      "execution_count": 10,
      "outputs": [
        {
          "output_type": "stream",
          "name": "stdout",
          "text": [
            "Palabras en el vocabulario: 1806\n",
            "Sentencia de salida más larga: 10\n"
          ]
        }
      ]
    },
    {
      "cell_type": "markdown",
      "source": [
        "A la hora de realiza padding es importante tener en cuenta que en el encoder los ceros se agregan al comienzo y en el decoder al final. Esto es porque la salida del encoder está basado en las últimas palabras de la sentencia (son las más importantes), mientras que en el decoder está basado en el comienzo de la secuencia de salida ya que es la realimentación del sistema y termina con fin de sentencia."
      ],
      "metadata": {
        "_uuid": "df77737a-7d21-4f29-8400-165f020b6668",
        "_cell_guid": "1375eb16-0261-4f26-86f4-69776676ff00",
        "id": "hGOn9N57IuYz",
        "trusted": true
      }
    },
    {
      "cell_type": "code",
      "source": [
        "print(\"Cantidad de rows del dataset:\", len(input_integer_seq))\n",
        "\n",
        "encoder_input_sequences = pad_sequences(input_integer_seq, maxlen=max_input_len)\n",
        "print(\"encoder_input_sequences shape:\", encoder_input_sequences.shape)\n",
        "\n",
        "decoder_input_sequences = pad_sequences(output_input_integer_seq, maxlen=max_out_len, padding='post')\n",
        "print(\"decoder_input_sequences shape:\", decoder_input_sequences.shape)"
      ],
      "metadata": {
        "_uuid": "0f3286a6-1d5f-4979-9e17-c446bcb89157",
        "_cell_guid": "ed3c8ee6-ddc5-4b1e-9d1a-ccaf1970d043",
        "id": "q0Ob4hAWJkcv",
        "jupyter": {
          "outputs_hidden": false
        },
        "execution": {
          "iopub.status.busy": "2023-10-12T23:39:53.322427Z",
          "iopub.execute_input": "2023-10-12T23:39:53.322951Z",
          "iopub.status.idle": "2023-10-12T23:39:53.353972Z",
          "shell.execute_reply.started": "2023-10-12T23:39:53.322920Z",
          "shell.execute_reply": "2023-10-12T23:39:53.353058Z"
        },
        "trusted": true,
        "outputId": "451d9972-f259-4e1b-c3d4-81f04404061a",
        "colab": {
          "base_uri": "https://localhost:8080/"
        }
      },
      "execution_count": 11,
      "outputs": [
        {
          "output_type": "stream",
          "name": "stdout",
          "text": [
            "Cantidad de rows del dataset: 6033\n",
            "encoder_input_sequences shape: (6033, 9)\n",
            "decoder_input_sequences shape: (6033, 10)\n"
          ]
        }
      ]
    },
    {
      "cell_type": "markdown",
      "source": [
        "La última capa del modelo (softmax) necesita que los valores de salida\n",
        "del decoder (decoder_sequences) estén en formato oneHotEncoder.\\\n",
        "Se utiliza \"decoder_output_sequences\" con la misma estrategia con que se transformó la entrada del decoder."
      ],
      "metadata": {
        "_uuid": "44c07004-6d81-4f85-ad6b-ab9599b28487",
        "_cell_guid": "ed0c38da-4e0c-4bfb-9cea-88a91c907c7f",
        "id": "wK4blEEsRQv3",
        "trusted": true
      }
    },
    {
      "cell_type": "code",
      "source": [
        "from keras.utils import to_categorical\n",
        "decoder_output_sequences = pad_sequences(output_integer_seq, maxlen=max_out_len, padding='post')\n",
        "decoder_targets = to_categorical(decoder_output_sequences, num_classes=num_words_output)\n",
        "decoder_targets.shape"
      ],
      "metadata": {
        "_uuid": "113cbede-316d-4dcf-b9b9-b17f206e20a2",
        "_cell_guid": "20b86d08-1d0a-4128-ac33-df957c04b7e1",
        "id": "3toZyIVEOC18",
        "jupyter": {
          "outputs_hidden": false
        },
        "execution": {
          "iopub.status.busy": "2023-10-12T23:39:53.355209Z",
          "iopub.execute_input": "2023-10-12T23:39:53.355523Z",
          "iopub.status.idle": "2023-10-12T23:39:53.561240Z",
          "shell.execute_reply.started": "2023-10-12T23:39:53.355494Z",
          "shell.execute_reply": "2023-10-12T23:39:53.560198Z"
        },
        "trusted": true,
        "outputId": "8044ded8-acfc-4010-f042-e86cffcbb169",
        "colab": {
          "base_uri": "https://localhost:8080/"
        }
      },
      "execution_count": 12,
      "outputs": [
        {
          "output_type": "execute_result",
          "data": {
            "text/plain": [
              "(6033, 10, 1807)"
            ]
          },
          "metadata": {},
          "execution_count": 12
        }
      ]
    },
    {
      "cell_type": "markdown",
      "source": [
        "### 3 - Preparar los embeddings\n",
        "Utilizar los embeddings de Glove o FastText para transformar los tokens de entrada en vectores"
      ],
      "metadata": {
        "_uuid": "1ed1e0a6-5f0c-4147-852c-7ddf54a1e077",
        "_cell_guid": "a4d58ef7-b2b0-46db-9225-28bbaa4bca5c",
        "id": "_CJIsLBbj6rg",
        "trusted": true
      }
    },
    {
      "cell_type": "code",
      "source": [
        "# Descargar los embeddings desde un google drive (es la forma más rápida)\n",
        "# NOTA: No hay garantía de que estos links perduren, en caso de que no estén\n",
        "# disponibles descargar de la página oficial como se explica en el siguiente bloque de código\n",
        "import os\n",
        "import gdown\n",
        "#if os.access('gloveembedding.pkl', os.F_OK) is False:\n",
        "#    url = 'https://drive.google.com/uc?id=1KY6avD5I1eI2dxQzMkR3WExwKwRq2g94&export=download'\n",
        "#    output = 'gloveembedding.pkl'\n",
        "#    gdown.download(url, output, quiet=False)\n",
        "#else:\n",
        "#    print(\"Los embeddings gloveembedding.pkl ya están descargados\")\n",
        ""
      ],
      "metadata": {
        "_uuid": "f54e2b1e-6949-4384-a099-4798a656fece",
        "_cell_guid": "ad77d420-96b3-4c3e-8db8-03500df6d791",
        "id": "Jlnzm7oOuC4z",
        "execution": {
          "iopub.status.busy": "2023-10-12T23:39:53.562548Z",
          "iopub.execute_input": "2023-10-12T23:39:53.563596Z",
          "iopub.status.idle": "2023-10-12T23:39:53.568677Z",
          "shell.execute_reply.started": "2023-10-12T23:39:53.563539Z",
          "shell.execute_reply": "2023-10-12T23:39:53.567701Z"
        },
        "trusted": true
      },
      "execution_count": 13,
      "outputs": []
    },
    {
      "cell_type": "code",
      "source": [
        "# En caso de que gdown de algún error de permisos intentar descargar los\n",
        "# embeddings con curl:\n",
        "\n",
        "!curl -L -o 'fasttext.pkl' 'https://drive.google.com/u/0/uc?id=1Qi1r-u5lsEsNqRSxLrpNOqQ3B_ufltCa&export=download&confirm=t'\n",
        "\n",
        "#!curl -L -o 'gloveembedding.pkl' 'https://drive.google.com/u/0/uc?id=1KY6avD5I1eI2dxQzMkR3WExwKwRq2g94&export=download&confirm=t'"
      ],
      "metadata": {
        "_uuid": "0fbb76fc-2d00-4415-bfd4-cc81e2eac9f3",
        "_cell_guid": "aa02dd18-f6c5-42cb-9dfe-f3195600622a",
        "jupyter": {
          "outputs_hidden": false
        },
        "execution": {
          "iopub.status.busy": "2023-10-12T23:39:53.569976Z",
          "iopub.execute_input": "2023-10-12T23:39:53.570869Z",
          "iopub.status.idle": "2023-10-12T23:40:14.664801Z",
          "shell.execute_reply.started": "2023-10-12T23:39:53.570837Z",
          "shell.execute_reply": "2023-10-12T23:40:14.663643Z"
        },
        "trusted": true,
        "id": "XnV46F2UTY9T",
        "outputId": "e6cb2465-452b-4b80-dae6-0979ad9338e2",
        "colab": {
          "base_uri": "https://localhost:8080/"
        }
      },
      "execution_count": 14,
      "outputs": [
        {
          "output_type": "stream",
          "name": "stdout",
          "text": [
            "  % Total    % Received % Xferd  Average Speed   Time    Time     Time  Current\n",
            "                                 Dload  Upload   Total   Spent    Left  Speed\n",
            "  0     0    0     0    0     0      0      0 --:--:-- --:--:-- --:--:--     0\n",
            "  0     0    0     0    0     0      0      0 --:--:-- --:--:-- --:--:--     0\n",
            "100 2746M  100 2746M    0     0   113M      0  0:00:24  0:00:24 --:--:--  119M\n"
          ]
        }
      ]
    },
    {
      "cell_type": "code",
      "source": [
        "import logging\n",
        "import os\n",
        "from pathlib import Path\n",
        "from io import StringIO\n",
        "import pickle\n",
        "\n",
        "class WordsEmbeddings(object):\n",
        "    logger = logging.getLogger(__name__)\n",
        "\n",
        "    def __init__(self):\n",
        "        # load the embeddings\n",
        "        words_embedding_pkl = Path(self.PKL_PATH)\n",
        "        if not words_embedding_pkl.is_file():\n",
        "            words_embedding_txt = Path(self.WORD_TO_VEC_MODEL_TXT_PATH)\n",
        "            assert words_embedding_txt.is_file(), 'Words embedding not available'\n",
        "            embeddings = self.convert_model_to_pickle()\n",
        "        else:\n",
        "            embeddings = self.load_model_from_pickle()\n",
        "        self.embeddings = embeddings\n",
        "        # build the vocabulary hashmap\n",
        "        index = np.arange(self.embeddings.shape[0])\n",
        "        # Dicctionarios para traducir de embedding a IDX de la palabra\n",
        "        self.word2idx = dict(zip(self.embeddings['word'], index))\n",
        "        self.idx2word = dict(zip(index, self.embeddings['word']))\n",
        "\n",
        "    def get_words_embeddings(self, words):\n",
        "        words_idxs = self.words2idxs(words)\n",
        "        return self.embeddings[words_idxs]['embedding']\n",
        "\n",
        "    def words2idxs(self, words):\n",
        "        return np.array([self.word2idx.get(word, -1) for word in words])\n",
        "\n",
        "    def idxs2words(self, idxs):\n",
        "        return np.array([self.idx2word.get(idx, '-1') for idx in idxs])\n",
        "\n",
        "    def load_model_from_pickle(self):\n",
        "        self.logger.debug(\n",
        "            'loading words embeddings from pickle {}'.format(\n",
        "                self.PKL_PATH\n",
        "            )\n",
        "        )\n",
        "        max_bytes = 2**28 - 1 # 256MB\n",
        "        bytes_in = bytearray(0)\n",
        "        input_size = os.path.getsize(self.PKL_PATH)\n",
        "        with open(self.PKL_PATH, 'rb') as f_in:\n",
        "            for _ in range(0, input_size, max_bytes):\n",
        "                bytes_in += f_in.read(max_bytes)\n",
        "        embeddings = pickle.loads(bytes_in)\n",
        "        self.logger.debug('words embeddings loaded')\n",
        "        return embeddings\n",
        "\n",
        "    def convert_model_to_pickle(self):\n",
        "        # create a numpy strctured array:\n",
        "        # word     embedding\n",
        "        # U50      np.float32[]\n",
        "        # word_1   a, b, c\n",
        "        # word_2   d, e, f\n",
        "        # ...\n",
        "        # word_n   g, h, i\n",
        "        self.logger.debug(\n",
        "            'converting and loading words embeddings from text file {}'.format(\n",
        "                self.WORD_TO_VEC_MODEL_TXT_PATH\n",
        "            )\n",
        "        )\n",
        "        structure = [('word', np.dtype('U' + str(self.WORD_MAX_SIZE))),\n",
        "                     ('embedding', np.float32, (self.N_FEATURES,))]\n",
        "        structure = np.dtype(structure)\n",
        "        # load numpy array from disk using a generator\n",
        "        with open(self.WORD_TO_VEC_MODEL_TXT_PATH, encoding=\"utf8\") as words_embeddings_txt:\n",
        "            embeddings_gen = (\n",
        "                (line.split()[0], line.split()[1:]) for line in words_embeddings_txt\n",
        "                if len(line.split()[1:]) == self.N_FEATURES\n",
        "            )\n",
        "            embeddings = np.fromiter(embeddings_gen, structure)\n",
        "        # add a null embedding\n",
        "        null_embedding = np.array(\n",
        "            [('null_embedding', np.zeros((self.N_FEATURES,), dtype=np.float32))],\n",
        "            dtype=structure\n",
        "        )\n",
        "        embeddings = np.concatenate([embeddings, null_embedding])\n",
        "        # dump numpy array to disk using pickle\n",
        "        max_bytes = 2**28 - 1 # # 256MB\n",
        "        bytes_out = pickle.dumps(embeddings, protocol=pickle.HIGHEST_PROTOCOL)\n",
        "        with open(self.PKL_PATH, 'wb') as f_out:\n",
        "            for idx in range(0, len(bytes_out), max_bytes):\n",
        "                f_out.write(bytes_out[idx:idx+max_bytes])\n",
        "        self.logger.debug('words embeddings loaded')\n",
        "        return embeddings\n",
        "\n",
        "\n",
        "class GloveEmbeddings(WordsEmbeddings):\n",
        "    WORD_TO_VEC_MODEL_TXT_PATH = 'glove.twitter.27B.50d.txt'\n",
        "    PKL_PATH = 'gloveembedding.pkl'\n",
        "    N_FEATURES = 50\n",
        "    WORD_MAX_SIZE = 60\n",
        "\n",
        "class FasttextEmbeddings(WordsEmbeddings):\n",
        "    WORD_TO_VEC_MODEL_TXT_PATH = 'cc.en.300.vec'\n",
        "    PKL_PATH = 'fasttext.pkl'\n",
        "    N_FEATURES = 300\n",
        "    WORD_MAX_SIZE = 60"
      ],
      "metadata": {
        "_uuid": "5a54794c-31cb-4e34-99c5-53c1e4797530",
        "_cell_guid": "bf4b3aac-ef43-4fdf-bb70-e44546bfdc93",
        "id": "ZgqtV8GpkSc8",
        "jupyter": {
          "outputs_hidden": false
        },
        "execution": {
          "iopub.status.busy": "2023-10-12T23:40:14.666950Z",
          "iopub.execute_input": "2023-10-12T23:40:14.667339Z",
          "iopub.status.idle": "2023-10-12T23:40:14.682669Z",
          "shell.execute_reply.started": "2023-10-12T23:40:14.667303Z",
          "shell.execute_reply": "2023-10-12T23:40:14.681532Z"
        },
        "trusted": true
      },
      "execution_count": 15,
      "outputs": []
    },
    {
      "cell_type": "code",
      "source": [
        "model_embeddings = FasttextEmbeddings()"
      ],
      "metadata": {
        "_uuid": "bc6773d4-26ba-43de-8f7a-4ba68faa5048",
        "_cell_guid": "ee8cdc9b-e98a-495b-b39d-203f92211e28",
        "id": "Mosj2-x-kXBK",
        "jupyter": {
          "outputs_hidden": false
        },
        "execution": {
          "iopub.status.busy": "2023-10-12T23:40:14.684586Z",
          "iopub.execute_input": "2023-10-12T23:40:14.685369Z",
          "iopub.status.idle": "2023-10-12T23:40:28.123109Z",
          "shell.execute_reply.started": "2023-10-12T23:40:14.685337Z",
          "shell.execute_reply": "2023-10-12T23:40:28.122083Z"
        },
        "trusted": true
      },
      "execution_count": 16,
      "outputs": []
    },
    {
      "cell_type": "code",
      "source": [
        "# Crear la Embedding matrix de las secuencias\n",
        "# en inglés\n",
        "\n",
        "print('preparing embedding matrix...')\n",
        "embed_dim = model_embeddings.N_FEATURES\n",
        "words_not_found = []\n",
        "\n",
        "# word_index provieen del tokenizer\n",
        "\n",
        "nb_words = min(MAX_VOCAB_SIZE, len(word2idx_inputs)) # vocab_size\n",
        "embedding_matrix = np.zeros((nb_words, embed_dim))\n",
        "for word, i in word2idx_inputs.items():\n",
        "    if i >= nb_words:\n",
        "        continue\n",
        "    embedding_vector = model_embeddings.get_words_embeddings(word)[0]\n",
        "    if (embedding_vector is not None) and len(embedding_vector) > 0:\n",
        "\n",
        "        embedding_matrix[i] = embedding_vector\n",
        "    else:\n",
        "        # words not found in embedding index will be all-zeros.\n",
        "        words_not_found.append(word)\n",
        "\n",
        "print('number of null word embeddings:', np.sum(np.sum(embedding_matrix**2, axis=1) == 0))"
      ],
      "metadata": {
        "_uuid": "47834aac-e905-4b4d-8044-03c8555775f8",
        "_cell_guid": "25d50fbb-a4f0-46c7-a65e-a87167fd47e2",
        "id": "b9FS8ca1ke_B",
        "jupyter": {
          "outputs_hidden": false
        },
        "execution": {
          "iopub.status.busy": "2023-10-12T23:40:28.124531Z",
          "iopub.execute_input": "2023-10-12T23:40:28.125602Z",
          "iopub.status.idle": "2023-10-12T23:40:28.151837Z",
          "shell.execute_reply.started": "2023-10-12T23:40:28.125562Z",
          "shell.execute_reply": "2023-10-12T23:40:28.150820Z"
        },
        "trusted": true,
        "outputId": "9c10d9be-e79e-4e6a-8e83-1af287e29aed",
        "colab": {
          "base_uri": "https://localhost:8080/"
        }
      },
      "execution_count": 17,
      "outputs": [
        {
          "output_type": "stream",
          "name": "stdout",
          "text": [
            "preparing embedding matrix...\n",
            "number of null word embeddings: 1\n"
          ]
        }
      ]
    },
    {
      "cell_type": "code",
      "source": [
        "# Dimensión de los embeddings de la secuencia en inglés\n",
        "embedding_matrix.shape"
      ],
      "metadata": {
        "_uuid": "afd07be5-e967-4503-9c30-b7f089abde6a",
        "_cell_guid": "403e7aae-92f0-44f7-b929-d3d2ea22175a",
        "id": "FpzJODHBlAtE",
        "jupyter": {
          "outputs_hidden": false
        },
        "execution": {
          "iopub.status.busy": "2023-10-12T23:40:28.153446Z",
          "iopub.execute_input": "2023-10-12T23:40:28.154157Z",
          "iopub.status.idle": "2023-10-12T23:40:28.161565Z",
          "shell.execute_reply.started": "2023-10-12T23:40:28.154122Z",
          "shell.execute_reply": "2023-10-12T23:40:28.159867Z"
        },
        "trusted": true,
        "outputId": "5a42ab6e-35b3-4335-9e09-99451d0e4e3a",
        "colab": {
          "base_uri": "https://localhost:8080/"
        }
      },
      "execution_count": 18,
      "outputs": [
        {
          "output_type": "execute_result",
          "data": {
            "text/plain": [
              "(1799, 300)"
            ]
          },
          "metadata": {},
          "execution_count": 18
        }
      ]
    },
    {
      "cell_type": "markdown",
      "source": [
        "### 4 - Entrenar el modelo\n",
        "Entrenar un modelo basado en el esquema encoder-decoder utilizando los datos generados en los puntos anteriores. Utilce como referencias los ejemplos vistos en clase."
      ],
      "metadata": {
        "_uuid": "d8f6dc1d-4395-4b78-8bc3-d9e33382ec5a",
        "_cell_guid": "7a68e2fb-5313-4fef-8e50-d34684a91737",
        "id": "3vKbhjtIwPgM",
        "trusted": true
      }
    },
    {
      "cell_type": "code",
      "source": [
        "max_input_len"
      ],
      "metadata": {
        "_uuid": "e935dab0-7554-456e-915a-c0ab23b2c013",
        "_cell_guid": "2cd42581-237a-498f-9589-2544a7931083",
        "id": "3fm3HCLMPSG-",
        "jupyter": {
          "outputs_hidden": false
        },
        "execution": {
          "iopub.status.busy": "2023-10-12T23:40:28.163939Z",
          "iopub.execute_input": "2023-10-12T23:40:28.165247Z",
          "iopub.status.idle": "2023-10-12T23:40:28.171878Z",
          "shell.execute_reply.started": "2023-10-12T23:40:28.165013Z",
          "shell.execute_reply": "2023-10-12T23:40:28.170947Z"
        },
        "trusted": true,
        "outputId": "1cd8fcfa-a21c-4cb3-99fb-0b41a2f3928d",
        "colab": {
          "base_uri": "https://localhost:8080/"
        }
      },
      "execution_count": 19,
      "outputs": [
        {
          "output_type": "execute_result",
          "data": {
            "text/plain": [
              "9"
            ]
          },
          "metadata": {},
          "execution_count": 19
        }
      ]
    },
    {
      "cell_type": "code",
      "source": [
        "from keras.models import Model\n",
        "from keras.layers import Input, LSTM, Dense\n",
        "\n",
        "n_units = 128\n",
        "\n",
        "# define training encoder\n",
        "encoder_inputs = Input(shape=(max_input_len))\n",
        "\n",
        "#encoder_embedding_layer = Embedding(num_words, EMBEDDING_SIZE, weights=[embedding_matrix], input_length=max_input_len)\n",
        "\n",
        "encoder_embedding_layer = Embedding(\n",
        "          input_dim=nb_words,  # definido en el Tokenizador\n",
        "          output_dim=embed_dim,  # dimensión de los embeddings utilizados\n",
        "          input_length=max_input_len, # tamaño máximo de la secuencia de entrada\n",
        "          weights=[embedding_matrix],  # matrix de embeddings\n",
        "          trainable=False)      # marcar como layer no entrenable\n",
        "\n",
        "encoder_inputs_x = encoder_embedding_layer(encoder_inputs)\n",
        "\n",
        "encoder = LSTM(n_units, return_state=True, dropout=0.2)\n",
        "encoder_outputs, state_h, state_c = encoder(encoder_inputs_x)\n",
        "encoder_states = [state_h, state_c]\n",
        "\n",
        "# define training decoder\n",
        "decoder_inputs = Input(shape=(max_out_len))\n",
        "decoder_embedding_layer = Embedding(input_dim=num_words_output, output_dim=n_units, input_length=max_out_len)\n",
        "decoder_inputs_x = decoder_embedding_layer(decoder_inputs)\n",
        "\n",
        "decoder_lstm = LSTM(n_units, return_sequences=True, return_state=True, dropout=0.2)\n",
        "decoder_outputs, _, _ = decoder_lstm(decoder_inputs_x, initial_state=encoder_states)\n",
        "\n",
        "# Dense\n",
        "decoder_dense = Dense(num_words_output, activation='softmax')\n",
        "decoder_outputs = decoder_dense(decoder_outputs)\n",
        "model = Model([encoder_inputs, decoder_inputs], decoder_outputs)\n",
        "\n",
        "model.compile(loss='categorical_crossentropy', optimizer=\"Adam\", metrics=['accuracy'])\n",
        "model.summary()"
      ],
      "metadata": {
        "_uuid": "4790cc44-ca40-476d-9a76-da47baac9aba",
        "_cell_guid": "4cfbed5f-212d-4656-80ba-d430f8d7e57c",
        "id": "t_urD1qO2kOx",
        "jupyter": {
          "outputs_hidden": false
        },
        "execution": {
          "iopub.status.busy": "2023-10-12T23:40:28.173288Z",
          "iopub.execute_input": "2023-10-12T23:40:28.174365Z",
          "iopub.status.idle": "2023-10-12T23:40:28.768365Z",
          "shell.execute_reply.started": "2023-10-12T23:40:28.174331Z",
          "shell.execute_reply": "2023-10-12T23:40:28.767624Z"
        },
        "trusted": true,
        "outputId": "7d98eb24-f108-495f-c71a-59ed44a671bd",
        "colab": {
          "base_uri": "https://localhost:8080/"
        }
      },
      "execution_count": 20,
      "outputs": [
        {
          "output_type": "stream",
          "name": "stdout",
          "text": [
            "Model: \"model\"\n",
            "__________________________________________________________________________________________________\n",
            " Layer (type)                Output Shape                 Param #   Connected to                  \n",
            "==================================================================================================\n",
            " input_1 (InputLayer)        [(None, 9)]                  0         []                            \n",
            "                                                                                                  \n",
            " input_2 (InputLayer)        [(None, 10)]                 0         []                            \n",
            "                                                                                                  \n",
            " embedding (Embedding)       (None, 9, 300)               539700    ['input_1[0][0]']             \n",
            "                                                                                                  \n",
            " embedding_1 (Embedding)     (None, 10, 128)              231296    ['input_2[0][0]']             \n",
            "                                                                                                  \n",
            " lstm (LSTM)                 [(None, 128),                219648    ['embedding[0][0]']           \n",
            "                              (None, 128),                                                        \n",
            "                              (None, 128)]                                                        \n",
            "                                                                                                  \n",
            " lstm_1 (LSTM)               [(None, 10, 128),            131584    ['embedding_1[0][0]',         \n",
            "                              (None, 128),                           'lstm[0][1]',                \n",
            "                              (None, 128)]                           'lstm[0][2]']                \n",
            "                                                                                                  \n",
            " dense (Dense)               (None, 10, 1807)             233103    ['lstm_1[0][0]']              \n",
            "                                                                                                  \n",
            "==================================================================================================\n",
            "Total params: 1355331 (5.17 MB)\n",
            "Trainable params: 815631 (3.11 MB)\n",
            "Non-trainable params: 539700 (2.06 MB)\n",
            "__________________________________________________________________________________________________\n"
          ]
        }
      ]
    },
    {
      "cell_type": "code",
      "source": [
        "# Modelo completo (encoder+decoder) para poder entrenar\n",
        "plot_model(model, to_file='model_plot.png', show_shapes=True, show_layer_names=True)"
      ],
      "metadata": {
        "_uuid": "d66c5266-0e90-4165-8310-c99ab65e107f",
        "_cell_guid": "0d517363-d633-49e9-8a96-90bddc42b68c",
        "id": "2ljAyiBbG10U",
        "jupyter": {
          "outputs_hidden": false
        },
        "execution": {
          "iopub.status.busy": "2023-10-12T23:40:28.769394Z",
          "iopub.execute_input": "2023-10-12T23:40:28.769742Z",
          "iopub.status.idle": "2023-10-12T23:40:28.892951Z",
          "shell.execute_reply.started": "2023-10-12T23:40:28.769710Z",
          "shell.execute_reply": "2023-10-12T23:40:28.892080Z"
        },
        "trusted": true,
        "outputId": "52cfd987-0d7f-4bc7-b8be-d401f435e196",
        "colab": {
          "base_uri": "https://localhost:8080/",
          "height": 533
        }
      },
      "execution_count": 21,
      "outputs": [
        {
          "output_type": "execute_result",
          "data": {
            "image/png": "[encoded data removed]",
            "text/plain": [
              "<IPython.core.display.Image object>"
            ]
          },
          "metadata": {},
          "execution_count": 21
        }
      ]
    },
    {
      "cell_type": "code",
      "source": [
        "# Modelo solo encoder\n",
        "\n",
        "# define inference encoder\n",
        "encoder_model = Model(encoder_inputs, encoder_states)\n",
        "\n",
        "plot_model(encoder_model, to_file='encoder_plot.png', show_shapes=True, show_layer_names=True)"
      ],
      "metadata": {
        "_uuid": "8a9d0473-e9c9-4208-883f-cdaa234a049f",
        "_cell_guid": "3b6b1edb-0804-48c1-917f-5df5525c9cfb",
        "id": "s1Wc1pnhIKJ6",
        "jupyter": {
          "outputs_hidden": false
        },
        "execution": {
          "iopub.status.busy": "2023-10-12T23:40:28.894328Z",
          "iopub.execute_input": "2023-10-12T23:40:28.894876Z",
          "iopub.status.idle": "2023-10-12T23:40:28.957736Z",
          "shell.execute_reply.started": "2023-10-12T23:40:28.894843Z",
          "shell.execute_reply": "2023-10-12T23:40:28.956682Z"
        },
        "trusted": true,
        "outputId": "4169ccae-0356-4d72-d80c-9a3b7a146cc1",
        "colab": {
          "base_uri": "https://localhost:8080/",
          "height": 312
        }
      },
      "execution_count": 22,
      "outputs": [
        {
          "output_type": "execute_result",
          "data": {
            "image/png": "[encoded data removed]",
            "text/plain": [
              "<IPython.core.display.Image object>"
            ]
          },
          "metadata": {},
          "execution_count": 22
        }
      ]
    },
    {
      "cell_type": "code",
      "source": [
        "# Modelo solo decoder (para realizar inferencia)\n",
        "\n",
        "# define inference decoder\n",
        "decoder_state_input_h = Input(shape=(n_units,))   #Capa de entrada\n",
        "decoder_state_input_c = Input(shape=(n_units,))   #Capa de entrada\n",
        "decoder_states_inputs = [decoder_state_input_h, decoder_state_input_c]    #Empaquetamos los inputs\n",
        "\n",
        "# En cada predicción habrá una sola palabra de entrada al decoder,\n",
        "# que es la realimentación de la palabra anterior\n",
        "# por lo que hay que modificar el input shape de la layer de Embedding\n",
        "decoder_inputs_single = Input(shape=(1,))\n",
        "decoder_inputs_single_x = decoder_embedding_layer(decoder_inputs_single)\n",
        "\n",
        "decoder_outputs, state_h, state_c = decoder_lstm(decoder_inputs_single_x, initial_state=decoder_states_inputs)\n",
        "decoder_states = [state_h, state_c]\n",
        "decoder_outputs = decoder_dense(decoder_outputs)\n",
        "decoder_model = Model([decoder_inputs_single] + decoder_states_inputs, [decoder_outputs] + decoder_states)\n",
        "\n",
        "plot_model(decoder_model, to_file='decoder_plot.png', show_shapes=True, show_layer_names=True)"
      ],
      "metadata": {
        "_uuid": "50084150-8d18-4274-a1a0-d35c891f9f5e",
        "_cell_guid": "2b6f4196-1fcd-435f-b491-5b6e632c45b7",
        "id": "L_xanat4INez",
        "jupyter": {
          "outputs_hidden": false
        },
        "execution": {
          "iopub.status.busy": "2023-10-12T23:40:28.959591Z",
          "iopub.execute_input": "2023-10-12T23:40:28.959970Z",
          "iopub.status.idle": "2023-10-12T23:40:29.272417Z",
          "shell.execute_reply.started": "2023-10-12T23:40:28.959933Z",
          "shell.execute_reply": "2023-10-12T23:40:29.271468Z"
        },
        "trusted": true,
        "outputId": "4652c5b4-1fa2-4c78-a88b-3a79d466be01",
        "colab": {
          "base_uri": "https://localhost:8080/",
          "height": 422
        }
      },
      "execution_count": 23,
      "outputs": [
        {
          "output_type": "execute_result",
          "data": {
            "image/png": "[encoded data removed]",
            "text/plain": [
              "<IPython.core.display.Image object>"
            ]
          },
          "metadata": {},
          "execution_count": 23
        }
      ]
    },
    {
      "cell_type": "code",
      "source": [
        "hist = model.fit(\n",
        "    [encoder_input_sequences, decoder_input_sequences],\n",
        "    decoder_targets,\n",
        "    epochs=50,\n",
        "    validation_split=0.2)"
      ],
      "metadata": {
        "_uuid": "64575025-ca32-40f8-922d-5188d2463e63",
        "_cell_guid": "4dec06e1-34d8-4954-8e71-2a2a7a25e34a",
        "id": "VnlIx1Vezjwc",
        "execution": {
          "iopub.status.busy": "2023-10-12T23:40:29.273929Z",
          "iopub.execute_input": "2023-10-12T23:40:29.274545Z",
          "iopub.status.idle": "2023-10-12T23:42:12.000037Z",
          "shell.execute_reply.started": "2023-10-12T23:40:29.274507Z",
          "shell.execute_reply": "2023-10-12T23:42:11.999016Z"
        },
        "trusted": true,
        "outputId": "f752ed39-32b6-4537-ceef-ccc92d695618",
        "colab": {
          "base_uri": "https://localhost:8080/"
        }
      },
      "execution_count": 24,
      "outputs": [
        {
          "output_type": "stream",
          "name": "stdout",
          "text": [
            "Epoch 1/50\n",
            "151/151 [==============================] - 19s 63ms/step - loss: 3.0711 - accuracy: 0.5147 - val_loss: 2.3032 - val_accuracy: 0.6283\n",
            "Epoch 2/50\n",
            "151/151 [==============================] - 3s 19ms/step - loss: 2.0989 - accuracy: 0.6209 - val_loss: 2.1145 - val_accuracy: 0.6547\n",
            "Epoch 3/50\n",
            "151/151 [==============================] - 2s 11ms/step - loss: 1.8410 - accuracy: 0.6757 - val_loss: 1.9251 - val_accuracy: 0.6910\n",
            "Epoch 4/50\n",
            "151/151 [==============================] - 2s 15ms/step - loss: 1.6522 - accuracy: 0.7137 - val_loss: 1.8365 - val_accuracy: 0.7011\n",
            "Epoch 5/50\n",
            "151/151 [==============================] - 2s 14ms/step - loss: 1.5473 - accuracy: 0.7228 - val_loss: 1.7819 - val_accuracy: 0.7075\n",
            "Epoch 6/50\n",
            "151/151 [==============================] - 2s 12ms/step - loss: 1.4696 - accuracy: 0.7329 - val_loss: 1.7431 - val_accuracy: 0.7127\n",
            "Epoch 7/50\n",
            "151/151 [==============================] - 2s 13ms/step - loss: 1.4097 - accuracy: 0.7388 - val_loss: 1.7158 - val_accuracy: 0.7129\n",
            "Epoch 8/50\n",
            "151/151 [==============================] - 2s 10ms/step - loss: 1.3612 - accuracy: 0.7426 - val_loss: 1.6941 - val_accuracy: 0.7171\n",
            "Epoch 9/50\n",
            "151/151 [==============================] - 2s 11ms/step - loss: 1.3216 - accuracy: 0.7470 - val_loss: 1.6839 - val_accuracy: 0.7194\n",
            "Epoch 10/50\n",
            "151/151 [==============================] - 2s 14ms/step - loss: 1.2886 - accuracy: 0.7508 - val_loss: 1.6706 - val_accuracy: 0.7214\n",
            "Epoch 11/50\n",
            "151/151 [==============================] - 2s 11ms/step - loss: 1.2560 - accuracy: 0.7554 - val_loss: 1.6589 - val_accuracy: 0.7242\n",
            "Epoch 12/50\n",
            "151/151 [==============================] - 2s 10ms/step - loss: 1.2303 - accuracy: 0.7593 - val_loss: 1.6551 - val_accuracy: 0.7248\n",
            "Epoch 13/50\n",
            "151/151 [==============================] - 2s 12ms/step - loss: 1.2062 - accuracy: 0.7613 - val_loss: 1.6545 - val_accuracy: 0.7284\n",
            "Epoch 14/50\n",
            "151/151 [==============================] - 2s 13ms/step - loss: 1.1846 - accuracy: 0.7637 - val_loss: 1.6514 - val_accuracy: 0.7278\n",
            "Epoch 15/50\n",
            "151/151 [==============================] - 2s 11ms/step - loss: 1.1641 - accuracy: 0.7659 - val_loss: 1.6456 - val_accuracy: 0.7310\n",
            "Epoch 16/50\n",
            "151/151 [==============================] - 2s 12ms/step - loss: 1.1443 - accuracy: 0.7680 - val_loss: 1.6436 - val_accuracy: 0.7303\n",
            "Epoch 17/50\n",
            "151/151 [==============================] - 2s 10ms/step - loss: 1.1260 - accuracy: 0.7694 - val_loss: 1.6470 - val_accuracy: 0.7312\n",
            "Epoch 18/50\n",
            "151/151 [==============================] - 1s 10ms/step - loss: 1.1085 - accuracy: 0.7706 - val_loss: 1.6484 - val_accuracy: 0.7308\n",
            "Epoch 19/50\n",
            "151/151 [==============================] - 1s 10ms/step - loss: 1.0920 - accuracy: 0.7717 - val_loss: 1.6467 - val_accuracy: 0.7332\n",
            "Epoch 20/50\n",
            "151/151 [==============================] - 2s 11ms/step - loss: 1.0764 - accuracy: 0.7739 - val_loss: 1.6494 - val_accuracy: 0.7332\n",
            "Epoch 21/50\n",
            "151/151 [==============================] - 2s 16ms/step - loss: 1.0604 - accuracy: 0.7766 - val_loss: 1.6540 - val_accuracy: 0.7330\n",
            "Epoch 22/50\n",
            "151/151 [==============================] - 2s 11ms/step - loss: 1.0452 - accuracy: 0.7773 - val_loss: 1.6529 - val_accuracy: 0.7350\n",
            "Epoch 23/50\n",
            "151/151 [==============================] - 2s 10ms/step - loss: 1.0312 - accuracy: 0.7798 - val_loss: 1.6532 - val_accuracy: 0.7344\n",
            "Epoch 24/50\n",
            "151/151 [==============================] - 2s 11ms/step - loss: 1.0171 - accuracy: 0.7803 - val_loss: 1.6592 - val_accuracy: 0.7345\n",
            "Epoch 25/50\n",
            "151/151 [==============================] - 2s 11ms/step - loss: 1.0028 - accuracy: 0.7812 - val_loss: 1.6586 - val_accuracy: 0.7369\n",
            "Epoch 26/50\n",
            "151/151 [==============================] - 2s 10ms/step - loss: 0.9898 - accuracy: 0.7824 - val_loss: 1.6634 - val_accuracy: 0.7354\n",
            "Epoch 27/50\n",
            "151/151 [==============================] - 2s 10ms/step - loss: 0.9770 - accuracy: 0.7834 - val_loss: 1.6647 - val_accuracy: 0.7360\n",
            "Epoch 28/50\n",
            "151/151 [==============================] - 2s 13ms/step - loss: 0.9649 - accuracy: 0.7856 - val_loss: 1.6729 - val_accuracy: 0.7363\n",
            "Epoch 29/50\n",
            "151/151 [==============================] - 2s 11ms/step - loss: 0.9521 - accuracy: 0.7870 - val_loss: 1.6788 - val_accuracy: 0.7360\n",
            "Epoch 30/50\n",
            "151/151 [==============================] - 2s 11ms/step - loss: 0.9402 - accuracy: 0.7891 - val_loss: 1.6801 - val_accuracy: 0.7372\n",
            "Epoch 31/50\n",
            "151/151 [==============================] - 2s 11ms/step - loss: 0.9281 - accuracy: 0.7912 - val_loss: 1.6850 - val_accuracy: 0.7368\n",
            "Epoch 32/50\n",
            "151/151 [==============================] - 2s 11ms/step - loss: 0.9169 - accuracy: 0.7933 - val_loss: 1.6891 - val_accuracy: 0.7378\n",
            "Epoch 33/50\n",
            "151/151 [==============================] - 1s 10ms/step - loss: 0.9058 - accuracy: 0.7959 - val_loss: 1.6921 - val_accuracy: 0.7369\n",
            "Epoch 34/50\n",
            "151/151 [==============================] - 1s 10ms/step - loss: 0.8949 - accuracy: 0.7971 - val_loss: 1.7006 - val_accuracy: 0.7392\n",
            "Epoch 35/50\n",
            "151/151 [==============================] - 2s 12ms/step - loss: 0.8844 - accuracy: 0.7984 - val_loss: 1.7086 - val_accuracy: 0.7372\n",
            "Epoch 36/50\n",
            "151/151 [==============================] - 2s 12ms/step - loss: 0.8743 - accuracy: 0.8012 - val_loss: 1.7108 - val_accuracy: 0.7369\n",
            "Epoch 37/50\n",
            "151/151 [==============================] - 2s 10ms/step - loss: 0.8645 - accuracy: 0.8008 - val_loss: 1.7132 - val_accuracy: 0.7379\n",
            "Epoch 38/50\n",
            "151/151 [==============================] - 2s 10ms/step - loss: 0.8558 - accuracy: 0.8026 - val_loss: 1.7164 - val_accuracy: 0.7376\n",
            "Epoch 39/50\n",
            "151/151 [==============================] - 1s 10ms/step - loss: 0.8450 - accuracy: 0.8034 - val_loss: 1.7211 - val_accuracy: 0.7371\n",
            "Epoch 40/50\n",
            "151/151 [==============================] - 2s 12ms/step - loss: 0.8363 - accuracy: 0.8059 - val_loss: 1.7316 - val_accuracy: 0.7368\n",
            "Epoch 41/50\n",
            "151/151 [==============================] - 2s 11ms/step - loss: 0.8282 - accuracy: 0.8064 - val_loss: 1.7357 - val_accuracy: 0.7379\n",
            "Epoch 42/50\n",
            "151/151 [==============================] - 2s 12ms/step - loss: 0.8200 - accuracy: 0.8085 - val_loss: 1.7405 - val_accuracy: 0.7396\n",
            "Epoch 43/50\n",
            "151/151 [==============================] - 2s 13ms/step - loss: 0.8117 - accuracy: 0.8094 - val_loss: 1.7471 - val_accuracy: 0.7383\n",
            "Epoch 44/50\n",
            "151/151 [==============================] - 1s 10ms/step - loss: 0.8037 - accuracy: 0.8109 - val_loss: 1.7578 - val_accuracy: 0.7370\n",
            "Epoch 45/50\n",
            "151/151 [==============================] - 1s 10ms/step - loss: 0.7962 - accuracy: 0.8120 - val_loss: 1.7600 - val_accuracy: 0.7365\n",
            "Epoch 46/50\n",
            "151/151 [==============================] - 1s 9ms/step - loss: 0.7875 - accuracy: 0.8130 - val_loss: 1.7708 - val_accuracy: 0.7366\n",
            "Epoch 47/50\n",
            "151/151 [==============================] - 2s 11ms/step - loss: 0.7808 - accuracy: 0.8139 - val_loss: 1.7721 - val_accuracy: 0.7376\n",
            "Epoch 48/50\n",
            "151/151 [==============================] - 1s 10ms/step - loss: 0.7720 - accuracy: 0.8154 - val_loss: 1.7810 - val_accuracy: 0.7356\n",
            "Epoch 49/50\n",
            "151/151 [==============================] - 1s 10ms/step - loss: 0.7667 - accuracy: 0.8163 - val_loss: 1.7896 - val_accuracy: 0.7370\n",
            "Epoch 50/50\n",
            "151/151 [==============================] - 2s 13ms/step - loss: 0.7592 - accuracy: 0.8164 - val_loss: 1.7891 - val_accuracy: 0.7356\n"
          ]
        }
      ]
    },
    {
      "cell_type": "code",
      "source": [
        "import matplotlib.pyplot as plt\n",
        "import seaborn as sns\n",
        "\n",
        "# Entrenamiento\n",
        "epoch_count = range(1, len(hist.history['accuracy']) + 1)\n",
        "sns.lineplot(x=epoch_count,  y=hist.history['accuracy'], label='train')\n",
        "sns.lineplot(x=epoch_count,  y=hist.history['val_accuracy'], label='valid')\n",
        "plt.show()"
      ],
      "metadata": {
        "_uuid": "8a8ed4cf-d5b5-4944-bf93-eb6d82855531",
        "_cell_guid": "c5a19e98-e6a2-4ba7-b573-5803d5054038",
        "id": "OVz1uug_zu2J",
        "execution": {
          "iopub.status.busy": "2023-10-12T23:42:12.001989Z",
          "iopub.execute_input": "2023-10-12T23:42:12.002642Z",
          "iopub.status.idle": "2023-10-12T23:42:12.602722Z",
          "shell.execute_reply.started": "2023-10-12T23:42:12.002606Z",
          "shell.execute_reply": "2023-10-12T23:42:12.601770Z"
        },
        "trusted": true,
        "outputId": "15c865c1-3e97-4c5d-a290-e7de26d8d112",
        "colab": {
          "base_uri": "https://localhost:8080/",
          "height": 430
        }
      },
      "execution_count": 25,
      "outputs": [
        {
          "output_type": "display_data",
          "data": {
            "text/plain": [
              "<Figure size 640x480 with 1 Axes>"
            ],
            "image/png": "[encoded data removed]"
          },
          "metadata": {}
        }
      ]
    },
    {
      "cell_type": "markdown",
      "source": [
        "### 5 - Inferencia\n",
        "Experimentar el funcionamiento de su modelo. Recuerde que debe realizar la inferencia de los modelos por separado de encoder y decoder."
      ],
      "metadata": {
        "_uuid": "36a93720-8f00-460c-a813-70176e78d7c4",
        "_cell_guid": "d1b6b331-1343-4c44-90a0-c444937b087a",
        "id": "Zbwn0ekDy_s2",
        "trusted": true
      }
    },
    {
      "cell_type": "code",
      "source": [
        "'''\n",
        "Step 1:\n",
        "A deal is a deal -> Encoder -> enc(h1,c1)\n",
        "\n",
        "enc(h1,c1) + <sos> -> Decoder -> Un + dec(h1,c1)\n",
        "\n",
        "step 2:\n",
        "dec(h1,c1) + Un -> Decoder -> trato + dec(h2,c2)\n",
        "\n",
        "step 3:\n",
        "dec(h2,c2) + trato -> Decoder -> es + dec(h3,c3)\n",
        "\n",
        "step 4:\n",
        "dec(h3,c3) + es -> Decoder -> un + dec(h4,c4)\n",
        "\n",
        "step 5:\n",
        "dec(h4,c4) + un -> Decoder -> trato + dec(h5,c5)\n",
        "\n",
        "step 6:\n",
        "dec(h5,c5) + trato. -> Decoder -> <eos> + dec(h6,c6)\n",
        "'''"
      ],
      "metadata": {
        "_uuid": "7ec9a642-fea8-4559-8a4f-625f453074ab",
        "_cell_guid": "8cb3f949-8825-4334-adfa-5ce74b618947",
        "id": "jnkl3mSpsU_7",
        "jupyter": {
          "outputs_hidden": false
        },
        "execution": {
          "iopub.status.busy": "2023-10-12T23:42:12.604007Z",
          "iopub.execute_input": "2023-10-12T23:42:12.604870Z",
          "iopub.status.idle": "2023-10-12T23:42:12.612349Z",
          "shell.execute_reply.started": "2023-10-12T23:42:12.604834Z",
          "shell.execute_reply": "2023-10-12T23:42:12.611376Z"
        },
        "trusted": true,
        "outputId": "92a1e9e5-5591-4228-90d1-7d2785cd6bd9",
        "colab": {
          "base_uri": "https://localhost:8080/",
          "height": 70
        }
      },
      "execution_count": 26,
      "outputs": [
        {
          "output_type": "execute_result",
          "data": {
            "text/plain": [
              "'\\nStep 1:\\nA deal is a deal -> Encoder -> enc(h1,c1)\\n\\nenc(h1,c1) + <sos> -> Decoder -> Un + dec(h1,c1)\\n\\nstep 2:\\ndec(h1,c1) + Un -> Decoder -> trato + dec(h2,c2)\\n\\nstep 3:\\ndec(h2,c2) + trato -> Decoder -> es + dec(h3,c3)\\n\\nstep 4:\\ndec(h3,c3) + es -> Decoder -> un + dec(h4,c4)\\n\\nstep 5:\\ndec(h4,c4) + un -> Decoder -> trato + dec(h5,c5)\\n\\nstep 6:\\ndec(h5,c5) + trato. -> Decoder -> <eos> + dec(h6,c6)\\n'"
            ],
            "application/vnd.google.colaboratory.intrinsic+json": {
              "type": "string"
            }
          },
          "metadata": {},
          "execution_count": 26
        }
      ]
    },
    {
      "cell_type": "code",
      "source": [
        "# Armar los conversores de índice a palabra:\n",
        "idx2word_input = {v:k for k, v in word2idx_inputs.items()}\n",
        "idx2word_target = {v:k for k, v in word2idx_outputs.items()}"
      ],
      "metadata": {
        "_uuid": "53a6eefb-633d-4e75-9c75-773b5ba002c6",
        "_cell_guid": "ebc5ac33-28e3-46f7-8e97-0016e80ee742",
        "id": "71XeCtfYmOFx",
        "jupyter": {
          "outputs_hidden": false
        },
        "execution": {
          "iopub.status.busy": "2023-10-12T23:42:12.613884Z",
          "iopub.execute_input": "2023-10-12T23:42:12.614709Z",
          "iopub.status.idle": "2023-10-12T23:42:12.622850Z",
          "shell.execute_reply.started": "2023-10-12T23:42:12.614686Z",
          "shell.execute_reply": "2023-10-12T23:42:12.621923Z"
        },
        "trusted": true
      },
      "execution_count": 27,
      "outputs": []
    },
    {
      "cell_type": "code",
      "source": [
        "def translate_sentence(input_seq):\n",
        "    # Se transforma la sequencia de entrada a los estados \"h\" y \"c\" de la LSTM\n",
        "    # para enviar la primera vez al decoder\n",
        "    states_value = encoder_model.predict(input_seq)\n",
        "\n",
        "    # Se inicializa la secuencia de entrada al decoder como \"<sos>\"\n",
        "    target_seq = np.zeros((1, 1))\n",
        "    target_seq[0, 0] = word2idx_outputs['<sos>']\n",
        "\n",
        "    # Se obtiene el índice que finaliza la inferencia\n",
        "    eos = word2idx_outputs['<eos>']\n",
        "\n",
        "    output_sentence = []\n",
        "    for _ in range(max_out_len):\n",
        "        # Predicción del próximo elemento\n",
        "        output_tokens, h, c = decoder_model.predict([target_seq] + states_value)\n",
        "        idx = np.argmax(output_tokens[0, 0, :])\n",
        "\n",
        "        # Si es \"end of sentece <eos>\" se acaba\n",
        "        if eos == idx:\n",
        "            break\n",
        "\n",
        "        # Transformar idx a palabra\n",
        "        word = ''\n",
        "        if idx > 0:\n",
        "            word = idx2word_target[idx]\n",
        "            output_sentence.append(word)\n",
        "\n",
        "        # Actualizar los estados dada la última predicción\n",
        "        states_value = [h, c]\n",
        "\n",
        "        # Actualizar secuencia de entrada con la salida (re-alimentación)\n",
        "        target_seq[0, 0] = idx\n",
        "\n",
        "    return ' '.join(output_sentence)"
      ],
      "metadata": {
        "_uuid": "0eb31a1a-ffee-42d7-9de3-652e3cc66651",
        "_cell_guid": "25c1b5f3-534b-48f7-8d2f-82dcea145d9e",
        "id": "MlUyp9M6ua2V",
        "jupyter": {
          "outputs_hidden": false
        },
        "execution": {
          "iopub.status.busy": "2023-10-12T23:42:12.627390Z",
          "iopub.execute_input": "2023-10-12T23:42:12.627675Z",
          "iopub.status.idle": "2023-10-12T23:42:12.635823Z",
          "shell.execute_reply.started": "2023-10-12T23:42:12.627653Z",
          "shell.execute_reply": "2023-10-12T23:42:12.634772Z"
        },
        "trusted": true
      },
      "execution_count": 28,
      "outputs": []
    },
    {
      "cell_type": "code",
      "source": [
        "i = np.random.choice(len(input_sentences))\n",
        "input_seq = encoder_input_sequences[i:i+1]\n",
        "translation = translate_sentence(input_seq)\n",
        "print('-')\n",
        "print('Input:', input_sentences[i])\n",
        "print('Response:', translation)"
      ],
      "metadata": {
        "_uuid": "7a00bbd4-4c94-4d3f-8c42-ce80732d5ad2",
        "_cell_guid": "05fd821a-d7ee-453c-9380-e5f37a03366c",
        "id": "ZhGVjLKcunxW",
        "jupyter": {
          "outputs_hidden": false
        },
        "execution": {
          "iopub.status.busy": "2023-10-12T23:42:29.208121Z",
          "iopub.execute_input": "2023-10-12T23:42:29.208474Z",
          "iopub.status.idle": "2023-10-12T23:42:29.759993Z",
          "shell.execute_reply.started": "2023-10-12T23:42:29.208445Z",
          "shell.execute_reply": "2023-10-12T23:42:29.759038Z"
        },
        "trusted": true,
        "outputId": "f8e246c0-73fc-44d7-80f3-92664fa761a9",
        "colab": {
          "base_uri": "https://localhost:8080/"
        }
      },
      "execution_count": 45,
      "outputs": [
        {
          "output_type": "stream",
          "name": "stdout",
          "text": [
            "1/1 [==============================] - 0s 21ms/step\n",
            "1/1 [==============================] - 0s 21ms/step\n",
            "1/1 [==============================] - 0s 21ms/step\n",
            "1/1 [==============================] - 0s 21ms/step\n",
            "1/1 [==============================] - 0s 18ms/step\n",
            "1/1 [==============================] - 0s 19ms/step\n",
            "-\n",
            "Input: hello\n",
            "Response: hello how are you\n"
          ]
        }
      ]
    },
    {
      "cell_type": "code",
      "source": [
        "input_test = \"What do you do for living?\"\n",
        "print('Input:', input_test)\n",
        "integer_seq_test = input_tokenizer.texts_to_sequences([input_test])[0]\n",
        "print(\"Representacion en vector de tokens de ids\", integer_seq_test)\n",
        "encoder_sequence_test = pad_sequences([integer_seq_test], maxlen=max_input_len)\n",
        "print(\"Padding del vector:\", encoder_sequence_test)\n",
        "\n",
        "print('Input:', input_test)\n",
        "translation = translate_sentence(encoder_sequence_test)\n",
        "print('Response:', translation)"
      ],
      "metadata": {
        "_uuid": "faaba86d-900d-4630-a263-91832f7b76d4",
        "_cell_guid": "7dc9e00c-7f9a-4a96-b046-dd930a294ee3",
        "id": "KYZ1Q_Z_2G4m",
        "jupyter": {
          "outputs_hidden": false
        },
        "execution": {
          "iopub.status.busy": "2023-10-12T23:44:11.124962Z",
          "iopub.execute_input": "2023-10-12T23:44:11.125406Z",
          "iopub.status.idle": "2023-10-12T23:44:11.854678Z",
          "shell.execute_reply.started": "2023-10-12T23:44:11.125373Z",
          "shell.execute_reply": "2023-10-12T23:44:11.853539Z"
        },
        "trusted": true,
        "outputId": "f4d5c126-ea45-4eb2-d4e0-74aa53726e2c",
        "colab": {
          "base_uri": "https://localhost:8080/"
        }
      },
      "execution_count": 46,
      "outputs": [
        {
          "output_type": "stream",
          "name": "stdout",
          "text": [
            "Input: What do you do for living?\n",
            "Representacion en vector de tokens de ids [4, 3, 2, 3, 8, 13]\n",
            "Padding del vector: [[ 0  0  0  4  3  2  3  8 13]]\n",
            "Input: What do you do for living?\n",
            "1/1 [==============================] - 0s 31ms/step\n",
            "1/1 [==============================] - 0s 33ms/step\n",
            "1/1 [==============================] - 0s 30ms/step\n",
            "1/1 [==============================] - 0s 39ms/step\n",
            "1/1 [==============================] - 0s 51ms/step\n",
            "1/1 [==============================] - 0s 39ms/step\n",
            "Response: i am a student\n"
          ]
        }
      ]
    }
  ]
}