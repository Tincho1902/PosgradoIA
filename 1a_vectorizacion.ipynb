{
  "cells": [
    {
      "cell_type": "markdown",
      "metadata": {
        "id": "view-in-github",
        "colab_type": "text"
      },
      "source": [
        "<a href=\"https://colab.research.google.com/github/Tincho1902/PosgradoIA/blob/main/1a_vectorizacion.ipynb\" target=\"_parent\"><img src=\"https://colab.research.google.com/assets/colab-badge.svg\" alt=\"Open In Colab\"/></a>"
      ]
    },
    {
      "cell_type": "markdown",
      "metadata": {
        "id": "Ue5hxxkdAQJg"
      },
      "source": [
        "<img src=\"https://github.com/FIUBA-Posgrado-Inteligencia-Artificial/procesamiento_lenguaje_natural/raw/main/logoFIUBA.jpg\" width=\"500\" align=\"center\">\n",
        "\n",
        "\n",
        "# Procesamiento de lenguaje natural\n",
        "## Vectorización\n"
      ]
    },
    {
      "cell_type": "code",
      "execution_count": 159,
      "metadata": {
        "id": "kCED1hh-Ioyf"
      },
      "outputs": [],
      "source": [
        "import numpy as np"
      ]
    },
    {
      "cell_type": "code",
      "execution_count": 160,
      "metadata": {
        "id": "PUbfVnzIIoMj"
      },
      "outputs": [],
      "source": [
        "def cosine_similarity(a, b):\n",
        "    return np.dot(a, b) / (np.linalg.norm(a) * (np.linalg.norm(b)))"
      ]
    },
    {
      "cell_type": "markdown",
      "metadata": {
        "id": "DMOa4JPSCJ29"
      },
      "source": [
        "### Datos"
      ]
    },
    {
      "cell_type": "code",
      "execution_count": 161,
      "metadata": {
        "id": "RIO7b8GjAC17"
      },
      "outputs": [],
      "source": [
        "corpus = np.array(['que dia es hoy', 'martes el dia de hoy es martes', 'martes muchas gracias'])"
      ]
    },
    {
      "cell_type": "markdown",
      "metadata": {
        "id": "8WqdaTmO8P1r"
      },
      "source": [
        "Documento 1 --> que dia es hoy \\\n",
        "Documento 2 --> martes el dia de hoy es martes \\\n",
        "Documento 3 --> martes muchas gracias"
      ]
    },
    {
      "cell_type": "markdown",
      "metadata": {
        "id": "FVHxBRNzCMOS"
      },
      "source": [
        "### 1 - Obtener el vocabulario del corpus (los términos utilizados)\n",
        "- Cada documento transformarlo en una lista de términos\n",
        "- Armar un vector de términos no repetidos de todos los documentos"
      ]
    },
    {
      "cell_type": "code",
      "execution_count": 162,
      "metadata": {
        "id": "3ZqTOZzDI7uv",
        "colab": {
          "base_uri": "https://localhost:8080/"
        },
        "outputId": "1f7e58fc-8638-4a7f-cab9-33c493acedaf"
      },
      "outputs": [
        {
          "output_type": "stream",
          "name": "stdout",
          "text": [
            "[list(['que', 'dia', 'es', 'hoy'])\n",
            " list(['martes', 'el', 'dia', 'de', 'hoy', 'es', 'martes'])\n",
            " list(['martes', 'muchas', 'gracias'])]\n",
            "['de' 'dia' 'el' 'es' 'gracias' 'hoy' 'martes' 'muchas' 'que']\n"
          ]
        }
      ],
      "source": [
        "# Transformo cada documento en una lista de términos\n",
        "\n",
        "corpus_list = np.char.split(corpus)\n",
        "print(corpus_list)\n",
        "\n",
        "# Vector con las palabras presentes en mi corpus\n",
        "univ_palab = []\n",
        "for sublist in corpus_list:\n",
        "    univ_palab.extend(sublist)\n",
        "univ_palab = np.unique(univ_palab)\n",
        "print(univ_palab)\n"
      ]
    },
    {
      "cell_type": "markdown",
      "metadata": {
        "id": "RUhH983FI7It"
      },
      "source": [
        "### 2- OneHot encoding\n",
        "Data una lista de textos, devolver una matriz con la representación oneHotEncoding de estos"
      ]
    },
    {
      "cell_type": "code",
      "execution_count": 163,
      "metadata": {
        "id": "Os0AAQo6I6Z1",
        "colab": {
          "base_uri": "https://localhost:8080/"
        },
        "outputId": "db8b7afb-1d1a-4dca-a0ba-015852de8d61"
      },
      "outputs": [
        {
          "output_type": "stream",
          "name": "stdout",
          "text": [
            "[[0 1 0 1 0 1 0 0 1]\n",
            " [1 1 1 1 0 1 2 0 0]\n",
            " [0 0 0 0 1 0 1 1 0]]\n"
          ]
        }
      ],
      "source": [
        "# Creo un diccionario\n",
        "diccionario = {}\n",
        "for index, palabra in enumerate(sorted(list(univ_palab))):\n",
        "  diccionario[palabra] = index\n",
        "\n",
        "# Luego genero los vectores de cada documento\n",
        "vector = np.zeros((len(corpus_list),len(univ_palab)), dtype=int)\n",
        "for idx, doc in enumerate(corpus):\n",
        "  for palabra in corpus_list[idx]:\n",
        "    col = diccionario.get(palabra)\n",
        "    vector[idx, col] += 1\n",
        "    #print('Palabra:', palabra, '\\t| Pos:',col,'| Idx:', idx,'\\n', vector)\n",
        "#print(univ_palab,'\\n', corpus_list)\n",
        "print(vector)"
      ]
    },
    {
      "cell_type": "markdown",
      "metadata": {
        "id": "IIyWGmCpJVQL"
      },
      "source": [
        "### 3- Vectores de frecuencia\n",
        "Data una lista de textos, devolver una matriz con la representación de frecuencia de estos"
      ]
    },
    {
      "cell_type": "code",
      "source": [
        "np.set_printoptions(precision=3)"
      ],
      "metadata": {
        "id": "r0dnZsCEEJfD"
      },
      "execution_count": 164,
      "outputs": []
    },
    {
      "cell_type": "code",
      "execution_count": 165,
      "metadata": {
        "id": "yqij_7eHJbUi",
        "colab": {
          "base_uri": "https://localhost:8080/"
        },
        "outputId": "34146026-751e-4031-c89e-2d0e94a04068"
      },
      "outputs": [
        {
          "output_type": "stream",
          "name": "stdout",
          "text": [
            "[1.099 0.405 1.099 0.405 1.099 0.405 0.405 1.099 1.099]\n"
          ]
        }
      ],
      "source": [
        "# Cuento aparicion de cada palabra\n",
        "frec = np.zeros((len(univ_palab)), dtype=int)\n",
        "for idx, doc in enumerate(corpus):\n",
        "  for palabra in np.unique(corpus_list[idx]):\n",
        "    col = diccionario.get(palabra)\n",
        "    frec[col] += 1\n",
        "#print(frec)\n",
        "\n",
        "# Calculo el log(N/DF)\n",
        "N = np.ones((len(univ_palab)), dtype=int)*len(corpus_list)\n",
        "DF = frec\n",
        "idf = np.log(N/DF)\n",
        "print(idf)"
      ]
    },
    {
      "cell_type": "markdown",
      "metadata": {
        "id": "z_Ot8HvWJcBu"
      },
      "source": [
        "### 4- TF-IDF\n",
        "Data una lista de textos, devolver una matriz con la representacion TFIDF"
      ]
    },
    {
      "cell_type": "code",
      "execution_count": 166,
      "metadata": {
        "id": "waG_oWtpJjRw",
        "colab": {
          "base_uri": "https://localhost:8080/"
        },
        "outputId": "cfce04f0-7db5-48f7-9524-f9a71e769ea0"
      },
      "outputs": [
        {
          "output_type": "stream",
          "name": "stdout",
          "text": [
            "[[0.    0.405 0.    0.405 0.    0.405 0.    0.    1.099]\n",
            " [1.099 0.405 1.099 0.405 0.    0.405 0.811 0.    0.   ]\n",
            " [0.    0.    0.    0.    1.099 0.    0.405 1.099 0.   ]]\n"
          ]
        }
      ],
      "source": [
        "print(vector*idf)"
      ]
    },
    {
      "cell_type": "markdown",
      "metadata": {
        "id": "xMcsfndWJjm_"
      },
      "source": [
        "### 5 - Comparación de documentos\n",
        "Realizar una funcion que reciba el corpus y el índice de un documento y devuelva los documentos ordenados por la similitud coseno"
      ]
    },
    {
      "cell_type": "code",
      "execution_count": 201,
      "metadata": {
        "id": "CZdiop6IJpZN"
      },
      "outputs": [],
      "source": [
        "def comparacion_documentos(corpus, ind):\n",
        "  # Transformo cada documento en una lista de términos\n",
        "  corpus_list = np.char.split(corpus)\n",
        "\n",
        "  # Vector con las palabras presentes en mi corpus\n",
        "  univ_palab = []\n",
        "  for sublist in corpus_list:\n",
        "      univ_palab.extend(sublist)\n",
        "  univ_palab = np.unique(univ_palab)\n",
        "  # Creo un diccionario\n",
        "  diccionario = {}\n",
        "  for index, palabra in enumerate(sorted(list(univ_palab))):\n",
        "    diccionario[palabra] = index\n",
        "  # Luego genero los vectores de cada documento\n",
        "  vector = np.zeros((len(corpus_list),len(univ_palab)), dtype=int)\n",
        "  for idx, doc in enumerate(corpus):\n",
        "    for palabra in corpus_list[idx]:\n",
        "      col = diccionario.get(palabra)\n",
        "      vector[idx, col] += 1\n",
        "  frec = np.zeros((len(univ_palab)), dtype=int)\n",
        "  for idx, doc in enumerate(corpus):\n",
        "    for palabra in np.unique(corpus_list[idx]):\n",
        "      col = diccionario.get(palabra)\n",
        "      frec[col] += 1\n",
        "  # Calculo el log(N/DF)\n",
        "  N = np.ones((len(univ_palab)), dtype=int)*len(corpus_list)\n",
        "  DF = frec\n",
        "  idf = np.log(N/DF)\n",
        "  # Calculo la matriz TF-IDF\n",
        "  matriz_tfidf = vector*idf\n",
        "  # Busco la similitud coseno del documento seleccionado con el index y el resto del corpus\n",
        "  similitud = np.zeros(len(corpus))\n",
        "  for i in range(len(corpus)):\n",
        "    similitud[i] = cosine_similarity(matriz_tfidf[ind], matriz_tfidf[i])\n",
        "  # Ordeno segun similitud\n",
        "  indices_ordenados = np.argsort(similitud)[::-1]\n",
        "  # Devuelve los documentos ordenados por similitud coseno\n",
        "  documentos_ordenados = [(corpus[i], similitud[i]) for i in indices_ordenados]\n",
        "\n",
        "  return documentos_ordenados"
      ]
    },
    {
      "cell_type": "code",
      "source": [
        "corpus_2 = np.array(['el sol brilla sobre las hojas del otoño',\n",
        "                     'un gato duerme',\n",
        "                     'mi perro duerme',\n",
        "                     'el perro es blanco',\n",
        "                     'nubes en el cielo',\n",
        "                     'hojas caen al suelo',\n",
        "                     'el viento sopla sobre el suelo',\n",
        "                     'mis gatos juegan con mi perro',\n",
        "                     'los perros corren',\n",
        "                     'perros y gatos juegan'\n",
        "          ])"
      ],
      "metadata": {
        "id": "8liXu2PrRcON"
      },
      "execution_count": 211,
      "outputs": []
    },
    {
      "cell_type": "code",
      "source": [
        "comparacion_documentos(corpus_2,9)"
      ],
      "metadata": {
        "colab": {
          "base_uri": "https://localhost:8080/"
        },
        "id": "Myh1_KAvOxUl",
        "outputId": "8035eb4c-2a6a-4e93-f4d5-f372ef71d282"
      },
      "execution_count": 213,
      "outputs": [
        {
          "output_type": "execute_result",
          "data": {
            "text/plain": [
              "[('perros y gatos juegan', 1.0000000000000002),\n",
              " ('mis gatos juegan con mi perro', 0.32180784028705395),\n",
              " ('los perros corren', 0.1972309157563855),\n",
              " ('el viento sopla sobre el suelo', 0.0),\n",
              " ('hojas caen al suelo', 0.0),\n",
              " ('nubes en el cielo', 0.0),\n",
              " ('el perro es blanco', 0.0),\n",
              " ('mi perro duerme', 0.0),\n",
              " ('un gato duerme', 0.0),\n",
              " ('el sol brilla sobre las hojas del otoño', 0.0)]"
            ]
          },
          "metadata": {},
          "execution_count": 213
        }
      ]
    }
  ],
  "metadata": {
    "colab": {
      "provenance": [],
      "include_colab_link": true
    },
    "kernelspec": {
      "display_name": "Python 3",
      "name": "python3"
    },
    "language_info": {
      "name": "python"
    }
  },
  "nbformat": 4,
  "nbformat_minor": 0
}