{
 "cells": [
  {
   "cell_type": "code",
   "execution_count": 1,
   "metadata": {},
   "outputs": [],
   "source": [
    "import numpy as np"
   ]
  },
  {
   "cell_type": "markdown",
   "metadata": {},
   "source": [
    "#### Ejecicio #1:    Operaciones Matriciales\n",
    "Dada una matriz en formato numpy array, donde cada fila de la matriz representa un vector matemático: \n",
    "* Computar las normas l0, l1, l2, l-infinito"
   ]
  },
  {
   "cell_type": "markdown",
   "metadata": {},
   "source": [
    "* l0: número de elementos diferentes a cero en el vector"
   ]
  },
  {
   "cell_type": "code",
   "execution_count": 2,
   "metadata": {},
   "outputs": [],
   "source": [
    "def norma_0(vector):\n",
    "  suma = []\n",
    "  for v in range(len(vector)):\n",
    "    sum = 0\n",
    "    for e in range(len(vector[v])):\n",
    "      if (vector[v][e])!= 0:\n",
    "        sum += 1\n",
    "    suma.append(sum)\n",
    "  return suma"
   ]
  },
  {
   "cell_type": "code",
   "execution_count": 3,
   "metadata": {},
   "outputs": [],
   "source": [
    "A = np.array([[2, 3, 2],[0, 1, 2],[3, 2, 1]])"
   ]
  },
  {
   "cell_type": "code",
   "execution_count": 4,
   "metadata": {},
   "outputs": [
    {
     "name": "stdout",
     "output_type": "stream",
     "text": [
      "[3, 2, 3]\n"
     ]
    }
   ],
   "source": [
    "mod_0 = norma_0(A)\n",
    "print(mod_0)"
   ]
  },
  {
   "cell_type": "markdown",
   "metadata": {},
   "source": [
    "* l1-l2: \n",
    "    ![](https://latex.codecogs.com/svg.latex?%7B%5Ccolor%7BOrange%7D%20%5Cleft%20%5C%7C%20x%20%5Cright%20%5C%7C_%7Bp%7D%20%3D%20%5Cleft%20%28%20%5Csum_%7B1%7D%5E%7Bn%7D%20%5Cleft%20%7C%20x_%7Bi%7D%20%5Cright%20%7C%5Ep%20%5Cright%20%29%5E%7B%5Ctfrac%7B1%7D%7Bp%7D%7D%7D)"
   ]
  },
  {
   "cell_type": "code",
   "execution_count": 5,
   "metadata": {},
   "outputs": [],
   "source": [
    "def norma_p(n, vector):\n",
    "  suma = []\n",
    "  for v in range(len(vector)):\n",
    "    sum = 0\n",
    "    for e in range(len(vector[v])):\n",
    "      sum += (abs(vector[v][e])**n)\n",
    "    sum = sum**(1/n)\n",
    "    suma.append(sum)\n",
    "    \n",
    "  return suma"
   ]
  },
  {
   "cell_type": "code",
   "execution_count": 6,
   "metadata": {},
   "outputs": [
    {
     "name": "stdout",
     "output_type": "stream",
     "text": [
      "[7.0, 3.0, 6.0]\n"
     ]
    }
   ],
   "source": [
    "mod_1 = norma_p(1, A)\n",
    "print(mod_1)"
   ]
  },
  {
   "cell_type": "code",
   "execution_count": 7,
   "metadata": {},
   "outputs": [
    {
     "name": "stdout",
     "output_type": "stream",
     "text": [
      "[4.123105625617661, 2.23606797749979, 3.7416573867739413]\n"
     ]
    }
   ],
   "source": [
    "mod_2 = norma_p(2, A)\n",
    "print(mod_2)"
   ]
  },
  {
   "cell_type": "markdown",
   "metadata": {},
   "source": [
    "* l-infinito:\n",
    "     ![](https://latex.codecogs.com/svg.latex?%7B%5Ccolor%7BOrange%7D%20%5Cleft%20%5C%7C%20x%20%5Cright%20%5C%7C_%7B%5Cinfty%7D%20%3D%20max_%7Bi%7D%20%5Cleft%20%7C%20x_%7Bi%7D%20%5Cright%20%7C%7D)"
   ]
  },
  {
   "cell_type": "code",
   "execution_count": 8,
   "metadata": {},
   "outputs": [],
   "source": [
    "def norma_inf(vector):\n",
    "  max = np.amax(vector,axis=1)\n",
    "  return max"
   ]
  },
  {
   "cell_type": "markdown",
   "metadata": {},
   "source": [
    "#### Ejecicio #2:    Sorting :house:\n",
    "Dada una matriz en formato numpy array, donde cada fila de la matriz representa un vector matemático, se requiere computar la norma l2 de cada vector.\n",
    "Una vez obtenida la norma, se debe ordenar las mísmas de mayor a menor. Finalmente, obtener la matriz original ordenada por fila según la norma l2.\n",
    "\n",
    "_Todas las operaciones debe ser vectorizadas._"
   ]
  },
  {
   "cell_type": "code",
   "execution_count": 9,
   "metadata": {},
   "outputs": [],
   "source": [
    "# Defino nuevamente la matriz original\n",
    "\n",
    "mod = norma_p(2,A)  # Vector con la norma |2|"
   ]
  },
  {
   "cell_type": "code",
   "execution_count": 10,
   "metadata": {},
   "outputs": [
    {
     "data": {
      "text/plain": [
       "array([[2.        , 3.        , 2.        , 4.12310563],\n",
       "       [0.        , 1.        , 2.        , 2.23606798],\n",
       "       [3.        , 2.        , 1.        , 3.74165739]])"
      ]
     },
     "execution_count": 10,
     "metadata": {},
     "output_type": "execute_result"
    }
   ],
   "source": [
    "Aaux = np.c_[ A, mod ] # Agrego la matriz con la norma de cada vector\n",
    "Aaux"
   ]
  },
  {
   "cell_type": "code",
   "execution_count": 11,
   "metadata": {},
   "outputs": [
    {
     "data": {
      "text/plain": [
       "array([[2.        , 3.        , 2.        , 4.12310563],\n",
       "       [3.        , 2.        , 1.        , 3.74165739],\n",
       "       [0.        , 1.        , 2.        , 2.23606798]])"
      ]
     },
     "execution_count": 11,
     "metadata": {},
     "output_type": "execute_result"
    }
   ],
   "source": [
    "n = len(A) # Define n como la ultima columna de A\n",
    "Aaux = Aaux[ Aaux[:, n].argsort()[::-1]] # Ordena la matriz por la columna n, [::-1] ordena de mayor a menor\n",
    "Aaux"
   ]
  },
  {
   "cell_type": "code",
   "execution_count": 12,
   "metadata": {},
   "outputs": [
    {
     "data": {
      "text/plain": [
       "array([[2., 3., 2.],\n",
       "       [3., 2., 1.],\n",
       "       [0., 1., 2.]])"
      ]
     },
     "execution_count": 12,
     "metadata": {},
     "output_type": "execute_result"
    }
   ],
   "source": [
    "b = np.delete(Aaux, np.s_[-1:], axis=1) # Elimino la ultima columna y queda la matriz A ordenada segun la norma de su vector de mayor a menor\n",
    "b"
   ]
  },
  {
   "cell_type": "markdown",
   "metadata": {},
   "source": [
    "#### Ejecicio #4:    Precision, Recall, Accuracy :house:\n",
    "En los problemas de clasificación, se cuenta con dos arreglos, la **verdad** (ground truth) y la **predicción** (prediction). \n",
    "Cada elemento de los arreglos puede tomar dos valores: _True_ (representado por 1) y _False_ (representado por 0). \n",
    "Por lo tanto, se pueden definir cuatro variables:\n",
    "* True Positive (TP): la verdad es 1 y la predicción es 1.\n",
    "* True Negative (TN): la verdad es 0 y la predicción es 0.\n",
    "* False Negative (FN): la verdad es 1 y la predicción es 0.\n",
    "* False Positive (FP): la verdad es 0 y la predicción es 1.\n",
    "\n",
    "A partir de esas cuatro variables, se definen las siguientes métricas:\n",
    "* Precision = TP / (TP + FP)\n",
    "* Recall = TP / (TP + FN)\n",
    "* Accuracy = (TP + TN) / (TP + TN + FP + FN)\n",
    "\n",
    "Para los siguientes arreglos, representando la **verdad** y la **predicción**,\n",
    "calcular las métricas anteriores con operaciones vectorizadas en NumPy.\n",
    "* truth = [1,1,0,1,1,1,0,0,0,1]\n",
    "* prediction = [1,1,1,1,0,0,1,1,0,0]"
   ]
  },
  {
   "cell_type": "code",
   "execution_count": 21,
   "metadata": {},
   "outputs": [],
   "source": [
    "truth = np.array([1,1,0,1,1,1,0,0,0,1])\n",
    "prediction = np.array([1,1,1,1,0,0,1,1,0,0]) "
   ]
  },
  {
   "cell_type": "code",
   "execution_count": 34,
   "metadata": {},
   "outputs": [],
   "source": [
    "def performance_measure(y_true, y_pred):\n",
    "    TP = 0\n",
    "    FP = 0\n",
    "    TN = 0\n",
    "    FN = 0\n",
    "\n",
    "    for i in range(len(y_pred)): \n",
    "        if y_true[i]==y_pred[i]==1:\n",
    "           TP += 1\n",
    "        if y_pred[i]==1 and y_true[i]!=y_pred[i]:\n",
    "           FP += 1\n",
    "        if y_true[i]==y_pred[i]==0:\n",
    "           TN += 1\n",
    "        if y_pred[i]==0 and y_true[i]!=y_pred[i]:\n",
    "           FN += 1\n",
    "    precision = TP / (TP + FP)\n",
    "    recall = TP / (TP + FN)\n",
    "    accuracy = (TP + TN) / (TP + TN + FP + FN)\n",
    "\n",
    "    print(\" Precision: \", precision*100,\"%\\n Recall: \", recall*100, \"%\\n Accuracy: \", accuracy*100, \"%\")\n",
    "\n",
    "    return(precision, recall, accuracy, TP, FP, TN, FN)"
   ]
  },
  {
   "cell_type": "code",
   "execution_count": 35,
   "metadata": {},
   "outputs": [
    {
     "name": "stdout",
     "output_type": "stream",
     "text": [
      " Precision:  50.0 %\n",
      " Recall:  50.0 %\n",
      " Accuracy:  40.0 %\n"
     ]
    },
    {
     "data": {
      "text/plain": [
       "(0.5, 0.5, 0.4, 3, 3, 1, 3)"
      ]
     },
     "execution_count": 35,
     "metadata": {},
     "output_type": "execute_result"
    }
   ],
   "source": [
    "performance_measure(truth, prediction)"
   ]
  }
 ],
 "metadata": {
  "kernelspec": {
   "display_name": "Python 3.9.12 64-bit",
   "language": "python",
   "name": "python3"
  },
  "language_info": {
   "codemirror_mode": {
    "name": "ipython",
    "version": 3
   },
   "file_extension": ".py",
   "mimetype": "text/x-python",
   "name": "python",
   "nbconvert_exporter": "python",
   "pygments_lexer": "ipython3",
   "version": "3.9.12"
  },
  "orig_nbformat": 4,
  "vscode": {
   "interpreter": {
    "hash": "6cbb360768bf90aa5a59e865b3d88445392ae93b20a05da862e5531f6801afb2"
   }
  }
 },
 "nbformat": 4,
 "nbformat_minor": 2
}
