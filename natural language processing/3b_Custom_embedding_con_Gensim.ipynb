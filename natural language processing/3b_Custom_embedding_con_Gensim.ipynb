{
  "cells": [
    {
      "cell_type": "markdown",
      "metadata": {
        "id": "view-in-github",
        "colab_type": "text"
      },
      "source": [
        "<a href=\"https://colab.research.google.com/github/Tincho1902/PosgradoIA/blob/main/3b_Custom_embedding_con_Gensim.ipynb\" target=\"_parent\"><img src=\"https://colab.research.google.com/assets/colab-badge.svg\" alt=\"Open In Colab\"/></a>"
      ]
    },
    {
      "cell_type": "markdown",
      "metadata": {
        "id": "sZd5yLnnHOK0"
      },
      "source": [
        "<img src=\"https://github.com/hernancontigiani/ceia_memorias_especializacion/raw/master/Figures/logoFIUBA.jpg\" width=\"500\" align=\"center\">\n",
        "\n",
        "\n",
        "# Procesamiento de lenguaje natural\n",
        "## Custom embedddings con Gensim\n",
        "\n"
      ]
    },
    {
      "cell_type": "markdown",
      "metadata": {
        "id": "vA7nqkumo9z9"
      },
      "source": [
        "### Objetivo\n",
        "El objetivo es utilizar documentos / corpus para crear embeddings de palabras basado en ese contexto."
      ]
    },
    {
      "cell_type": "code",
      "source": [
        " ! pip install -q kaggle"
      ],
      "metadata": {
        "id": "HWB60uJbVk6w"
      },
      "execution_count": 1,
      "outputs": []
    },
    {
      "cell_type": "code",
      "source": [
        "from google.colab import files"
      ],
      "metadata": {
        "id": "Cp14gQeOVpyE"
      },
      "execution_count": 2,
      "outputs": []
    },
    {
      "cell_type": "code",
      "source": [
        "files.upload()"
      ],
      "metadata": {
        "id": "KLiuUKQDVv0x",
        "outputId": "98469338-772b-4f43-a514-733f8dac0971",
        "colab": {
          "base_uri": "https://localhost:8080/",
          "height": 90
        }
      },
      "execution_count": 3,
      "outputs": [
        {
          "output_type": "display_data",
          "data": {
            "text/plain": [
              "<IPython.core.display.HTML object>"
            ],
            "text/html": [
              "\n",
              "     <input type=\"file\" id=\"files-42dc760f-7e9b-4a59-a6e5-029485a04b94\" name=\"files[]\" multiple disabled\n",
              "        style=\"border:none\" />\n",
              "     <output id=\"result-42dc760f-7e9b-4a59-a6e5-029485a04b94\">\n",
              "      Upload widget is only available when the cell has been executed in the\n",
              "      current browser session. Please rerun this cell to enable.\n",
              "      </output>\n",
              "      <script>// Copyright 2017 Google LLC\n",
              "//\n",
              "// Licensed under the Apache License, Version 2.0 (the \"License\");\n",
              "// you may not use this file except in compliance with the License.\n",
              "// You may obtain a copy of the License at\n",
              "//\n",
              "//      http://www.apache.org/licenses/LICENSE-2.0\n",
              "//\n",
              "// Unless required by applicable law or agreed to in writing, software\n",
              "// distributed under the License is distributed on an \"AS IS\" BASIS,\n",
              "// WITHOUT WARRANTIES OR CONDITIONS OF ANY KIND, either express or implied.\n",
              "// See the License for the specific language governing permissions and\n",
              "// limitations under the License.\n",
              "\n",
              "/**\n",
              " * @fileoverview Helpers for google.colab Python module.\n",
              " */\n",
              "(function(scope) {\n",
              "function span(text, styleAttributes = {}) {\n",
              "  const element = document.createElement('span');\n",
              "  element.textContent = text;\n",
              "  for (const key of Object.keys(styleAttributes)) {\n",
              "    element.style[key] = styleAttributes[key];\n",
              "  }\n",
              "  return element;\n",
              "}\n",
              "\n",
              "// Max number of bytes which will be uploaded at a time.\n",
              "const MAX_PAYLOAD_SIZE = 100 * 1024;\n",
              "\n",
              "function _uploadFiles(inputId, outputId) {\n",
              "  const steps = uploadFilesStep(inputId, outputId);\n",
              "  const outputElement = document.getElementById(outputId);\n",
              "  // Cache steps on the outputElement to make it available for the next call\n",
              "  // to uploadFilesContinue from Python.\n",
              "  outputElement.steps = steps;\n",
              "\n",
              "  return _uploadFilesContinue(outputId);\n",
              "}\n",
              "\n",
              "// This is roughly an async generator (not supported in the browser yet),\n",
              "// where there are multiple asynchronous steps and the Python side is going\n",
              "// to poll for completion of each step.\n",
              "// This uses a Promise to block the python side on completion of each step,\n",
              "// then passes the result of the previous step as the input to the next step.\n",
              "function _uploadFilesContinue(outputId) {\n",
              "  const outputElement = document.getElementById(outputId);\n",
              "  const steps = outputElement.steps;\n",
              "\n",
              "  const next = steps.next(outputElement.lastPromiseValue);\n",
              "  return Promise.resolve(next.value.promise).then((value) => {\n",
              "    // Cache the last promise value to make it available to the next\n",
              "    // step of the generator.\n",
              "    outputElement.lastPromiseValue = value;\n",
              "    return next.value.response;\n",
              "  });\n",
              "}\n",
              "\n",
              "/**\n",
              " * Generator function which is called between each async step of the upload\n",
              " * process.\n",
              " * @param {string} inputId Element ID of the input file picker element.\n",
              " * @param {string} outputId Element ID of the output display.\n",
              " * @return {!Iterable<!Object>} Iterable of next steps.\n",
              " */\n",
              "function* uploadFilesStep(inputId, outputId) {\n",
              "  const inputElement = document.getElementById(inputId);\n",
              "  inputElement.disabled = false;\n",
              "\n",
              "  const outputElement = document.getElementById(outputId);\n",
              "  outputElement.innerHTML = '';\n",
              "\n",
              "  const pickedPromise = new Promise((resolve) => {\n",
              "    inputElement.addEventListener('change', (e) => {\n",
              "      resolve(e.target.files);\n",
              "    });\n",
              "  });\n",
              "\n",
              "  const cancel = document.createElement('button');\n",
              "  inputElement.parentElement.appendChild(cancel);\n",
              "  cancel.textContent = 'Cancel upload';\n",
              "  const cancelPromise = new Promise((resolve) => {\n",
              "    cancel.onclick = () => {\n",
              "      resolve(null);\n",
              "    };\n",
              "  });\n",
              "\n",
              "  // Wait for the user to pick the files.\n",
              "  const files = yield {\n",
              "    promise: Promise.race([pickedPromise, cancelPromise]),\n",
              "    response: {\n",
              "      action: 'starting',\n",
              "    }\n",
              "  };\n",
              "\n",
              "  cancel.remove();\n",
              "\n",
              "  // Disable the input element since further picks are not allowed.\n",
              "  inputElement.disabled = true;\n",
              "\n",
              "  if (!files) {\n",
              "    return {\n",
              "      response: {\n",
              "        action: 'complete',\n",
              "      }\n",
              "    };\n",
              "  }\n",
              "\n",
              "  for (const file of files) {\n",
              "    const li = document.createElement('li');\n",
              "    li.append(span(file.name, {fontWeight: 'bold'}));\n",
              "    li.append(span(\n",
              "        `(${file.type || 'n/a'}) - ${file.size} bytes, ` +\n",
              "        `last modified: ${\n",
              "            file.lastModifiedDate ? file.lastModifiedDate.toLocaleDateString() :\n",
              "                                    'n/a'} - `));\n",
              "    const percent = span('0% done');\n",
              "    li.appendChild(percent);\n",
              "\n",
              "    outputElement.appendChild(li);\n",
              "\n",
              "    const fileDataPromise = new Promise((resolve) => {\n",
              "      const reader = new FileReader();\n",
              "      reader.onload = (e) => {\n",
              "        resolve(e.target.result);\n",
              "      };\n",
              "      reader.readAsArrayBuffer(file);\n",
              "    });\n",
              "    // Wait for the data to be ready.\n",
              "    let fileData = yield {\n",
              "      promise: fileDataPromise,\n",
              "      response: {\n",
              "        action: 'continue',\n",
              "      }\n",
              "    };\n",
              "\n",
              "    // Use a chunked sending to avoid message size limits. See b/62115660.\n",
              "    let position = 0;\n",
              "    do {\n",
              "      const length = Math.min(fileData.byteLength - position, MAX_PAYLOAD_SIZE);\n",
              "      const chunk = new Uint8Array(fileData, position, length);\n",
              "      position += length;\n",
              "\n",
              "      const base64 = btoa(String.fromCharCode.apply(null, chunk));\n",
              "      yield {\n",
              "        response: {\n",
              "          action: 'append',\n",
              "          file: file.name,\n",
              "          data: base64,\n",
              "        },\n",
              "      };\n",
              "\n",
              "      let percentDone = fileData.byteLength === 0 ?\n",
              "          100 :\n",
              "          Math.round((position / fileData.byteLength) * 100);\n",
              "      percent.textContent = `${percentDone}% done`;\n",
              "\n",
              "    } while (position < fileData.byteLength);\n",
              "  }\n",
              "\n",
              "  // All done.\n",
              "  yield {\n",
              "    response: {\n",
              "      action: 'complete',\n",
              "    }\n",
              "  };\n",
              "}\n",
              "\n",
              "scope.google = scope.google || {};\n",
              "scope.google.colab = scope.google.colab || {};\n",
              "scope.google.colab._files = {\n",
              "  _uploadFiles,\n",
              "  _uploadFilesContinue,\n",
              "};\n",
              "})(self);\n",
              "</script> "
            ]
          },
          "metadata": {}
        },
        {
          "output_type": "stream",
          "name": "stdout",
          "text": [
            "Saving kaggle.json to kaggle.json\n"
          ]
        },
        {
          "output_type": "execute_result",
          "data": {
            "text/plain": [
              "{'kaggle.json': b'{\"username\":\"martinfmartinez\",\"key\":\"7b8eb549de5abdf931ebc9de96474b3a\"}'}"
            ]
          },
          "metadata": {},
          "execution_count": 3
        }
      ]
    },
    {
      "cell_type": "code",
      "source": [
        "! mkdir ~/.kaggle"
      ],
      "metadata": {
        "id": "Ii45VP-tV0bg"
      },
      "execution_count": 4,
      "outputs": []
    },
    {
      "cell_type": "code",
      "source": [
        "! cp kaggle.json ~/.kaggle/"
      ],
      "metadata": {
        "id": "USxz_iQYV3b4"
      },
      "execution_count": 5,
      "outputs": []
    },
    {
      "cell_type": "code",
      "source": [
        "! chmod 600 ~/.kaggle/kaggle.json"
      ],
      "metadata": {
        "id": "CXqoE2xfV6ix"
      },
      "execution_count": 6,
      "outputs": []
    },
    {
      "cell_type": "code",
      "execution_count": 8,
      "metadata": {
        "id": "lFToQs5FK5uZ"
      },
      "outputs": [],
      "source": [
        "import pandas as pd\n",
        "import matplotlib.pyplot as plt\n",
        "import seaborn as sns\n",
        "import os\n",
        "import platform\n",
        "import multiprocessing\n",
        "from gensim.models import Word2Vec"
      ]
    },
    {
      "cell_type": "markdown",
      "metadata": {
        "id": "g07zJxG7H9vG"
      },
      "source": [
        "### Datos\n",
        "Seleccionaremos reseñas o críticas de restaurantes como nuestro conjunto de datos."
      ]
    },
    {
      "cell_type": "code",
      "source": [
        "dataset_name = 'joebeachcapital/restaurant-reviews'\n",
        "zip_name = dataset_name.split('/')[-1]\n",
        "\n",
        "!kaggle datasets download -d {dataset_name}\n",
        "!unzip -q ./{zip_name}.zip"
      ],
      "metadata": {
        "id": "aVKggvAeYLc4",
        "outputId": "6e7f4e9b-759b-4847-e81b-c2ad0e103423",
        "colab": {
          "base_uri": "https://localhost:8080/"
        }
      },
      "execution_count": 11,
      "outputs": [
        {
          "output_type": "stream",
          "name": "stdout",
          "text": [
            "Downloading restaurant-reviews.zip to /content\n",
            " 82% 1.00M/1.23M [00:01<00:00, 1.04MB/s]\n",
            "100% 1.23M/1.23M [00:01<00:00, 1.23MB/s]\n"
          ]
        }
      ]
    },
    {
      "cell_type": "code",
      "execution_count": 12,
      "metadata": {
        "id": "ticoqYD1Z3I7"
      },
      "outputs": [],
      "source": [
        "# Armar el dataset utilizando salto de línea para separar las oraciones/docs\n",
        "\n",
        "filename = 'Restaurant reviews.csv'\n",
        "df_orig = pd.read_csv(filename, header=0)\n",
        "df = df_orig['Review'].to_frame()  # Dejamos solamente los reviews"
      ]
    },
    {
      "cell_type": "code",
      "execution_count": 13,
      "metadata": {
        "id": "LEpKubK9XzXN",
        "outputId": "2987b93b-1273-42f9-c740-8211b5132a79",
        "colab": {
          "base_uri": "https://localhost:8080/"
        }
      },
      "outputs": [
        {
          "output_type": "stream",
          "name": "stdout",
          "text": [
            "Cantidad de documentos: 10000\n"
          ]
        }
      ],
      "source": [
        "print(\"Cantidad de documentos:\", df.shape[0])"
      ]
    },
    {
      "cell_type": "code",
      "source": [
        "# Filter rows where 'column_name' contains float entries\n",
        "df = df[~df['Review'].apply(lambda x: isinstance(x, float))]\n",
        "\n",
        "# Reset the index if needed\n",
        "df.reset_index(drop=True, inplace=True)"
      ],
      "metadata": {
        "id": "ay35pBbW0QKZ"
      },
      "execution_count": 14,
      "outputs": []
    },
    {
      "cell_type": "code",
      "source": [
        "df"
      ],
      "metadata": {
        "colab": {
          "base_uri": "https://localhost:8080/",
          "height": 424
        },
        "id": "TKtJlFD_1BVU",
        "outputId": "a66aa9d1-90db-469f-cfed-f7004d1cc2d0"
      },
      "execution_count": 15,
      "outputs": [
        {
          "output_type": "execute_result",
          "data": {
            "text/plain": [
              "                                                 Review\n",
              "0     The ambience was good, food was quite good . h...\n",
              "1     Ambience is too good for a pleasant evening. S...\n",
              "2     A must try.. great food great ambience. Thnx f...\n",
              "3     Soumen das and Arun was a great guy. Only beca...\n",
              "4     Food is good.we ordered Kodi drumsticks and ba...\n",
              "...                                                 ...\n",
              "9950  Madhumathi Mahajan Well to start with nice cou...\n",
              "9951  This place has never disappointed us.. The foo...\n",
              "9952  Bad rating is mainly because of \"Chicken Bone ...\n",
              "9953  I personally love and prefer Chinese Food. Had...\n",
              "9954  Checked in here to try some delicious chinese ...\n",
              "\n",
              "[9955 rows x 1 columns]"
            ],
            "text/html": [
              "\n",
              "  <div id=\"df-182ea6ba-e2e8-414e-9f4c-b5537cc8e01d\" class=\"colab-df-container\">\n",
              "    <div>\n",
              "<style scoped>\n",
              "    .dataframe tbody tr th:only-of-type {\n",
              "        vertical-align: middle;\n",
              "    }\n",
              "\n",
              "    .dataframe tbody tr th {\n",
              "        vertical-align: top;\n",
              "    }\n",
              "\n",
              "    .dataframe thead th {\n",
              "        text-align: right;\n",
              "    }\n",
              "</style>\n",
              "<table border=\"1\" class=\"dataframe\">\n",
              "  <thead>\n",
              "    <tr style=\"text-align: right;\">\n",
              "      <th></th>\n",
              "      <th>Review</th>\n",
              "    </tr>\n",
              "  </thead>\n",
              "  <tbody>\n",
              "    <tr>\n",
              "      <th>0</th>\n",
              "      <td>The ambience was good, food was quite good . h...</td>\n",
              "    </tr>\n",
              "    <tr>\n",
              "      <th>1</th>\n",
              "      <td>Ambience is too good for a pleasant evening. S...</td>\n",
              "    </tr>\n",
              "    <tr>\n",
              "      <th>2</th>\n",
              "      <td>A must try.. great food great ambience. Thnx f...</td>\n",
              "    </tr>\n",
              "    <tr>\n",
              "      <th>3</th>\n",
              "      <td>Soumen das and Arun was a great guy. Only beca...</td>\n",
              "    </tr>\n",
              "    <tr>\n",
              "      <th>4</th>\n",
              "      <td>Food is good.we ordered Kodi drumsticks and ba...</td>\n",
              "    </tr>\n",
              "    <tr>\n",
              "      <th>...</th>\n",
              "      <td>...</td>\n",
              "    </tr>\n",
              "    <tr>\n",
              "      <th>9950</th>\n",
              "      <td>Madhumathi Mahajan Well to start with nice cou...</td>\n",
              "    </tr>\n",
              "    <tr>\n",
              "      <th>9951</th>\n",
              "      <td>This place has never disappointed us.. The foo...</td>\n",
              "    </tr>\n",
              "    <tr>\n",
              "      <th>9952</th>\n",
              "      <td>Bad rating is mainly because of \"Chicken Bone ...</td>\n",
              "    </tr>\n",
              "    <tr>\n",
              "      <th>9953</th>\n",
              "      <td>I personally love and prefer Chinese Food. Had...</td>\n",
              "    </tr>\n",
              "    <tr>\n",
              "      <th>9954</th>\n",
              "      <td>Checked in here to try some delicious chinese ...</td>\n",
              "    </tr>\n",
              "  </tbody>\n",
              "</table>\n",
              "<p>9955 rows × 1 columns</p>\n",
              "</div>\n",
              "    <div class=\"colab-df-buttons\">\n",
              "\n",
              "  <div class=\"colab-df-container\">\n",
              "    <button class=\"colab-df-convert\" onclick=\"convertToInteractive('df-182ea6ba-e2e8-414e-9f4c-b5537cc8e01d')\"\n",
              "            title=\"Convert this dataframe to an interactive table.\"\n",
              "            style=\"display:none;\">\n",
              "\n",
              "  <svg xmlns=\"http://www.w3.org/2000/svg\" height=\"24px\" viewBox=\"0 -960 960 960\">\n",
              "    <path d=\"M120-120v-720h720v720H120Zm60-500h600v-160H180v160Zm220 220h160v-160H400v160Zm0 220h160v-160H400v160ZM180-400h160v-160H180v160Zm440 0h160v-160H620v160ZM180-180h160v-160H180v160Zm440 0h160v-160H620v160Z\"/>\n",
              "  </svg>\n",
              "    </button>\n",
              "\n",
              "  <style>\n",
              "    .colab-df-container {\n",
              "      display:flex;\n",
              "      gap: 12px;\n",
              "    }\n",
              "\n",
              "    .colab-df-convert {\n",
              "      background-color: #E8F0FE;\n",
              "      border: none;\n",
              "      border-radius: 50%;\n",
              "      cursor: pointer;\n",
              "      display: none;\n",
              "      fill: #1967D2;\n",
              "      height: 32px;\n",
              "      padding: 0 0 0 0;\n",
              "      width: 32px;\n",
              "    }\n",
              "\n",
              "    .colab-df-convert:hover {\n",
              "      background-color: #E2EBFA;\n",
              "      box-shadow: 0px 1px 2px rgba(60, 64, 67, 0.3), 0px 1px 3px 1px rgba(60, 64, 67, 0.15);\n",
              "      fill: #174EA6;\n",
              "    }\n",
              "\n",
              "    .colab-df-buttons div {\n",
              "      margin-bottom: 4px;\n",
              "    }\n",
              "\n",
              "    [theme=dark] .colab-df-convert {\n",
              "      background-color: #3B4455;\n",
              "      fill: #D2E3FC;\n",
              "    }\n",
              "\n",
              "    [theme=dark] .colab-df-convert:hover {\n",
              "      background-color: #434B5C;\n",
              "      box-shadow: 0px 1px 3px 1px rgba(0, 0, 0, 0.15);\n",
              "      filter: drop-shadow(0px 1px 2px rgba(0, 0, 0, 0.3));\n",
              "      fill: #FFFFFF;\n",
              "    }\n",
              "  </style>\n",
              "\n",
              "    <script>\n",
              "      const buttonEl =\n",
              "        document.querySelector('#df-182ea6ba-e2e8-414e-9f4c-b5537cc8e01d button.colab-df-convert');\n",
              "      buttonEl.style.display =\n",
              "        google.colab.kernel.accessAllowed ? 'block' : 'none';\n",
              "\n",
              "      async function convertToInteractive(key) {\n",
              "        const element = document.querySelector('#df-182ea6ba-e2e8-414e-9f4c-b5537cc8e01d');\n",
              "        const dataTable =\n",
              "          await google.colab.kernel.invokeFunction('convertToInteractive',\n",
              "                                                    [key], {});\n",
              "        if (!dataTable) return;\n",
              "\n",
              "        const docLinkHtml = 'Like what you see? Visit the ' +\n",
              "          '<a target=\"_blank\" href=https://colab.research.google.com/notebooks/data_table.ipynb>data table notebook</a>'\n",
              "          + ' to learn more about interactive tables.';\n",
              "        element.innerHTML = '';\n",
              "        dataTable['output_type'] = 'display_data';\n",
              "        await google.colab.output.renderOutput(dataTable, element);\n",
              "        const docLink = document.createElement('div');\n",
              "        docLink.innerHTML = docLinkHtml;\n",
              "        element.appendChild(docLink);\n",
              "      }\n",
              "    </script>\n",
              "  </div>\n",
              "\n",
              "\n",
              "<div id=\"df-7fdbf988-d7af-4c06-956b-de0b44555dd1\">\n",
              "  <button class=\"colab-df-quickchart\" onclick=\"quickchart('df-7fdbf988-d7af-4c06-956b-de0b44555dd1')\"\n",
              "            title=\"Suggest charts.\"\n",
              "            style=\"display:none;\">\n",
              "\n",
              "<svg xmlns=\"http://www.w3.org/2000/svg\" height=\"24px\"viewBox=\"0 0 24 24\"\n",
              "     width=\"24px\">\n",
              "    <g>\n",
              "        <path d=\"M19 3H5c-1.1 0-2 .9-2 2v14c0 1.1.9 2 2 2h14c1.1 0 2-.9 2-2V5c0-1.1-.9-2-2-2zM9 17H7v-7h2v7zm4 0h-2V7h2v10zm4 0h-2v-4h2v4z\"/>\n",
              "    </g>\n",
              "</svg>\n",
              "  </button>\n",
              "\n",
              "<style>\n",
              "  .colab-df-quickchart {\n",
              "      --bg-color: #E8F0FE;\n",
              "      --fill-color: #1967D2;\n",
              "      --hover-bg-color: #E2EBFA;\n",
              "      --hover-fill-color: #174EA6;\n",
              "      --disabled-fill-color: #AAA;\n",
              "      --disabled-bg-color: #DDD;\n",
              "  }\n",
              "\n",
              "  [theme=dark] .colab-df-quickchart {\n",
              "      --bg-color: #3B4455;\n",
              "      --fill-color: #D2E3FC;\n",
              "      --hover-bg-color: #434B5C;\n",
              "      --hover-fill-color: #FFFFFF;\n",
              "      --disabled-bg-color: #3B4455;\n",
              "      --disabled-fill-color: #666;\n",
              "  }\n",
              "\n",
              "  .colab-df-quickchart {\n",
              "    background-color: var(--bg-color);\n",
              "    border: none;\n",
              "    border-radius: 50%;\n",
              "    cursor: pointer;\n",
              "    display: none;\n",
              "    fill: var(--fill-color);\n",
              "    height: 32px;\n",
              "    padding: 0;\n",
              "    width: 32px;\n",
              "  }\n",
              "\n",
              "  .colab-df-quickchart:hover {\n",
              "    background-color: var(--hover-bg-color);\n",
              "    box-shadow: 0 1px 2px rgba(60, 64, 67, 0.3), 0 1px 3px 1px rgba(60, 64, 67, 0.15);\n",
              "    fill: var(--button-hover-fill-color);\n",
              "  }\n",
              "\n",
              "  .colab-df-quickchart-complete:disabled,\n",
              "  .colab-df-quickchart-complete:disabled:hover {\n",
              "    background-color: var(--disabled-bg-color);\n",
              "    fill: var(--disabled-fill-color);\n",
              "    box-shadow: none;\n",
              "  }\n",
              "\n",
              "  .colab-df-spinner {\n",
              "    border: 2px solid var(--fill-color);\n",
              "    border-color: transparent;\n",
              "    border-bottom-color: var(--fill-color);\n",
              "    animation:\n",
              "      spin 1s steps(1) infinite;\n",
              "  }\n",
              "\n",
              "  @keyframes spin {\n",
              "    0% {\n",
              "      border-color: transparent;\n",
              "      border-bottom-color: var(--fill-color);\n",
              "      border-left-color: var(--fill-color);\n",
              "    }\n",
              "    20% {\n",
              "      border-color: transparent;\n",
              "      border-left-color: var(--fill-color);\n",
              "      border-top-color: var(--fill-color);\n",
              "    }\n",
              "    30% {\n",
              "      border-color: transparent;\n",
              "      border-left-color: var(--fill-color);\n",
              "      border-top-color: var(--fill-color);\n",
              "      border-right-color: var(--fill-color);\n",
              "    }\n",
              "    40% {\n",
              "      border-color: transparent;\n",
              "      border-right-color: var(--fill-color);\n",
              "      border-top-color: var(--fill-color);\n",
              "    }\n",
              "    60% {\n",
              "      border-color: transparent;\n",
              "      border-right-color: var(--fill-color);\n",
              "    }\n",
              "    80% {\n",
              "      border-color: transparent;\n",
              "      border-right-color: var(--fill-color);\n",
              "      border-bottom-color: var(--fill-color);\n",
              "    }\n",
              "    90% {\n",
              "      border-color: transparent;\n",
              "      border-bottom-color: var(--fill-color);\n",
              "    }\n",
              "  }\n",
              "</style>\n",
              "\n",
              "  <script>\n",
              "    async function quickchart(key) {\n",
              "      const quickchartButtonEl =\n",
              "        document.querySelector('#' + key + ' button');\n",
              "      quickchartButtonEl.disabled = true;  // To prevent multiple clicks.\n",
              "      quickchartButtonEl.classList.add('colab-df-spinner');\n",
              "      try {\n",
              "        const charts = await google.colab.kernel.invokeFunction(\n",
              "            'suggestCharts', [key], {});\n",
              "      } catch (error) {\n",
              "        console.error('Error during call to suggestCharts:', error);\n",
              "      }\n",
              "      quickchartButtonEl.classList.remove('colab-df-spinner');\n",
              "      quickchartButtonEl.classList.add('colab-df-quickchart-complete');\n",
              "    }\n",
              "    (() => {\n",
              "      let quickchartButtonEl =\n",
              "        document.querySelector('#df-7fdbf988-d7af-4c06-956b-de0b44555dd1 button');\n",
              "      quickchartButtonEl.style.display =\n",
              "        google.colab.kernel.accessAllowed ? 'block' : 'none';\n",
              "    })();\n",
              "  </script>\n",
              "</div>\n",
              "    </div>\n",
              "  </div>\n"
            ]
          },
          "metadata": {},
          "execution_count": 15
        }
      ]
    },
    {
      "cell_type": "markdown",
      "metadata": {
        "id": "ab94qaFlrA1G"
      },
      "source": [
        "### 1 - Preprocesamiento"
      ]
    },
    {
      "cell_type": "code",
      "execution_count": 16,
      "metadata": {
        "id": "rIsmMWmjrDHd"
      },
      "outputs": [],
      "source": [
        "from keras.preprocessing.text import text_to_word_sequence\n",
        "\n",
        "sentence_tokens = []\n",
        "# Recorrer todas las filas y transformar las oraciones\n",
        "# en una secuencia de palabras (esto podría realizarse con NLTK o spaCy también)\n",
        "for _, row in df.iterrows():\n",
        "    sentence_tokens.append(text_to_word_sequence(row[0]))"
      ]
    },
    {
      "cell_type": "code",
      "execution_count": 17,
      "metadata": {
        "id": "CHepi_DGrbhq",
        "colab": {
          "base_uri": "https://localhost:8080/"
        },
        "outputId": "44391d13-128d-47eb-9e80-b3a420ae5304"
      },
      "outputs": [
        {
          "output_type": "execute_result",
          "data": {
            "text/plain": [
              "[['the',\n",
              "  'ambience',\n",
              "  'was',\n",
              "  'good',\n",
              "  'food',\n",
              "  'was',\n",
              "  'quite',\n",
              "  'good',\n",
              "  'had',\n",
              "  'saturday',\n",
              "  'lunch',\n",
              "  'which',\n",
              "  'was',\n",
              "  'cost',\n",
              "  'effective',\n",
              "  'good',\n",
              "  'place',\n",
              "  'for',\n",
              "  'a',\n",
              "  'sate',\n",
              "  'brunch',\n",
              "  'one',\n",
              "  'can',\n",
              "  'also',\n",
              "  'chill',\n",
              "  'with',\n",
              "  'friends',\n",
              "  'and',\n",
              "  'or',\n",
              "  'parents',\n",
              "  'waiter',\n",
              "  'soumen',\n",
              "  'das',\n",
              "  'was',\n",
              "  'really',\n",
              "  'courteous',\n",
              "  'and',\n",
              "  'helpful'],\n",
              " ['ambience',\n",
              "  'is',\n",
              "  'too',\n",
              "  'good',\n",
              "  'for',\n",
              "  'a',\n",
              "  'pleasant',\n",
              "  'evening',\n",
              "  'service',\n",
              "  'is',\n",
              "  'very',\n",
              "  'prompt',\n",
              "  'food',\n",
              "  'is',\n",
              "  'good',\n",
              "  'over',\n",
              "  'all',\n",
              "  'a',\n",
              "  'good',\n",
              "  'experience',\n",
              "  'soumen',\n",
              "  'das',\n",
              "  'kudos',\n",
              "  'to',\n",
              "  'the',\n",
              "  'service']]"
            ]
          },
          "metadata": {},
          "execution_count": 17
        }
      ],
      "source": [
        "# Demos un vistazo\n",
        "sentence_tokens[:2]"
      ]
    },
    {
      "cell_type": "markdown",
      "metadata": {
        "id": "BaXV6nlHr5Aa"
      },
      "source": [
        "### 2 - Crear los vectores (word2vec)"
      ]
    },
    {
      "cell_type": "code",
      "execution_count": 18,
      "metadata": {
        "id": "OSb0v7h8r7hK"
      },
      "outputs": [],
      "source": [
        "from gensim.models.callbacks import CallbackAny2Vec\n",
        "# Durante el entrenamiento gensim por defecto no informa el \"loss\" en cada época\n",
        "# Sobrecargamos el callback para poder tener esta información\n",
        "class callback(CallbackAny2Vec):\n",
        "    \"\"\"\n",
        "    Callback to print loss after each epoch\n",
        "    \"\"\"\n",
        "    def __init__(self):\n",
        "        self.epoch = 0\n",
        "\n",
        "    def on_epoch_end(self, model):\n",
        "        loss = model.get_latest_training_loss()\n",
        "        if self.epoch == 0:\n",
        "            print('Loss after epoch {}: {}'.format(self.epoch, loss))\n",
        "        else:\n",
        "            print('Loss after epoch {}: {}'.format(self.epoch, loss- self.loss_previous_step))\n",
        "        self.epoch += 1\n",
        "        self.loss_previous_step = loss"
      ]
    },
    {
      "cell_type": "code",
      "execution_count": 19,
      "metadata": {
        "id": "i0wnDdv9sJ47"
      },
      "outputs": [],
      "source": [
        "# Crearmos el modelo generador de vectores\n",
        "# En este caso utilizaremos la estructura modelo Skipgram\n",
        "w2v_model = Word2Vec(min_count=5,    # frecuencia mínima de palabra para incluirla en el vocabulario\n",
        "                     window=2,       # cant de palabras antes y desp de la predicha\n",
        "                     vector_size=300,       # dimensionalidad de los vectores\n",
        "                     negative=20,    # cantidad de negative samples... 0 es no se usa\n",
        "                     workers=1,      # si tienen más cores pueden cambiar este valor\n",
        "                     sg=1)           # modelo 0:CBOW  1:skipgram"
      ]
    },
    {
      "cell_type": "code",
      "execution_count": 20,
      "metadata": {
        "id": "5lTt8wErsf17"
      },
      "outputs": [],
      "source": [
        "# Obtener el vocabulario con los tokens\n",
        "w2v_model.build_vocab(sentence_tokens)"
      ]
    },
    {
      "cell_type": "code",
      "execution_count": 21,
      "metadata": {
        "id": "TNc9qt4os5AT",
        "colab": {
          "base_uri": "https://localhost:8080/"
        },
        "outputId": "cdb818c7-65b2-469f-c6e0-acf5ca12722c"
      },
      "outputs": [
        {
          "output_type": "stream",
          "name": "stdout",
          "text": [
            "Cantidad de docs en el corpus: 9955\n"
          ]
        }
      ],
      "source": [
        "# Cantidad de filas/docs encontradas en el corpus\n",
        "print(\"Cantidad de docs en el corpus:\", w2v_model.corpus_count)"
      ]
    },
    {
      "cell_type": "code",
      "execution_count": 22,
      "metadata": {
        "id": "idw9cHF3tSMl",
        "colab": {
          "base_uri": "https://localhost:8080/"
        },
        "outputId": "8bcb3414-5639-4da7-ed84-5312c93bc51a"
      },
      "outputs": [
        {
          "output_type": "stream",
          "name": "stdout",
          "text": [
            "Cantidad de words distintas en el corpus: 4532\n"
          ]
        }
      ],
      "source": [
        "# Cantidad de words encontradas en el corpus\n",
        "print(\"Cantidad de words distintas en el corpus:\", len(w2v_model.wv.index_to_key))"
      ]
    },
    {
      "cell_type": "markdown",
      "metadata": {
        "id": "fC9mZ8DPk-UC"
      },
      "source": [
        "### 3 - Entrenar embeddings"
      ]
    },
    {
      "cell_type": "code",
      "execution_count": 23,
      "metadata": {
        "id": "QSp-x0PAsq56",
        "colab": {
          "base_uri": "https://localhost:8080/"
        },
        "outputId": "c6020c10-299a-4e00-ff82-07774707f1c2"
      },
      "outputs": [
        {
          "output_type": "stream",
          "name": "stdout",
          "text": [
            "Loss after epoch 0: 3726400.0\n",
            "Loss after epoch 1: 2816505.5\n",
            "Loss after epoch 2: 2709011.5\n",
            "Loss after epoch 3: 2594399.0\n",
            "Loss after epoch 4: 2566188.0\n",
            "Loss after epoch 5: 2534682.0\n",
            "Loss after epoch 6: 2437466.0\n",
            "Loss after epoch 7: 2412554.0\n",
            "Loss after epoch 8: 2393078.0\n",
            "Loss after epoch 9: 2374238.0\n",
            "Loss after epoch 10: 2360998.0\n",
            "Loss after epoch 11: 2345646.0\n",
            "Loss after epoch 12: 2329310.0\n",
            "Loss after epoch 13: 2417608.0\n",
            "Loss after epoch 14: 2405736.0\n",
            "Loss after epoch 15: 2388608.0\n",
            "Loss after epoch 16: 2383148.0\n",
            "Loss after epoch 17: 2367892.0\n",
            "Loss after epoch 18: 2363280.0\n",
            "Loss after epoch 19: 2357312.0\n"
          ]
        },
        {
          "output_type": "execute_result",
          "data": {
            "text/plain": [
              "(7019706, 10036140)"
            ]
          },
          "metadata": {},
          "execution_count": 23
        }
      ],
      "source": [
        "# Entrenamos el modelo generador de vectores\n",
        "# Utilizamos nuestro callback\n",
        "w2v_model.train(sentence_tokens,\n",
        "                 total_examples=w2v_model.corpus_count,\n",
        "                 epochs=20,\n",
        "                 compute_loss = True,\n",
        "                 callbacks=[callback()]\n",
        "                 )"
      ]
    },
    {
      "cell_type": "markdown",
      "metadata": {
        "id": "ddT9NVuNlCAe"
      },
      "source": [
        "### 4 - Ensayar"
      ]
    },
    {
      "cell_type": "code",
      "execution_count": 53,
      "metadata": {
        "id": "6cHN9xGLuPEm",
        "colab": {
          "base_uri": "https://localhost:8080/"
        },
        "outputId": "320a8526-465a-4b8d-c582-755a2ea5b7f0"
      },
      "outputs": [
        {
          "output_type": "execute_result",
          "data": {
            "text/plain": [
              "[('calm', 0.6981967091560364),\n",
              " ('cozy', 0.6787337064743042),\n",
              " ('funky', 0.6740900278091431),\n",
              " ('comfy', 0.6643236875534058),\n",
              " ('lite', 0.6601787805557251),\n",
              " ('cosy', 0.6571520566940308),\n",
              " ('lively', 0.6561968326568604),\n",
              " ('noisy', 0.6534141302108765),\n",
              " ('classy', 0.653216540813446),\n",
              " ('relaxed', 0.6503607034683228)]"
            ]
          },
          "metadata": {},
          "execution_count": 53
        }
      ],
      "source": [
        "# Palabras que MÁS se relacionan con...:\n",
        "w2v_model.wv.most_similar(positive=[\"peaceful\"], topn=10)"
      ]
    },
    {
      "cell_type": "code",
      "execution_count": 54,
      "metadata": {
        "id": "47HiU5gdkdMq",
        "colab": {
          "base_uri": "https://localhost:8080/"
        },
        "outputId": "96c2c5cc-4001-474c-c81e-6f73974cd0a8"
      },
      "outputs": [
        {
          "output_type": "execute_result",
          "data": {
            "text/plain": [
              "[('mentioned', 0.02148730680346489),\n",
              " ('suey', 0.017179016023874283),\n",
              " ('gst', 0.0025229614693671465),\n",
              " ('clearly', -0.0008670181850902736),\n",
              " ('forgot', -0.001703247195109725),\n",
              " ('recipe', -0.005532057024538517),\n",
              " ('instructions', -0.013668016530573368),\n",
              " ('incorrect', -0.018014127388596535),\n",
              " ('carrot', -0.018223727121949196),\n",
              " ('via', -0.01888544112443924)]"
            ]
          },
          "metadata": {},
          "execution_count": 54
        }
      ],
      "source": [
        "# Palabras que MENOS se relacionan con...:\n",
        "w2v_model.wv.most_similar(negative=[\"peaceful\"], topn=10)"
      ]
    },
    {
      "cell_type": "code",
      "execution_count": 29,
      "metadata": {
        "id": "DT4Rvno2mD65",
        "colab": {
          "base_uri": "https://localhost:8080/"
        },
        "outputId": "ebf05d59-ae56-4c3b-880b-14846558db8b"
      },
      "outputs": [
        {
          "output_type": "execute_result",
          "data": {
            "text/plain": [
              "[('ambeince', 0.5751393437385559),\n",
              " ('cusine', 0.5480858683586121),\n",
              " (\"food's\", 0.5458176136016846),\n",
              " ('foods', 0.5444780588150024),\n",
              " ('timely', 0.5394572615623474),\n",
              " ('sevice', 0.5349171757698059),\n",
              " ('economic', 0.5331569910049438),\n",
              " ('👍👍', 0.5240759253501892),\n",
              " ('fare', 0.5222740769386292),\n",
              " ('lightning', 0.5211569666862488)]"
            ]
          },
          "metadata": {},
          "execution_count": 29
        }
      ],
      "source": [
        "# Palabras que MÁS se relacionan con...:\n",
        "w2v_model.wv.most_similar(positive=[\"food\"], topn=10)"
      ]
    },
    {
      "cell_type": "code",
      "execution_count": 48,
      "metadata": {
        "id": "XPLDPgzBmQXt",
        "colab": {
          "base_uri": "https://localhost:8080/"
        },
        "outputId": "68456309-7086-43b1-8026-2664573bd82f"
      },
      "outputs": [
        {
          "output_type": "execute_result",
          "data": {
            "text/plain": [
              "[('pankaj', 0.5231897830963135),\n",
              " ('salim', 0.5226008296012878),\n",
              " ('subendu', 0.5213561654090881),\n",
              " ('vijay', 0.5184333920478821),\n",
              " ('manager', 0.5024229288101196),\n",
              " ('hema', 0.5023354887962341),\n",
              " ('aritra', 0.49766644835472107),\n",
              " ('shoutout', 0.49628639221191406),\n",
              " ('singh', 0.4932103455066681),\n",
              " ('ali', 0.4919898509979248),\n",
              " ('nitish', 0.4891344904899597),\n",
              " ('dharma', 0.4861096739768982),\n",
              " ('allauddin', 0.48603832721710205),\n",
              " ('himself', 0.48521414399147034),\n",
              " ('pradeep', 0.4818795323371887)]"
            ]
          },
          "metadata": {},
          "execution_count": 48
        }
      ],
      "source": [
        "# Palabras que MÁS se relacionan con...:\n",
        "w2v_model.wv.most_similar(positive=[\"chef\"], topn=15)"
      ]
    },
    {
      "cell_type": "markdown",
      "source": [
        "El modelo relaciona la palabra 'CHEF' con los nombres de los encargados de los restaurant"
      ],
      "metadata": {
        "id": "K1_HIkDE7uJV"
      }
    },
    {
      "cell_type": "code",
      "execution_count": null,
      "metadata": {
        "id": "L_UvHPMMklOr"
      },
      "outputs": [],
      "source": [
        "# Ensayar con una palabra que no está en el vocabulario:\n",
        "w2v_model.wv.most_similar(negative=[\"diedaa\"])"
      ]
    },
    {
      "cell_type": "code",
      "execution_count": 43,
      "metadata": {
        "id": "JFiguSD5Pfeh",
        "colab": {
          "base_uri": "https://localhost:8080/"
        },
        "outputId": "6fb0f468-5134-44cd-c5cc-2abf58be5b33"
      },
      "outputs": [
        {
          "output_type": "stream",
          "name": "stdout",
          "text": [
            "[ 4.14231032e-01  1.25073224e-01 -1.26228109e-01 -1.52652666e-01\n",
            "  2.82998942e-02 -3.52003872e-01  1.69325367e-01 -1.14752017e-01\n",
            "  1.42177314e-01 -5.10612071e-01  4.62383419e-01  8.64016339e-02\n",
            " -6.05011545e-02  5.32153212e-02 -2.83586010e-02  8.82808864e-02\n",
            "  1.95855677e-01  1.80774614e-01 -3.53026241e-01 -9.94915888e-02\n",
            " -7.85724968e-02  1.88728571e-01 -4.04096693e-02 -4.30307677e-03\n",
            "  4.99009453e-02 -5.09971797e-01 -1.92587838e-01 -6.31135628e-02\n",
            " -4.18882489e-01 -4.10037398e-01  1.06200710e-01 -1.70317199e-02\n",
            " -1.81330532e-01 -1.04347572e-01  2.06521839e-01  1.33665055e-01\n",
            " -1.08799882e-01  3.69970798e-02 -2.83134729e-01  1.10480696e-01\n",
            "  2.22274717e-02  7.69096836e-02 -1.13155954e-01 -1.23962618e-01\n",
            "  2.51072764e-01 -4.14035954e-02  4.04011816e-01 -5.92946820e-03\n",
            " -6.23182058e-02 -1.27890751e-01  1.71601012e-01 -1.34159163e-01\n",
            " -9.40172598e-02  2.72445291e-01  8.00573677e-02  1.78843006e-01\n",
            "  1.41722113e-01 -5.23242727e-02  2.30035409e-01  2.21060395e-01\n",
            "  1.05034083e-01 -4.23707426e-01  3.93610924e-01  2.99859047e-01\n",
            " -9.13920552e-02 -9.69258230e-03  2.76719719e-01 -2.16126908e-02\n",
            " -3.98438960e-01  1.90249998e-02  5.16554192e-02  6.83516935e-02\n",
            "  2.03284040e-01 -2.05835551e-01 -1.01495259e-01 -8.81509706e-02\n",
            " -4.15092826e-01  2.48922572e-01 -2.32922301e-01  4.49790925e-01\n",
            " -3.31976384e-01  2.56911963e-01 -1.08763210e-01  2.88861066e-01\n",
            " -5.53477146e-02  1.00370102e-01 -6.84909821e-02  2.96756160e-02\n",
            "  3.89482558e-01  9.56824645e-02 -4.11961138e-01 -3.46739441e-01\n",
            " -2.42794156e-02  7.64046684e-02  5.45530617e-02  2.35558897e-01\n",
            "  2.63606280e-01  8.23176429e-02  1.28192738e-01 -3.97718281e-01\n",
            " -1.60051078e-01  1.04027137e-01  1.47390395e-01  3.60023588e-01\n",
            "  1.92460388e-01 -1.19819306e-01  3.19590777e-01 -4.42131720e-02\n",
            " -2.18497604e-01  1.64905980e-01 -4.75322530e-02 -3.03842267e-03\n",
            " -2.34167233e-01 -3.57483834e-01 -1.62238881e-01  4.50832397e-02\n",
            "  2.92497426e-01  1.76766232e-01  2.07692832e-02 -3.42792049e-02\n",
            "  3.90934944e-01  1.42467871e-01 -1.16776995e-01 -9.84359458e-02\n",
            "  3.52969289e-01  5.22696018e-01 -1.65855931e-03 -1.50157195e-02\n",
            "  2.37973437e-01 -3.47716920e-02 -1.19484603e-01  4.50593114e-01\n",
            "  2.83610463e-01 -1.26674235e-01 -8.48703310e-02 -1.43884337e-02\n",
            " -3.29816192e-01  5.60469814e-02  9.57372859e-02 -3.71434152e-01\n",
            " -4.26396698e-01 -5.76751754e-02 -2.44515762e-01  2.40764558e-01\n",
            "  4.68277335e-02 -1.54013932e-01  4.68019471e-02 -2.32624799e-01\n",
            " -1.15591049e-01  2.57692523e-02  3.71072963e-02 -8.75441730e-02\n",
            "  7.05247894e-02 -1.86662704e-01  1.26150027e-02 -8.68720040e-02\n",
            " -2.55449772e-01 -1.22369118e-01 -4.39997137e-01 -3.88252027e-02\n",
            "  1.94074586e-01 -3.21608722e-01 -9.05086026e-02  5.63002378e-02\n",
            "  2.28552848e-01 -8.01514611e-02 -8.25423300e-02  7.88832158e-02\n",
            "  2.67187387e-01  1.05229460e-01 -1.68073494e-02  1.32441878e-01\n",
            " -1.77228674e-02  4.35569733e-01  2.14543715e-01 -6.02667406e-02\n",
            " -2.08616316e-01 -1.87836811e-01  2.18421936e-01 -3.20948684e-03\n",
            "  2.35596731e-01  1.19176976e-01 -6.65061772e-02  2.65502095e-01\n",
            " -4.83862534e-02  1.63559377e-01  1.62832290e-01  9.32613909e-02\n",
            " -3.02238107e-01  1.19619608e-01  1.92372978e-01 -2.19018996e-01\n",
            "  2.39523016e-02  2.36015953e-02 -1.61574855e-01  5.82857281e-02\n",
            " -9.60643142e-02 -7.96279777e-03  5.30902557e-02  4.41926271e-02\n",
            "  2.72040546e-01 -2.39040777e-01 -4.97381799e-02  3.38705778e-01\n",
            "  1.84745550e-01 -2.12436408e-01  1.24083847e-01  1.12857394e-01\n",
            " -5.33685446e-01  1.51543161e-02 -7.06466585e-02 -1.94559589e-01\n",
            " -9.59559381e-02  1.27251837e-02 -1.49564102e-01 -1.36456475e-01\n",
            " -5.80236971e-01 -4.12021011e-01 -2.89456770e-02 -1.46733388e-01\n",
            " -5.69566563e-02 -1.69188857e-01  2.83299357e-01 -3.90507281e-01\n",
            "  4.58421856e-01  4.03026432e-01  1.41111746e-01 -3.29927087e-01\n",
            " -9.00216997e-02 -5.01889922e-02 -3.17406833e-01 -2.43700502e-04\n",
            " -1.38328016e-01  1.20237358e-01 -1.81553423e-01  2.07619116e-01\n",
            "  6.67131022e-02 -3.90291393e-01  9.14268419e-02  5.08600995e-02\n",
            "  8.20072144e-02 -1.34954199e-01  2.21932903e-01 -4.68047448e-02\n",
            " -1.67342380e-01  1.36900917e-01  9.88728926e-03 -3.31110299e-01\n",
            "  6.66887015e-02  2.26099104e-01  1.29041851e-01 -1.43916801e-01\n",
            "  3.09904128e-01 -6.05052486e-02 -3.08147371e-01 -9.65980291e-02\n",
            "  1.40520722e-01 -1.37112275e-01 -8.71518347e-03 -5.11713862e-01\n",
            "  1.41159505e-01 -2.39552241e-02  2.27836654e-01 -1.18284384e-02\n",
            " -1.41891435e-01 -7.74809197e-02 -1.77334011e-01  8.73090327e-03\n",
            " -3.64651591e-01 -1.30430058e-01  3.60812098e-02  1.19925067e-01\n",
            "  3.98620725e-01  3.13778371e-02 -4.37409207e-02 -1.15041517e-01\n",
            "  3.29640992e-02  3.40886325e-01  8.41070525e-03  1.66843385e-01\n",
            " -7.24617317e-02 -1.10110797e-01 -2.24244446e-01 -1.77989360e-02\n",
            "  1.85707003e-01 -9.48274881e-02 -1.41273856e-01 -4.06720191e-01\n",
            "  1.31281808e-01 -2.03355387e-01  9.77476314e-03  5.35563707e-01\n",
            " -1.79848954e-01  7.98187196e-01  2.06999272e-01  4.14558023e-01\n",
            "  4.28524166e-02 -2.52974808e-01 -1.20650262e-01 -2.83531964e-01]\n"
          ]
        }
      ],
      "source": [
        "# el método `get_vector` permite obtener los vectores:\n",
        "vector_ambience = w2v_model.wv.get_vector(\"ambience\")\n",
        "print(vector_ambience)"
      ]
    },
    {
      "cell_type": "code",
      "execution_count": 44,
      "metadata": {
        "id": "yHHnSRloPfei",
        "colab": {
          "base_uri": "https://localhost:8080/"
        },
        "outputId": "794e68d9-1662-4643-8ec5-cb3f0feda653"
      },
      "outputs": [
        {
          "output_type": "execute_result",
          "data": {
            "text/plain": [
              "[('ambience', 0.9999999403953552),\n",
              " ('ambeince', 0.6245776414871216),\n",
              " ('lightning', 0.6185626983642578),\n",
              " ('ambiance', 0.5755875110626221),\n",
              " ('sevice', 0.5739502310752869),\n",
              " ('economic', 0.5628871321678162),\n",
              " ('funky', 0.5548626780509949),\n",
              " ('djs', 0.5432112812995911),\n",
              " ('dimly', 0.5395596623420715),\n",
              " ('setting', 0.5307633876800537)]"
            ]
          },
          "metadata": {},
          "execution_count": 44
        }
      ],
      "source": [
        "# el método `most_similar` también permite comparar a partir de vectores\n",
        "w2v_model.wv.most_similar(vector_ambience)"
      ]
    },
    {
      "cell_type": "markdown",
      "source": [
        "El modelo identifica una fuerte relación entre las palabras 'ambience', 'ambeince' y 'ambiance', incluso a pesar de que estas palabras están mal escritas. Estas tres palabras son consideradas las más relevantes en relación con el término 'ambience'."
      ],
      "metadata": {
        "id": "xMAGOv5q6Mch"
      }
    },
    {
      "cell_type": "code",
      "execution_count": 46,
      "metadata": {
        "id": "M43Ik9laPfei",
        "colab": {
          "base_uri": "https://localhost:8080/"
        },
        "outputId": "c92f4d6b-f263-47c9-83b7-983a589b5ff2"
      },
      "outputs": [
        {
          "output_type": "execute_result",
          "data": {
            "text/plain": [
              "[('loves', 0.5349171161651611),\n",
              " ('rocks', 0.45880383253097534),\n",
              " ('addicted', 0.4444737732410431),\n",
              " ('prefer', 0.4437088072299957),\n",
              " ('hello', 0.4374333918094635),\n",
              " ('💕', 0.43464502692222595),\n",
              " ('😍😍', 0.4299427568912506),\n",
              " ('bet', 0.42912647128105164),\n",
              " ('loved', 0.427810400724411),\n",
              " ('herb', 0.42758408188819885)]"
            ]
          },
          "metadata": {},
          "execution_count": 46
        }
      ],
      "source": [
        "# Palabras que MÁS se relacionan con...:\n",
        "w2v_model.wv.most_similar(positive=[\"love\"], topn=10)"
      ]
    },
    {
      "cell_type": "markdown",
      "source": [
        "Este caso se destaca como el más representativo, ya que la mayoría de las palabras relacionadas con \"LOVE\" expresan un sentimiento de agrado o gusto, lo que subraya la fuerte asociación de la palabra \"LOVE\" con emociones positivas."
      ],
      "metadata": {
        "id": "43ib020K7AhI"
      }
    },
    {
      "cell_type": "markdown",
      "metadata": {
        "id": "_g8UVWe6lFmh"
      },
      "source": [
        "### 5 - Visualizar agrupación de vectores"
      ]
    },
    {
      "cell_type": "code",
      "execution_count": 36,
      "metadata": {
        "id": "pDxEVXAivjr9"
      },
      "outputs": [],
      "source": [
        "from sklearn.decomposition import IncrementalPCA\n",
        "from sklearn.manifold import TSNE\n",
        "import numpy as np\n",
        "\n",
        "def reduce_dimensions(model, num_dimensions = 2 ):\n",
        "\n",
        "    vectors = np.asarray(model.wv.vectors)\n",
        "    labels = np.asarray(model.wv.index_to_key)\n",
        "\n",
        "    tsne = TSNE(n_components=num_dimensions, random_state=0)\n",
        "    vectors = tsne.fit_transform(vectors)\n",
        "\n",
        "    return vectors, labels"
      ]
    },
    {
      "cell_type": "code",
      "execution_count": 37,
      "metadata": {
        "id": "NCCXtDpcugmd",
        "colab": {
          "base_uri": "https://localhost:8080/",
          "height": 542
        },
        "outputId": "48290eed-48ee-419c-c45d-8af08b167c79"
      },
      "outputs": [
        {
          "output_type": "display_data",
          "data": {
            "text/html": [
              "<html>\n",
              "<head><meta charset=\"utf-8\" /></head>\n",
              "<body>\n",
              "    <div>            <script src=\"https://cdnjs.cloudflare.com/ajax/libs/mathjax/2.7.5/MathJax.js?config=TeX-AMS-MML_SVG\"></script><script type=\"text/javascript\">if (window.MathJax && window.MathJax.Hub && window.MathJax.Hub.Config) {window.MathJax.Hub.Config({SVG: {font: \"STIX-Web\"}});}</script>                <script type=\"text/javascript\">window.PlotlyConfig = {MathJaxConfig: 'local'};</script>\n",
              "        <script charset=\"utf-8\" src=\"https://cdn.plot.ly/plotly-2.24.1.min.js\"></script>                <div id=\"aade979b-22f9-42e6-adda-be02c6ce8ffe\" class=\"plotly-graph-div\" style=\"height:525px; width:100%;\"></div>            <script type=\"text/javascript\">                                    window.PLOTLYENV=window.PLOTLYENV || {};                                    if (document.getElementById(\"aade979b-22f9-42e6-adda-be02c6ce8ffe\")) {                    Plotly.newPlot(                        \"aade979b-22f9-42e6-adda-be02c6ce8ffe\",                        [{\"hovertemplate\":\"x=%{x}\\u003cbr\\u003ey=%{y}\\u003cbr\\u003etext=%{text}\\u003cextra\\u003e\\u003c\\u002fextra\\u003e\",\"legendgroup\":\"\",\"marker\":{\"color\":\"#636efa\",\"symbol\":\"circle\"},\"mode\":\"markers+text\",\"name\":\"\",\"orientation\":\"v\",\"showlegend\":false,\"text\":[\"the\",\"and\",\"was\",\"to\",\"a\",\"is\",\"i\",\"of\",\"good\",\"food\",\"for\",\"it\",\"place\",\"with\",\"in\",\"this\",\"we\",\"very\",\"not\",\"they\",\"but\",\"service\",\"have\",\"chicken\",\"you\",\"are\",\"5\",\"on\",\"were\",\"had\",\"that\",\"as\",\"taste\",\"my\",\"ordered\",\"ambience\",\"all\",\"great\",\"one\",\"so\",\"at\",\"here\",\"which\",\"from\",\"be\",\"really\",\"time\",\"also\",\"their\",\"there\",\"nice\",\"like\",\"best\",\"too\",\"biryani\",\"staff\",\"just\",\"try\",\"restaurant\",\"visit\",\"veg\",\"if\",\"will\",\"experience\",\"order\",\"can\",\"well\",\"would\",\"4\",\"no\",\"amazing\",\"some\",\"must\",\"has\",\"more\",\"been\",\"again\",\"your\",\"awesome\",\"even\",\"only\",\"3\",\"out\",\"quality\",\"it's\",\"by\",\"us\",\"me\",\"starters\",\"when\",\"served\",\"an\",\"rice\",\"go\",\"overall\",\"or\",\"went\",\"our\",\"paneer\",\"friends\",\"tasty\",\"menu\",\"about\",\"after\",\"bad\",\"quantity\",\"get\",\"much\",\"up\",\"buffet\",\"other\",\"its\",\"tried\",\"love\",\"delicious\",\"ambiance\",\"loved\",\"2\",\"better\",\"them\",\"spicy\",\"main\",\"dishes\",\"items\",\"got\",\"what\",\"lunch\",\"friendly\",\"course\",\"hyderabad\",\"worst\",\"people\",\"music\",\"tasted\",\"fish\",\"drinks\",\"little\",\"recommend\",\"delivery\",\"fried\",\"price\",\"money\",\"zomato\",\"worth\",\"he\",\"made\",\"decent\",\"then\",\"less\",\"don't\",\"than\",\"pizza\",\"over\",\"never\",\"definitely\",\"excellent\",\"first\",\"bit\",\"both\",\"could\",\"though\",\"quite\",\"any\",\"visited\",\"dinner\",\"lot\",\"dish\",\"non\",\"do\",\"special\",\"times\",\"am\",\"who\",\"cream\",\"ice\",\"average\",\"cheese\",\"perfect\",\"ever\",\"ok\",\"soup\",\"should\",\"gachibowli\",\"eat\",\"table\",\"say\",\"night\",\"didn't\",\"give\",\"tikka\",\"chocolate\",\"butter\",\"hot\",\"serve\",\"mutton\",\"cake\",\"always\",\"1\",\"curry\",\"noodles\"],\"x\":[13.966171264648438,21.334680557250977,0.07425330579280853,-13.839154243469238,-2.004516124725342,0.03980065509676933,5.223016262054443,14.903109550476074,0.4071250557899475,-1.8777967691421509,-17.09835433959961,4.745036602020264,-20.331804275512695,12.899555206298828,-1.9353201389312744,-13.156495094299316,5.471756935119629,-39.08639907836914,4.429299354553223,-7.76230001449585,-5.756534576416016,-46.89943313598633,-1.4430125951766968,36.02486801147461,-6.843850612640381,-0.6793497800827026,17.315034866333008,-22.80520248413086,25.099706649780273,7.696838855743408,-7.221658229827881,-0.8361446261405945,16.398916244506836,-20.637603759765625,42.797183990478516,-1.3778725862503052,16.713237762451172,0.16211311519145966,-7.600188732147217,-6.572157859802246,-15.31162166595459,-8.589330673217773,5.509435653686523,-15.136978149414062,-4.587701320648193,6.353647232055664,-19.72063636779785,-5.112540245056152,14.79616641998291,-10.316290855407715,0.7110964059829712,12.22439193725586,4.034101963043213,7.730605125427246,41.72722625732422,-40.02975845336914,19.010215759277344,-7.856696128845215,-5.961719989776611,-13.652127265930176,43.55548858642578,-2.6709370613098145,-7.124817848205566,-18.732528686523438,-16.413328170776367,-5.3380022048950195,17.753829956054688,-6.610164642333984,17.319808959960938,8.440268516540527,3.6362905502319336,16.16075897216797,16.28240966796875,-12.546418190002441,10.446172714233398,-20.88905906677246,-14.236759185791016,-16.82811737060547,1.6077431440353394,8.865903854370117,13.076831817626953,-3.3870151042938232,-22.26877784729004,2.312302589416504,-3.0060763359069824,-46.77263259887695,-28.975900650024414,-11.15234088897705,14.83060073852539,-27.698711395263672,16.07529640197754,-0.514866292476654,35.66508102416992,-11.749452590942383,-2.7510509490966797,-26.759109497070312,-29.0069637298584,-31.238658905029297,45.2244873046875,-29.320266723632812,3.4911789894104004,7.232219696044922,-14.389543533325195,-27.532730102539062,5.615990161895752,18.47399139404297,-6.78120756149292,10.094654083251953,-43.472572326660156,9.054242134094238,12.019156455993652,-0.41827988624572754,25.869104385375977,12.02033519744873,19.516735076904297,-1.6014318466186523,3.52502703666687,13.639642715454102,9.718269348144531,-8.367547035217285,22.012571334838867,12.283937454223633,16.90768814086914,17.794418334960938,-3.87540602684021,-9.695292472839355,-28.03888511657715,-41.35717010498047,12.187031745910645,-16.970190048217773,3.7222445011138916,-28.825637817382812,-16.405170440673828,22.59627914428711,35.35544967651367,7.1663103103637695,12.758505821228027,-12.805046081542969,-27.947383880615234,34.26173782348633,8.137056350708008,-10.879862785339355,-25.678911209106445,5.892193794250488,-38.864505767822266,18.515846252441406,0.7514987587928772,10.287242889404297,9.936297416687012,-6.509045124053955,13.216278076171875,36.05718994140625,9.446555137634277,6.354689121246338,-8.899774551391602,-43.874324798583984,-26.18473243713379,10.368939399719238,15.117083549499512,12.449413299560547,8.211128234863281,10.10857105255127,1.8737237453460693,-28.28919219970703,-28.12417984008789,6.343189239501953,16.634376525878906,16.82362174987793,-9.835649490356445,31.21053695678711,-0.2803340256214142,-14.231518745422363,-38.59612274169922,28.116371154785156,29.184053421020508,4.809719562530518,34.311424255371094,2.192173480987549,5.8010687828063965,7.145884037017822,42.9538459777832,-4.694255352020264,-5.903933525085449,-7.271095275878906,-20.474172592163086,-0.08220615237951279,-18.54262924194336,-5.916268825531006,-8.168944358825684,44.119876861572266,34.18381118774414,46.9002571105957,24.857189178466797,-5.605009078979492,42.07101058959961,30.453983306884766,-0.3679772913455963,-4.645144462585449,36.54572677612305,37.666343688964844],\"xaxis\":\"x\",\"y\":[-4.967777729034424,-5.220549583435059,-6.423280715942383,6.97335958480835,-10.330856323242188,-6.435998916625977,17.182411193847656,-4.682191371917725,-9.746158599853516,-12.183815956115723,-9.310073852539062,21.71900177001953,-16.78754997253418,-7.482823371887207,-2.456569194793701,-5.147531032562256,17.840904235839844,12.441248893737793,1.1770985126495361,15.392491340637207,5.06810998916626,11.358031272888184,11.152429580688477,3.9541640281677246,15.8574857711792,0.7857553362846375,-33.37081527709961,-4.3072028160095215,12.435201644897461,17.874027252197266,5.465573310852051,3.8556926250457764,-2.6572818756103516,-9.741842269897461,5.1594343185424805,-14.05821418762207,-15.800606727600098,-10.035811424255371,0.09640131145715714,5.156681537628174,1.203340768814087,-4.867835521697998,-13.487924575805664,19.523706436157227,9.34493637084961,-8.848817825317383,-9.445279121398926,5.2219743728637695,-17.842418670654297,0.7263098955154419,-14.964289665222168,10.188470840454102,-33.75004959106445,-7.3220953941345215,7.106989860534668,9.647624969482422,11.958881378173828,8.63395881652832,-15.778298377990723,9.288595199584961,-3.3161182403564453,10.792858123779297,20.920745849609375,-7.492474555969238,20.113019943237305,22.431848526000977,-3.9156107902526855,20.602434158325195,-33.37308883666992,7.227878093719482,-13.29328441619873,-16.29759407043457,-15.234445571899414,-17.764341354370117,2.9359469413757324,-12.093196868896484,10.2803316116333,6.302835464477539,-13.916807174682617,26.063335418701172,13.424586296081543,-9.163447380065918,-15.315949440002441,-5.913315296173096,-5.668933391571045,16.501052856445312,15.910284042358398,16.462223052978516,-12.232569694519043,11.684701919555664,-0.8485941886901855,5.023634910583496,4.591271877288818,8.357227325439453,-7.937641143798828,-18.583332061767578,-10.509509086608887,-11.237492561340332,11.000741958618164,-17.556293487548828,-8.790132522583008,-18.30199432373047,34.59575271606445,-3.6997463703155518,8.406497955322266,0.08356522768735886,10.287161827087402,11.397011756896973,-8.544150352478027,-18.909366607666016,-19.156435012817383,-11.91481876373291,-9.779231071472168,11.503096580505371,-7.656134605407715,-14.018561363220215,-16.28428077697754,14.224072456359863,3.0044143199920654,24.268354415893555,9.77724552154541,-13.530289649963379,-14.27436637878418,-14.879714965820312,30.12488555908203,22.947534561157227,-12.19288444519043,11.899026870727539,-13.624176979064941,-12.728972434997559,12.759223937988281,1.1719739437103271,-25.047195434570312,14.460160255432129,1.4970017671585083,-10.916906356811523,2.9740395545959473,10.638916015625,29.256269454956055,5.179609298706055,-2.7217562198638916,9.770752906799316,30.18688201904297,-2.8273518085479736,22.697633743286133,6.708529949188232,-11.270387649536133,6.088640213012695,0.7788114547729492,25.66640853881836,7.446533203125,-3.386901378631592,-9.964140892028809,16.541526794433594,7.154322624206543,15.05362319946289,-6.454466342926025,-0.5669311285018921,-11.449614524841309,4.767323017120361,-6.324739456176758,-6.417109489440918,18.774961471557617,-9.764873504638672,-12.483654975891113,25.54085350036621,-9.13497543334961,-12.013081550598145,14.536639213562012,-31.766803741455078,2.33195161819458,-3.582676887512207,17.64736557006836,-17.140853881835938,-17.537506103515625,-11.199835777282715,-6.525737762451172,-17.03356170654297,13.632421493530273,-6.475715637207031,-7.8083600997924805,23.053390502929688,-31.271528244018555,11.737890243530273,6.430317401885986,9.590386390686035,-23.82000732421875,28.1549072265625,10.510893821716309,1.3985035419464111,-20.825471878051758,4.357898235321045,-2.0368905067443848,7.441738605499268,8.671245574951172,-20.92743682861328,-0.3640640079975128,-8.75600814819336,8.452668190002441,6.597885608673096],\"yaxis\":\"y\",\"type\":\"scatter\"}],                        {\"template\":{\"data\":{\"histogram2dcontour\":[{\"type\":\"histogram2dcontour\",\"colorbar\":{\"outlinewidth\":0,\"ticks\":\"\"},\"colorscale\":[[0.0,\"#0d0887\"],[0.1111111111111111,\"#46039f\"],[0.2222222222222222,\"#7201a8\"],[0.3333333333333333,\"#9c179e\"],[0.4444444444444444,\"#bd3786\"],[0.5555555555555556,\"#d8576b\"],[0.6666666666666666,\"#ed7953\"],[0.7777777777777778,\"#fb9f3a\"],[0.8888888888888888,\"#fdca26\"],[1.0,\"#f0f921\"]]}],\"choropleth\":[{\"type\":\"choropleth\",\"colorbar\":{\"outlinewidth\":0,\"ticks\":\"\"}}],\"histogram2d\":[{\"type\":\"histogram2d\",\"colorbar\":{\"outlinewidth\":0,\"ticks\":\"\"},\"colorscale\":[[0.0,\"#0d0887\"],[0.1111111111111111,\"#46039f\"],[0.2222222222222222,\"#7201a8\"],[0.3333333333333333,\"#9c179e\"],[0.4444444444444444,\"#bd3786\"],[0.5555555555555556,\"#d8576b\"],[0.6666666666666666,\"#ed7953\"],[0.7777777777777778,\"#fb9f3a\"],[0.8888888888888888,\"#fdca26\"],[1.0,\"#f0f921\"]]}],\"heatmap\":[{\"type\":\"heatmap\",\"colorbar\":{\"outlinewidth\":0,\"ticks\":\"\"},\"colorscale\":[[0.0,\"#0d0887\"],[0.1111111111111111,\"#46039f\"],[0.2222222222222222,\"#7201a8\"],[0.3333333333333333,\"#9c179e\"],[0.4444444444444444,\"#bd3786\"],[0.5555555555555556,\"#d8576b\"],[0.6666666666666666,\"#ed7953\"],[0.7777777777777778,\"#fb9f3a\"],[0.8888888888888888,\"#fdca26\"],[1.0,\"#f0f921\"]]}],\"heatmapgl\":[{\"type\":\"heatmapgl\",\"colorbar\":{\"outlinewidth\":0,\"ticks\":\"\"},\"colorscale\":[[0.0,\"#0d0887\"],[0.1111111111111111,\"#46039f\"],[0.2222222222222222,\"#7201a8\"],[0.3333333333333333,\"#9c179e\"],[0.4444444444444444,\"#bd3786\"],[0.5555555555555556,\"#d8576b\"],[0.6666666666666666,\"#ed7953\"],[0.7777777777777778,\"#fb9f3a\"],[0.8888888888888888,\"#fdca26\"],[1.0,\"#f0f921\"]]}],\"contourcarpet\":[{\"type\":\"contourcarpet\",\"colorbar\":{\"outlinewidth\":0,\"ticks\":\"\"}}],\"contour\":[{\"type\":\"contour\",\"colorbar\":{\"outlinewidth\":0,\"ticks\":\"\"},\"colorscale\":[[0.0,\"#0d0887\"],[0.1111111111111111,\"#46039f\"],[0.2222222222222222,\"#7201a8\"],[0.3333333333333333,\"#9c179e\"],[0.4444444444444444,\"#bd3786\"],[0.5555555555555556,\"#d8576b\"],[0.6666666666666666,\"#ed7953\"],[0.7777777777777778,\"#fb9f3a\"],[0.8888888888888888,\"#fdca26\"],[1.0,\"#f0f921\"]]}],\"surface\":[{\"type\":\"surface\",\"colorbar\":{\"outlinewidth\":0,\"ticks\":\"\"},\"colorscale\":[[0.0,\"#0d0887\"],[0.1111111111111111,\"#46039f\"],[0.2222222222222222,\"#7201a8\"],[0.3333333333333333,\"#9c179e\"],[0.4444444444444444,\"#bd3786\"],[0.5555555555555556,\"#d8576b\"],[0.6666666666666666,\"#ed7953\"],[0.7777777777777778,\"#fb9f3a\"],[0.8888888888888888,\"#fdca26\"],[1.0,\"#f0f921\"]]}],\"mesh3d\":[{\"type\":\"mesh3d\",\"colorbar\":{\"outlinewidth\":0,\"ticks\":\"\"}}],\"scatter\":[{\"fillpattern\":{\"fillmode\":\"overlay\",\"size\":10,\"solidity\":0.2},\"type\":\"scatter\"}],\"parcoords\":[{\"type\":\"parcoords\",\"line\":{\"colorbar\":{\"outlinewidth\":0,\"ticks\":\"\"}}}],\"scatterpolargl\":[{\"type\":\"scatterpolargl\",\"marker\":{\"colorbar\":{\"outlinewidth\":0,\"ticks\":\"\"}}}],\"bar\":[{\"error_x\":{\"color\":\"#2a3f5f\"},\"error_y\":{\"color\":\"#2a3f5f\"},\"marker\":{\"line\":{\"color\":\"#E5ECF6\",\"width\":0.5},\"pattern\":{\"fillmode\":\"overlay\",\"size\":10,\"solidity\":0.2}},\"type\":\"bar\"}],\"scattergeo\":[{\"type\":\"scattergeo\",\"marker\":{\"colorbar\":{\"outlinewidth\":0,\"ticks\":\"\"}}}],\"scatterpolar\":[{\"type\":\"scatterpolar\",\"marker\":{\"colorbar\":{\"outlinewidth\":0,\"ticks\":\"\"}}}],\"histogram\":[{\"marker\":{\"pattern\":{\"fillmode\":\"overlay\",\"size\":10,\"solidity\":0.2}},\"type\":\"histogram\"}],\"scattergl\":[{\"type\":\"scattergl\",\"marker\":{\"colorbar\":{\"outlinewidth\":0,\"ticks\":\"\"}}}],\"scatter3d\":[{\"type\":\"scatter3d\",\"line\":{\"colorbar\":{\"outlinewidth\":0,\"ticks\":\"\"}},\"marker\":{\"colorbar\":{\"outlinewidth\":0,\"ticks\":\"\"}}}],\"scattermapbox\":[{\"type\":\"scattermapbox\",\"marker\":{\"colorbar\":{\"outlinewidth\":0,\"ticks\":\"\"}}}],\"scatterternary\":[{\"type\":\"scatterternary\",\"marker\":{\"colorbar\":{\"outlinewidth\":0,\"ticks\":\"\"}}}],\"scattercarpet\":[{\"type\":\"scattercarpet\",\"marker\":{\"colorbar\":{\"outlinewidth\":0,\"ticks\":\"\"}}}],\"carpet\":[{\"aaxis\":{\"endlinecolor\":\"#2a3f5f\",\"gridcolor\":\"white\",\"linecolor\":\"white\",\"minorgridcolor\":\"white\",\"startlinecolor\":\"#2a3f5f\"},\"baxis\":{\"endlinecolor\":\"#2a3f5f\",\"gridcolor\":\"white\",\"linecolor\":\"white\",\"minorgridcolor\":\"white\",\"startlinecolor\":\"#2a3f5f\"},\"type\":\"carpet\"}],\"table\":[{\"cells\":{\"fill\":{\"color\":\"#EBF0F8\"},\"line\":{\"color\":\"white\"}},\"header\":{\"fill\":{\"color\":\"#C8D4E3\"},\"line\":{\"color\":\"white\"}},\"type\":\"table\"}],\"barpolar\":[{\"marker\":{\"line\":{\"color\":\"#E5ECF6\",\"width\":0.5},\"pattern\":{\"fillmode\":\"overlay\",\"size\":10,\"solidity\":0.2}},\"type\":\"barpolar\"}],\"pie\":[{\"automargin\":true,\"type\":\"pie\"}]},\"layout\":{\"autotypenumbers\":\"strict\",\"colorway\":[\"#636efa\",\"#EF553B\",\"#00cc96\",\"#ab63fa\",\"#FFA15A\",\"#19d3f3\",\"#FF6692\",\"#B6E880\",\"#FF97FF\",\"#FECB52\"],\"font\":{\"color\":\"#2a3f5f\"},\"hovermode\":\"closest\",\"hoverlabel\":{\"align\":\"left\"},\"paper_bgcolor\":\"white\",\"plot_bgcolor\":\"#E5ECF6\",\"polar\":{\"bgcolor\":\"#E5ECF6\",\"angularaxis\":{\"gridcolor\":\"white\",\"linecolor\":\"white\",\"ticks\":\"\"},\"radialaxis\":{\"gridcolor\":\"white\",\"linecolor\":\"white\",\"ticks\":\"\"}},\"ternary\":{\"bgcolor\":\"#E5ECF6\",\"aaxis\":{\"gridcolor\":\"white\",\"linecolor\":\"white\",\"ticks\":\"\"},\"baxis\":{\"gridcolor\":\"white\",\"linecolor\":\"white\",\"ticks\":\"\"},\"caxis\":{\"gridcolor\":\"white\",\"linecolor\":\"white\",\"ticks\":\"\"}},\"coloraxis\":{\"colorbar\":{\"outlinewidth\":0,\"ticks\":\"\"}},\"colorscale\":{\"sequential\":[[0.0,\"#0d0887\"],[0.1111111111111111,\"#46039f\"],[0.2222222222222222,\"#7201a8\"],[0.3333333333333333,\"#9c179e\"],[0.4444444444444444,\"#bd3786\"],[0.5555555555555556,\"#d8576b\"],[0.6666666666666666,\"#ed7953\"],[0.7777777777777778,\"#fb9f3a\"],[0.8888888888888888,\"#fdca26\"],[1.0,\"#f0f921\"]],\"sequentialminus\":[[0.0,\"#0d0887\"],[0.1111111111111111,\"#46039f\"],[0.2222222222222222,\"#7201a8\"],[0.3333333333333333,\"#9c179e\"],[0.4444444444444444,\"#bd3786\"],[0.5555555555555556,\"#d8576b\"],[0.6666666666666666,\"#ed7953\"],[0.7777777777777778,\"#fb9f3a\"],[0.8888888888888888,\"#fdca26\"],[1.0,\"#f0f921\"]],\"diverging\":[[0,\"#8e0152\"],[0.1,\"#c51b7d\"],[0.2,\"#de77ae\"],[0.3,\"#f1b6da\"],[0.4,\"#fde0ef\"],[0.5,\"#f7f7f7\"],[0.6,\"#e6f5d0\"],[0.7,\"#b8e186\"],[0.8,\"#7fbc41\"],[0.9,\"#4d9221\"],[1,\"#276419\"]]},\"xaxis\":{\"gridcolor\":\"white\",\"linecolor\":\"white\",\"ticks\":\"\",\"title\":{\"standoff\":15},\"zerolinecolor\":\"white\",\"automargin\":true,\"zerolinewidth\":2},\"yaxis\":{\"gridcolor\":\"white\",\"linecolor\":\"white\",\"ticks\":\"\",\"title\":{\"standoff\":15},\"zerolinecolor\":\"white\",\"automargin\":true,\"zerolinewidth\":2},\"scene\":{\"xaxis\":{\"backgroundcolor\":\"#E5ECF6\",\"gridcolor\":\"white\",\"linecolor\":\"white\",\"showbackground\":true,\"ticks\":\"\",\"zerolinecolor\":\"white\",\"gridwidth\":2},\"yaxis\":{\"backgroundcolor\":\"#E5ECF6\",\"gridcolor\":\"white\",\"linecolor\":\"white\",\"showbackground\":true,\"ticks\":\"\",\"zerolinecolor\":\"white\",\"gridwidth\":2},\"zaxis\":{\"backgroundcolor\":\"#E5ECF6\",\"gridcolor\":\"white\",\"linecolor\":\"white\",\"showbackground\":true,\"ticks\":\"\",\"zerolinecolor\":\"white\",\"gridwidth\":2}},\"shapedefaults\":{\"line\":{\"color\":\"#2a3f5f\"}},\"annotationdefaults\":{\"arrowcolor\":\"#2a3f5f\",\"arrowhead\":0,\"arrowwidth\":1},\"geo\":{\"bgcolor\":\"white\",\"landcolor\":\"#E5ECF6\",\"subunitcolor\":\"white\",\"showland\":true,\"showlakes\":true,\"lakecolor\":\"white\"},\"title\":{\"x\":0.05},\"mapbox\":{\"style\":\"light\"}}},\"xaxis\":{\"anchor\":\"y\",\"domain\":[0.0,1.0],\"title\":{\"text\":\"x\"}},\"yaxis\":{\"anchor\":\"x\",\"domain\":[0.0,1.0],\"title\":{\"text\":\"y\"}},\"legend\":{\"tracegroupgap\":0},\"margin\":{\"t\":60}},                        {\"responsive\": true}                    ).then(function(){\n",
              "                            \n",
              "var gd = document.getElementById('aade979b-22f9-42e6-adda-be02c6ce8ffe');\n",
              "var x = new MutationObserver(function (mutations, observer) {{\n",
              "        var display = window.getComputedStyle(gd).display;\n",
              "        if (!display || display === 'none') {{\n",
              "            console.log([gd, 'removed!']);\n",
              "            Plotly.purge(gd);\n",
              "            observer.disconnect();\n",
              "        }}\n",
              "}});\n",
              "\n",
              "// Listen for the removal of the full notebook cells\n",
              "var notebookContainer = gd.closest('#notebook-container');\n",
              "if (notebookContainer) {{\n",
              "    x.observe(notebookContainer, {childList: true});\n",
              "}}\n",
              "\n",
              "// Listen for the clearing of the current output cell\n",
              "var outputEl = gd.closest('.output');\n",
              "if (outputEl) {{\n",
              "    x.observe(outputEl, {childList: true});\n",
              "}}\n",
              "\n",
              "                        })                };                            </script>        </div>\n",
              "</body>\n",
              "</html>"
            ]
          },
          "metadata": {}
        }
      ],
      "source": [
        "# Graficar los embedddings en 2D\n",
        "import plotly.graph_objects as go\n",
        "import plotly.express as px\n",
        "\n",
        "vecs, labels = reduce_dimensions(w2v_model)\n",
        "\n",
        "MAX_WORDS=200\n",
        "fig = px.scatter(x=vecs[:MAX_WORDS,0], y=vecs[:MAX_WORDS,1], text=labels[:MAX_WORDS])\n",
        "fig.show(renderer=\"colab\") # esto para plotly en colab"
      ]
    },
    {
      "cell_type": "code",
      "execution_count": 38,
      "metadata": {
        "id": "2opMhSsCPfek",
        "colab": {
          "base_uri": "https://localhost:8080/",
          "height": 542
        },
        "outputId": "d9c602e9-9dfa-42c5-f121-2da9d2f9165d"
      },
      "outputs": [
        {
          "output_type": "display_data",
          "data": {
            "text/html": [
              "<html>\n",
              "<head><meta charset=\"utf-8\" /></head>\n",
              "<body>\n",
              "    <div>            <script src=\"https://cdnjs.cloudflare.com/ajax/libs/mathjax/2.7.5/MathJax.js?config=TeX-AMS-MML_SVG\"></script><script type=\"text/javascript\">if (window.MathJax && window.MathJax.Hub && window.MathJax.Hub.Config) {window.MathJax.Hub.Config({SVG: {font: \"STIX-Web\"}});}</script>                <script type=\"text/javascript\">window.PlotlyConfig = {MathJaxConfig: 'local'};</script>\n",
              "        <script charset=\"utf-8\" src=\"https://cdn.plot.ly/plotly-2.24.1.min.js\"></script>                <div id=\"091eee06-3734-48aa-a398-d8ef1f76ab25\" class=\"plotly-graph-div\" style=\"height:525px; width:100%;\"></div>            <script type=\"text/javascript\">                                    window.PLOTLYENV=window.PLOTLYENV || {};                                    if (document.getElementById(\"091eee06-3734-48aa-a398-d8ef1f76ab25\")) {                    Plotly.newPlot(                        \"091eee06-3734-48aa-a398-d8ef1f76ab25\",                        [{\"hovertemplate\":\"x=%{x}\\u003cbr\\u003ey=%{y}\\u003cbr\\u003ez=%{z}\\u003cbr\\u003etext=%{text}\\u003cextra\\u003e\\u003c\\u002fextra\\u003e\",\"legendgroup\":\"\",\"marker\":{\"color\":\"#636efa\",\"symbol\":\"circle\",\"size\":2},\"mode\":\"markers+text\",\"name\":\"\",\"scene\":\"scene\",\"showlegend\":false,\"text\":[\"the\",\"and\",\"was\",\"to\",\"a\",\"is\",\"i\",\"of\",\"good\",\"food\",\"for\",\"it\",\"place\",\"with\",\"in\",\"this\",\"we\",\"very\",\"not\",\"they\",\"but\",\"service\",\"have\",\"chicken\",\"you\",\"are\",\"5\",\"on\",\"were\",\"had\",\"that\",\"as\",\"taste\",\"my\",\"ordered\",\"ambience\",\"all\",\"great\",\"one\",\"so\",\"at\",\"here\",\"which\",\"from\",\"be\",\"really\",\"time\",\"also\",\"their\",\"there\",\"nice\",\"like\",\"best\",\"too\",\"biryani\",\"staff\",\"just\",\"try\",\"restaurant\",\"visit\",\"veg\",\"if\",\"will\",\"experience\",\"order\",\"can\",\"well\",\"would\",\"4\",\"no\",\"amazing\",\"some\",\"must\",\"has\",\"more\",\"been\",\"again\",\"your\",\"awesome\",\"even\",\"only\",\"3\",\"out\",\"quality\",\"it's\",\"by\",\"us\",\"me\",\"starters\",\"when\",\"served\",\"an\",\"rice\",\"go\",\"overall\",\"or\",\"went\",\"our\",\"paneer\",\"friends\",\"tasty\",\"menu\",\"about\",\"after\",\"bad\",\"quantity\",\"get\",\"much\",\"up\",\"buffet\",\"other\",\"its\",\"tried\",\"love\",\"delicious\",\"ambiance\",\"loved\",\"2\",\"better\",\"them\",\"spicy\",\"main\",\"dishes\",\"items\",\"got\",\"what\",\"lunch\",\"friendly\",\"course\",\"hyderabad\",\"worst\",\"people\",\"music\",\"tasted\",\"fish\",\"drinks\",\"little\",\"recommend\",\"delivery\",\"fried\",\"price\",\"money\",\"zomato\",\"worth\",\"he\",\"made\",\"decent\",\"then\",\"less\",\"don't\",\"than\",\"pizza\",\"over\",\"never\",\"definitely\",\"excellent\",\"first\",\"bit\",\"both\",\"could\",\"though\",\"quite\",\"any\",\"visited\",\"dinner\",\"lot\",\"dish\",\"non\",\"do\",\"special\",\"times\",\"am\",\"who\",\"cream\",\"ice\",\"average\",\"cheese\",\"perfect\",\"ever\",\"ok\",\"soup\",\"should\",\"gachibowli\",\"eat\",\"table\",\"say\",\"night\",\"didn't\",\"give\",\"tikka\",\"chocolate\",\"butter\",\"hot\",\"serve\",\"mutton\",\"cake\",\"always\",\"1\",\"curry\",\"noodles\"],\"x\":[6.803575038909912,15.800503730773926,7.523509502410889,-10.891504287719727,-1.878570556640625,6.743858337402344,-5.773368835449219,6.446284294128418,-0.7355449199676514,0.44697436690330505,-25.248151779174805,-10.217693328857422,-13.672391891479492,3.523545265197754,2.282823085784912,-7.3721184730529785,-5.676459312438965,-44.151939392089844,13.02322769165039,-21.009044647216797,-2.266301393508911,-41.45042419433594,-6.385702133178711,27.99724006652832,-13.378124237060547,17.10611343383789,-2.1748061180114746,-13.416865348815918,27.08502960205078,4.053247928619385,-6.8318586349487305,-8.835864067077637,9.884171485900879,-12.277073860168457,44.79814910888672,1.6958849430084229,13.283048629760742,1.3432703018188477,1.1125140190124512,0.5163708329200745,-3.141312837600708,8.268572807312012,15.149956703186035,-26.14192771911621,-6.193320274353027,3.5975420475006104,-14.590060234069824,-2.5309479236602783,7.033464431762695,-12.250870704650879,6.338284969329834,10.024988174438477,-0.06172499805688858,6.192373275756836,38.74808883666992,-39.4069709777832,16.232812881469727,9.243355751037598,2.27677583694458,-14.923301696777344,28.900300979614258,-8.327081680297852,-15.416450500488281,-10.980775833129883,-29.6536922454834,-9.506512641906738,16.28622055053711,-11.571145057678223,-2.499089002609253,7.568544864654541,8.427912712097168,9.965629577636719,15.343783378601074,-2.8982081413269043,4.042925834655762,-13.839876174926758,-17.80008888244629,-15.358222961425781,9.182576179504395,-21.1935977935791,14.304258346557617,-3.414031505584717,-15.491670608520508,5.037684440612793,0.5198273658752441,-51.40679931640625,-37.001441955566406,-23.652076721191406,23.358078002929688,-38.58833694458008,13.936161994934082,-2.664926052093506,29.012842178344727,-11.667417526245117,-1.19601571559906,-27.6407413482666,-17.8313045501709,-14.142807006835938,46.104557037353516,-29.418092727661133,5.838135242462158,5.6055755615234375,-27.26753807067871,-20.575902938842773,0.749235212802887,11.767935752868652,-9.513726234436035,8.52491283416748,-37.995330810546875,9.743700981140137,8.138096809387207,0.9897983074188232,10.543806076049805,7.520393371582031,18.977975845336914,3.7912557125091553,6.550447940826416,17.166122436523438,-0.9418789148330688,-12.169313430786133,16.011241912841797,17.802427291870117,15.83436107635498,12.570688247680664,-29.20607566833496,-26.537729263305664,-22.841909408569336,-45.19322204589844,16.520675659179688,-6.010058879852295,-3.135169267654419,-34.71990966796875,-8.889363288879395,22.192764282226562,22.75263023376465,16.672266006469727,12.029607772827148,-20.33046531677246,-30.704458236694336,31.041105270385742,6.927001476287842,-10.56491756439209,-24.15775489807129,0.9633398056030273,-38.24840545654297,23.649152755737305,-3.1267144680023193,10.540486335754395,5.236198425292969,-19.015134811401367,13.497330665588379,27.67254066467285,15.964923858642578,-0.8125510811805725,-9.537834167480469,-46.48194122314453,-22.439407348632812,8.874846458435059,19.138418197631836,8.519560813903809,8.468295097351074,11.717916488647461,-2.4008402824401855,-18.112714767456055,-24.62735366821289,0.6263505220413208,8.973246574401855,27.767438888549805,-16.01807403564453,33.70225524902344,2.2150824069976807,-15.080548286437988,-36.41122055053711,20.751863479614258,23.170743942260742,16.355224609375,34.031776428222656,4.870708465576172,-5.564417839050293,9.748059272766113,16.122745513916016,-11.28958511352539,-4.16501522064209,-5.369258403778076,-20.053485870361328,-1.1228909492492676,-13.867162704467773,0.4732065796852112,-17.44188690185547,38.47703552246094,29.72686195373535,46.37520980834961,17.652952194213867,-11.365772247314453,40.55550765991211,23.482677459716797,-8.46170711517334,-0.9569002985954285,35.147743225097656,38.52494812011719],\"y\":[10.452656745910645,-3.623760223388672,19.018476486206055,4.875991344451904,-9.490675926208496,18.28692054748535,-8.390081405639648,10.574223518371582,0.5651772618293762,13.132689476013184,-29.857839584350586,-7.426723003387451,-31.485803604125977,-14.201274871826172,2.6036453247070312,-25.781049728393555,-6.9780049324035645,3.663102149963379,11.736286163330078,-28.304759979248047,-0.5755887627601624,-14.616107940673828,27.9741268157959,4.452508449554443,0.4100664258003235,10.338858604431152,-20.17637062072754,-40.341827392578125,14.258459091186523,-24.04720115661621,-4.145614147186279,-35.47524642944336,9.165201187133789,-19.7731990814209,-1.7131370306015015,8.39610481262207,-14.155776023864746,0.11216089874505997,-22.088502883911133,0.9961441159248352,-28.0981388092041,-23.61178970336914,-6.562750339508057,-4.352823734283447,13.34976577758789,5.594015598297119,-16.995162963867188,4.807283878326416,-12.706515312194824,-15.112762451171875,-0.4653017818927765,-28.629281997680664,-16.182493209838867,8.947406768798828,-2.4362239837646484,1.4569419622421265,-13.701628684997559,1.3737770318984985,-15.179237365722656,-7.957784652709961,-17.248886108398438,24.54378318786621,10.03065013885498,-25.004060745239258,1.949792504310608,14.791891098022461,7.916421413421631,7.74118709564209,-20.8577880859375,-14.962891578674316,-4.229970455169678,5.031311511993408,21.44047737121582,5.802190780639648,29.239418029785156,-14.496197700500488,-7.962998867034912,-22.548242568969727,-1.9305192232131958,17.020910263061523,-24.567153930664062,-15.643187522888184,2.9320812225341797,10.191031455993652,21.311668395996094,3.775010108947754,6.321516036987305,-9.962106704711914,-20.18531036376953,4.025972366333008,1.6685744524002075,-8.103471755981445,3.395846366882324,16.862743377685547,-14.41385555267334,-23.938396453857422,-14.021505355834961,-23.336261749267578,10.665645599365234,-23.414337158203125,2.7900285720825195,-19.3989200592041,-19.982297897338867,-5.631577968597412,-9.441473960876465,12.500439643859863,16.2569637298584,29.970561981201172,-21.494836807250977,-27.337358474731445,-10.358542442321777,17.236623764038086,-18.250823974609375,-31.975597381591797,-9.053644180297852,10.713330268859863,-13.893167495727539,-29.757984161376953,30.9218692779541,12.729551315307617,35.86982727050781,-27.51393699645996,-18.790130615234375,-13.286091804504395,-8.345000267028809,7.189870834350586,-22.166128158569336,-4.155716896057129,-26.49616813659668,-18.174501419067383,-14.045209884643555,13.837477684020996,29.269542694091797,25.39729881286621,1.5532889366149902,-22.700984954833984,30.536575317382812,-2.597320556640625,-15.379962921142578,12.092477798461914,18.283540725708008,-10.984786987304688,-21.51576042175293,17.194034576416016,3.6681759357452393,5.70620059967041,2.35058856010437,-18.32512664794922,25.46004295349121,5.724207878112793,10.81457805633545,0.10679356753826141,17.271358489990234,-24.788875579833984,-2.4507057666778564,-10.767258644104004,-12.548093795776367,26.306806564331055,-19.7584228515625,34.083091735839844,9.712760925292969,15.91372013092041,-7.390165328979492,-13.118678092956543,-20.37898826599121,27.24184226989746,-9.16382122039795,-20.564651489257812,-0.2660162150859833,1.5317033529281616,-5.106693744659424,33.696353912353516,-2.728407859802246,-16.412334442138672,-18.854188919067383,-2.9997446537017822,-0.9744011759757996,-10.006204605102539,-23.160188674926758,12.533746719360352,-0.6268848776817322,17.973630905151367,-4.07714319229126,9.390645980834961,-10.444572448730469,0.12037148326635361,27.938827514648438,-34.20734786987305,11.146663665771484,-6.635534286499023,-9.11325454711914,0.2761141061782837,0.051115281879901886,4.860098361968994,-3.3250880241394043,1.4624818563461304,2.057345151901245,-19.199085235595703,7.599520683288574,17.860904693603516],\"z\":[-4.925870418548584,-15.298060417175293,-34.052059173583984,0.41915813088417053,-31.633163452148438,-32.79279708862305,-10.278406143188477,-0.8260201811790466,-27.849220275878906,-31.101882934570312,4.104756832122803,-10.599430084228516,25.718002319335938,-36.38457489013672,12.282596588134766,2.0654473304748535,-7.937868118286133,-8.812487602233887,-26.80803108215332,-9.320935249328613,-16.723787307739258,-14.145649909973145,-7.785627841949463,-8.861617088317871,-21.469820022583008,-31.436534881591797,-30.916996002197266,-5.7982330322265625,-27.752042770385742,-3.483612060546875,-4.242386817932129,-17.683429718017578,-7.445579528808594,15.376701354980469,17.066402435302734,-30.082609176635742,6.342434883117676,-29.62436294555664,11.637649536132812,-14.706291198730469,-29.60125160217285,-23.058807373046875,-21.485759735107422,-7.007669925689697,-12.638408660888672,-20.26603126525879,18.770679473876953,-17.179685592651367,9.004542350769043,-37.966407775878906,-30.748140335083008,-18.12453269958496,34.59413528442383,-20.277957916259766,-12.414286613464355,-18.875110626220703,-19.610977172851562,6.939985752105713,16.5850772857666,-26.48922348022461,-0.7602341771125793,-10.762245178222656,-26.583776473999023,-8.08044719696045,-6.474033355712891,-29.441787719726562,-22.543916702270508,-26.848297119140625,-32.02560043334961,-14.849206924438477,-25.15850257873535,10.38972282409668,20.801389694213867,18.446422576904297,-10.27669620513916,22.596403121948242,-30.177902221679688,-11.513739585876465,-28.453458786010742,15.357525825500488,-2.6653549671173096,-28.92549705505371,16.95233726501465,-14.584470748901367,-31.79054069519043,-1.2201184034347534,9.008119583129883,-34.072147369384766,-4.710386276245117,12.483569145202637,-8.65041446685791,7.467229843139648,-13.57756233215332,-0.6659032702445984,-21.901748657226562,16.03615951538086,17.504053115844727,10.816987037658691,-10.235281944274902,6.854125499725342,-22.741758346557617,10.408025741577148,-25.24748420715332,14.166037559509277,-17.118648529052734,-8.779897689819336,-7.878511905670166,-4.81102991104126,7.21351432800293,3.0275158882141113,5.818674087524414,-26.11052703857422,-4.549810409545898,-12.88660717010498,-28.257938385009766,-30.47701072692871,-28.976316452026367,-2.9940342903137207,-11.88905143737793,-38.839599609375,-8.463113784790039,2.0912554264068604,7.049719333648682,1.4957536458969116,12.917604446411133,-29.42579460144043,18.86855697631836,-15.423440933227539,2.5151195526123047,28.59851837158203,-9.692739486694336,16.433391571044922,21.614633560180664,-11.95355224609375,-9.735377311706543,-30.40992546081543,-15.810236930847168,-26.544445037841797,-7.125446319580078,-10.411590576171875,-20.26984405517578,-16.37123680114746,-10.584257125854492,-16.91777229309082,0.6279096007347107,-30.86272430419922,-30.97295379638672,-11.244647979736328,-12.156390190124512,-34.837059020996094,34.07514572143555,4.68589973449707,-36.677215576171875,-3.8849294185638428,-26.99817657470703,-7.685585021972656,32.155513763427734,-15.48470401763916,-6.2252421379089355,-8.77635383605957,-17.600419998168945,-20.88074493408203,-4.818154335021973,21.120834350585938,16.7408390045166,3.8671700954437256,0.4873749613761902,-1.1618551015853882,-16.613245010375977,-31.3736629486084,7.8770647048950195,11.168680191040039,-1.1078025102615356,19.952510833740234,22.18330192565918,-28.097393035888672,8.587259292602539,-36.13563537597656,-5.696527481079102,-23.261661529541016,6.264488220214844,-31.68853759765625,32.518699645996094,-6.413442611694336,-5.209202766418457,-8.695711135864258,25.675140380859375,-12.828897476196289,-21.947147369384766,-9.983281135559082,29.054445266723633,-5.287098407745361,-7.561811447143555,-21.338233947753906,-17.833890914916992,30.924123764038086,-23.745380401611328,-23.420772552490234,-18.585466384887695,-6.814185619354248],\"type\":\"scatter3d\"}],                        {\"template\":{\"data\":{\"histogram2dcontour\":[{\"type\":\"histogram2dcontour\",\"colorbar\":{\"outlinewidth\":0,\"ticks\":\"\"},\"colorscale\":[[0.0,\"#0d0887\"],[0.1111111111111111,\"#46039f\"],[0.2222222222222222,\"#7201a8\"],[0.3333333333333333,\"#9c179e\"],[0.4444444444444444,\"#bd3786\"],[0.5555555555555556,\"#d8576b\"],[0.6666666666666666,\"#ed7953\"],[0.7777777777777778,\"#fb9f3a\"],[0.8888888888888888,\"#fdca26\"],[1.0,\"#f0f921\"]]}],\"choropleth\":[{\"type\":\"choropleth\",\"colorbar\":{\"outlinewidth\":0,\"ticks\":\"\"}}],\"histogram2d\":[{\"type\":\"histogram2d\",\"colorbar\":{\"outlinewidth\":0,\"ticks\":\"\"},\"colorscale\":[[0.0,\"#0d0887\"],[0.1111111111111111,\"#46039f\"],[0.2222222222222222,\"#7201a8\"],[0.3333333333333333,\"#9c179e\"],[0.4444444444444444,\"#bd3786\"],[0.5555555555555556,\"#d8576b\"],[0.6666666666666666,\"#ed7953\"],[0.7777777777777778,\"#fb9f3a\"],[0.8888888888888888,\"#fdca26\"],[1.0,\"#f0f921\"]]}],\"heatmap\":[{\"type\":\"heatmap\",\"colorbar\":{\"outlinewidth\":0,\"ticks\":\"\"},\"colorscale\":[[0.0,\"#0d0887\"],[0.1111111111111111,\"#46039f\"],[0.2222222222222222,\"#7201a8\"],[0.3333333333333333,\"#9c179e\"],[0.4444444444444444,\"#bd3786\"],[0.5555555555555556,\"#d8576b\"],[0.6666666666666666,\"#ed7953\"],[0.7777777777777778,\"#fb9f3a\"],[0.8888888888888888,\"#fdca26\"],[1.0,\"#f0f921\"]]}],\"heatmapgl\":[{\"type\":\"heatmapgl\",\"colorbar\":{\"outlinewidth\":0,\"ticks\":\"\"},\"colorscale\":[[0.0,\"#0d0887\"],[0.1111111111111111,\"#46039f\"],[0.2222222222222222,\"#7201a8\"],[0.3333333333333333,\"#9c179e\"],[0.4444444444444444,\"#bd3786\"],[0.5555555555555556,\"#d8576b\"],[0.6666666666666666,\"#ed7953\"],[0.7777777777777778,\"#fb9f3a\"],[0.8888888888888888,\"#fdca26\"],[1.0,\"#f0f921\"]]}],\"contourcarpet\":[{\"type\":\"contourcarpet\",\"colorbar\":{\"outlinewidth\":0,\"ticks\":\"\"}}],\"contour\":[{\"type\":\"contour\",\"colorbar\":{\"outlinewidth\":0,\"ticks\":\"\"},\"colorscale\":[[0.0,\"#0d0887\"],[0.1111111111111111,\"#46039f\"],[0.2222222222222222,\"#7201a8\"],[0.3333333333333333,\"#9c179e\"],[0.4444444444444444,\"#bd3786\"],[0.5555555555555556,\"#d8576b\"],[0.6666666666666666,\"#ed7953\"],[0.7777777777777778,\"#fb9f3a\"],[0.8888888888888888,\"#fdca26\"],[1.0,\"#f0f921\"]]}],\"surface\":[{\"type\":\"surface\",\"colorbar\":{\"outlinewidth\":0,\"ticks\":\"\"},\"colorscale\":[[0.0,\"#0d0887\"],[0.1111111111111111,\"#46039f\"],[0.2222222222222222,\"#7201a8\"],[0.3333333333333333,\"#9c179e\"],[0.4444444444444444,\"#bd3786\"],[0.5555555555555556,\"#d8576b\"],[0.6666666666666666,\"#ed7953\"],[0.7777777777777778,\"#fb9f3a\"],[0.8888888888888888,\"#fdca26\"],[1.0,\"#f0f921\"]]}],\"mesh3d\":[{\"type\":\"mesh3d\",\"colorbar\":{\"outlinewidth\":0,\"ticks\":\"\"}}],\"scatter\":[{\"fillpattern\":{\"fillmode\":\"overlay\",\"size\":10,\"solidity\":0.2},\"type\":\"scatter\"}],\"parcoords\":[{\"type\":\"parcoords\",\"line\":{\"colorbar\":{\"outlinewidth\":0,\"ticks\":\"\"}}}],\"scatterpolargl\":[{\"type\":\"scatterpolargl\",\"marker\":{\"colorbar\":{\"outlinewidth\":0,\"ticks\":\"\"}}}],\"bar\":[{\"error_x\":{\"color\":\"#2a3f5f\"},\"error_y\":{\"color\":\"#2a3f5f\"},\"marker\":{\"line\":{\"color\":\"#E5ECF6\",\"width\":0.5},\"pattern\":{\"fillmode\":\"overlay\",\"size\":10,\"solidity\":0.2}},\"type\":\"bar\"}],\"scattergeo\":[{\"type\":\"scattergeo\",\"marker\":{\"colorbar\":{\"outlinewidth\":0,\"ticks\":\"\"}}}],\"scatterpolar\":[{\"type\":\"scatterpolar\",\"marker\":{\"colorbar\":{\"outlinewidth\":0,\"ticks\":\"\"}}}],\"histogram\":[{\"marker\":{\"pattern\":{\"fillmode\":\"overlay\",\"size\":10,\"solidity\":0.2}},\"type\":\"histogram\"}],\"scattergl\":[{\"type\":\"scattergl\",\"marker\":{\"colorbar\":{\"outlinewidth\":0,\"ticks\":\"\"}}}],\"scatter3d\":[{\"type\":\"scatter3d\",\"line\":{\"colorbar\":{\"outlinewidth\":0,\"ticks\":\"\"}},\"marker\":{\"colorbar\":{\"outlinewidth\":0,\"ticks\":\"\"}}}],\"scattermapbox\":[{\"type\":\"scattermapbox\",\"marker\":{\"colorbar\":{\"outlinewidth\":0,\"ticks\":\"\"}}}],\"scatterternary\":[{\"type\":\"scatterternary\",\"marker\":{\"colorbar\":{\"outlinewidth\":0,\"ticks\":\"\"}}}],\"scattercarpet\":[{\"type\":\"scattercarpet\",\"marker\":{\"colorbar\":{\"outlinewidth\":0,\"ticks\":\"\"}}}],\"carpet\":[{\"aaxis\":{\"endlinecolor\":\"#2a3f5f\",\"gridcolor\":\"white\",\"linecolor\":\"white\",\"minorgridcolor\":\"white\",\"startlinecolor\":\"#2a3f5f\"},\"baxis\":{\"endlinecolor\":\"#2a3f5f\",\"gridcolor\":\"white\",\"linecolor\":\"white\",\"minorgridcolor\":\"white\",\"startlinecolor\":\"#2a3f5f\"},\"type\":\"carpet\"}],\"table\":[{\"cells\":{\"fill\":{\"color\":\"#EBF0F8\"},\"line\":{\"color\":\"white\"}},\"header\":{\"fill\":{\"color\":\"#C8D4E3\"},\"line\":{\"color\":\"white\"}},\"type\":\"table\"}],\"barpolar\":[{\"marker\":{\"line\":{\"color\":\"#E5ECF6\",\"width\":0.5},\"pattern\":{\"fillmode\":\"overlay\",\"size\":10,\"solidity\":0.2}},\"type\":\"barpolar\"}],\"pie\":[{\"automargin\":true,\"type\":\"pie\"}]},\"layout\":{\"autotypenumbers\":\"strict\",\"colorway\":[\"#636efa\",\"#EF553B\",\"#00cc96\",\"#ab63fa\",\"#FFA15A\",\"#19d3f3\",\"#FF6692\",\"#B6E880\",\"#FF97FF\",\"#FECB52\"],\"font\":{\"color\":\"#2a3f5f\"},\"hovermode\":\"closest\",\"hoverlabel\":{\"align\":\"left\"},\"paper_bgcolor\":\"white\",\"plot_bgcolor\":\"#E5ECF6\",\"polar\":{\"bgcolor\":\"#E5ECF6\",\"angularaxis\":{\"gridcolor\":\"white\",\"linecolor\":\"white\",\"ticks\":\"\"},\"radialaxis\":{\"gridcolor\":\"white\",\"linecolor\":\"white\",\"ticks\":\"\"}},\"ternary\":{\"bgcolor\":\"#E5ECF6\",\"aaxis\":{\"gridcolor\":\"white\",\"linecolor\":\"white\",\"ticks\":\"\"},\"baxis\":{\"gridcolor\":\"white\",\"linecolor\":\"white\",\"ticks\":\"\"},\"caxis\":{\"gridcolor\":\"white\",\"linecolor\":\"white\",\"ticks\":\"\"}},\"coloraxis\":{\"colorbar\":{\"outlinewidth\":0,\"ticks\":\"\"}},\"colorscale\":{\"sequential\":[[0.0,\"#0d0887\"],[0.1111111111111111,\"#46039f\"],[0.2222222222222222,\"#7201a8\"],[0.3333333333333333,\"#9c179e\"],[0.4444444444444444,\"#bd3786\"],[0.5555555555555556,\"#d8576b\"],[0.6666666666666666,\"#ed7953\"],[0.7777777777777778,\"#fb9f3a\"],[0.8888888888888888,\"#fdca26\"],[1.0,\"#f0f921\"]],\"sequentialminus\":[[0.0,\"#0d0887\"],[0.1111111111111111,\"#46039f\"],[0.2222222222222222,\"#7201a8\"],[0.3333333333333333,\"#9c179e\"],[0.4444444444444444,\"#bd3786\"],[0.5555555555555556,\"#d8576b\"],[0.6666666666666666,\"#ed7953\"],[0.7777777777777778,\"#fb9f3a\"],[0.8888888888888888,\"#fdca26\"],[1.0,\"#f0f921\"]],\"diverging\":[[0,\"#8e0152\"],[0.1,\"#c51b7d\"],[0.2,\"#de77ae\"],[0.3,\"#f1b6da\"],[0.4,\"#fde0ef\"],[0.5,\"#f7f7f7\"],[0.6,\"#e6f5d0\"],[0.7,\"#b8e186\"],[0.8,\"#7fbc41\"],[0.9,\"#4d9221\"],[1,\"#276419\"]]},\"xaxis\":{\"gridcolor\":\"white\",\"linecolor\":\"white\",\"ticks\":\"\",\"title\":{\"standoff\":15},\"zerolinecolor\":\"white\",\"automargin\":true,\"zerolinewidth\":2},\"yaxis\":{\"gridcolor\":\"white\",\"linecolor\":\"white\",\"ticks\":\"\",\"title\":{\"standoff\":15},\"zerolinecolor\":\"white\",\"automargin\":true,\"zerolinewidth\":2},\"scene\":{\"xaxis\":{\"backgroundcolor\":\"#E5ECF6\",\"gridcolor\":\"white\",\"linecolor\":\"white\",\"showbackground\":true,\"ticks\":\"\",\"zerolinecolor\":\"white\",\"gridwidth\":2},\"yaxis\":{\"backgroundcolor\":\"#E5ECF6\",\"gridcolor\":\"white\",\"linecolor\":\"white\",\"showbackground\":true,\"ticks\":\"\",\"zerolinecolor\":\"white\",\"gridwidth\":2},\"zaxis\":{\"backgroundcolor\":\"#E5ECF6\",\"gridcolor\":\"white\",\"linecolor\":\"white\",\"showbackground\":true,\"ticks\":\"\",\"zerolinecolor\":\"white\",\"gridwidth\":2}},\"shapedefaults\":{\"line\":{\"color\":\"#2a3f5f\"}},\"annotationdefaults\":{\"arrowcolor\":\"#2a3f5f\",\"arrowhead\":0,\"arrowwidth\":1},\"geo\":{\"bgcolor\":\"white\",\"landcolor\":\"#E5ECF6\",\"subunitcolor\":\"white\",\"showland\":true,\"showlakes\":true,\"lakecolor\":\"white\"},\"title\":{\"x\":0.05},\"mapbox\":{\"style\":\"light\"}}},\"scene\":{\"domain\":{\"x\":[0.0,1.0],\"y\":[0.0,1.0]},\"xaxis\":{\"title\":{\"text\":\"x\"}},\"yaxis\":{\"title\":{\"text\":\"y\"}},\"zaxis\":{\"title\":{\"text\":\"z\"}}},\"legend\":{\"tracegroupgap\":0},\"margin\":{\"t\":60}},                        {\"responsive\": true}                    ).then(function(){\n",
              "                            \n",
              "var gd = document.getElementById('091eee06-3734-48aa-a398-d8ef1f76ab25');\n",
              "var x = new MutationObserver(function (mutations, observer) {{\n",
              "        var display = window.getComputedStyle(gd).display;\n",
              "        if (!display || display === 'none') {{\n",
              "            console.log([gd, 'removed!']);\n",
              "            Plotly.purge(gd);\n",
              "            observer.disconnect();\n",
              "        }}\n",
              "}});\n",
              "\n",
              "// Listen for the removal of the full notebook cells\n",
              "var notebookContainer = gd.closest('#notebook-container');\n",
              "if (notebookContainer) {{\n",
              "    x.observe(notebookContainer, {childList: true});\n",
              "}}\n",
              "\n",
              "// Listen for the clearing of the current output cell\n",
              "var outputEl = gd.closest('.output');\n",
              "if (outputEl) {{\n",
              "    x.observe(outputEl, {childList: true});\n",
              "}}\n",
              "\n",
              "                        })                };                            </script>        </div>\n",
              "</body>\n",
              "</html>"
            ]
          },
          "metadata": {}
        }
      ],
      "source": [
        "# Graficar los embedddings en 3D\n",
        "\n",
        "vecs, labels = reduce_dimensions(w2v_model,3)\n",
        "\n",
        "fig = px.scatter_3d(x=vecs[:MAX_WORDS,0], y=vecs[:MAX_WORDS,1], z=vecs[:MAX_WORDS,2],text=labels[:MAX_WORDS])\n",
        "fig.update_traces(marker_size = 2)\n",
        "fig.show(renderer=\"colab\") # esto para plotly en colab"
      ]
    },
    {
      "cell_type": "code",
      "execution_count": 39,
      "metadata": {
        "id": "3XTPm-CWPfek"
      },
      "outputs": [],
      "source": [
        "# También se pueden guardar los vectores y labels como tsv para graficar en\n",
        "# http://projector.tensorflow.org/\n",
        "\n",
        "\n",
        "vectors = np.asarray(w2v_model.wv.vectors)\n",
        "labels = list(w2v_model.wv.index_to_key)\n",
        "\n",
        "np.savetxt(\"vectors.tsv\", vectors, delimiter=\"\\t\")\n",
        "\n",
        "with open(\"labels.tsv\", \"w\") as fp:\n",
        "    for item in labels:\n",
        "        fp.write(\"%s\\n\" % item)"
      ]
    },
    {
      "cell_type": "markdown",
      "metadata": {
        "id": "yMM_SHSaZ9N-"
      },
      "source": [
        "### Alumno"
      ]
    },
    {
      "cell_type": "markdown",
      "metadata": {
        "id": "WivQZ3ZCZ9N_"
      },
      "source": [
        "- Obtener conclusiones.\n",
        "\n",
        "> El modelo tiene la capacidad de representar cada palabra presente en el corpus en un espacio donde palabras con significados similares se agrupan cerca unas de otras, mientras que palabras con significados opuestos tienden a ubicarse en regiones opuestas del espacio. Es importante señalar que todas estas relaciones se derivan de las opiniones expresadas por las personas que han escrito sobre el restaurante que visitaron. Sin embargo, es esencial recordar que estas relaciones son específicas al contexto de las críticas y pueden no mantenerse en otros contextos, donde las palabras pueden tener interpretaciones diferentes.\n",
        "\n"
      ]
    }
  ],
  "metadata": {
    "colab": {
      "provenance": [],
      "gpuType": "T4",
      "include_colab_link": true
    },
    "kernelspec": {
      "display_name": "Python 3",
      "name": "python3"
    },
    "language_info": {
      "codemirror_mode": {
        "name": "ipython",
        "version": 3
      },
      "file_extension": ".py",
      "mimetype": "text/x-python",
      "name": "python",
      "nbconvert_exporter": "python",
      "pygments_lexer": "ipython3",
      "version": "3.10.6"
    },
    "accelerator": "GPU"
  },
  "nbformat": 4,
  "nbformat_minor": 0
}