{
  "cells": [
    {
      "cell_type": "markdown",
      "metadata": {
        "id": "Ue5hxxkdAQJg"
      },
      "source": [
        "<img src=\"https://github.com/hernancontigiani/ceia_memorias_especializacion/raw/master/Figures/logoFIUBA.jpg\" width=\"500\" align=\"center\">\n",
        "\n",
        "# Procesamiento de lenguaje natural\n",
        "## Ejercicio\n",
        "*   Tomar un ejemplo de los bots utilizados (uno de los dos) y construir el propio.\n",
        "*   Sacar conclusiones de los resultados.\n",
        "\n",
        "**IMPORTANTE:** Recuerde para la entrega del ejercicio debe quedar registrado en el colab las preguntas y las respuestas del BOT para que podamos evaluar el desempeño final.\n",
        "\n",
        "## Modelo elegido:Sistema de obtención de información con NLTK utilizando un corpus de una web\n"
      ]
    },
    {
      "cell_type": "code",
      "execution_count": 2,
      "metadata": {
        "id": "kCED1hh-Ioyf",
        "outputId": "4de9ebc6-20f1-4091-addc-fd242dec0b49",
        "colab": {
          "base_uri": "https://localhost:8080/"
        }
      },
      "outputs": [
        {
          "output_type": "stream",
          "name": "stderr",
          "text": [
            "[nltk_data] Downloading package punkt to /root/nltk_data...\n",
            "[nltk_data]   Unzipping tokenizers/punkt.zip.\n",
            "[nltk_data] Downloading package wordnet to /root/nltk_data...\n",
            "[nltk_data] Downloading package omw-1.4 to /root/nltk_data...\n"
          ]
        },
        {
          "output_type": "execute_result",
          "data": {
            "text/plain": [
              "True"
            ]
          },
          "metadata": {},
          "execution_count": 2
        }
      ],
      "source": [
        "import json\n",
        "import string\n",
        "import random\n",
        "import re # Regular Expressions (regex)\n",
        "import urllib.request\n",
        "\n",
        "import numpy as np\n",
        "\n",
        "# Para leer y parsear el texto en HTML de wikipedia\n",
        "import bs4 as bs\n",
        "\n",
        "import nltk\n",
        "# Descargar el diccionario\n",
        "nltk.download(\"punkt\")\n",
        "nltk.download(\"wordnet\")\n",
        "nltk.download('omw-1.4')"
      ]
    },
    {
      "cell_type": "markdown",
      "metadata": {
        "id": "DMOa4JPSCJ29"
      },
      "source": [
        "### Datos\n",
        "Se consumirán los datos del artículo de wikipedia sobre el deporte \"Tennis\" en inglés."
      ]
    },
    {
      "cell_type": "code",
      "execution_count": 41,
      "metadata": {
        "id": "RIO7b8GjAC17",
        "outputId": "814e7422-2ab8-48d3-ad01-d19c7156cbd5",
        "colab": {
          "base_uri": "https://localhost:8080/",
          "height": 140
        }
      },
      "outputs": [
        {
          "output_type": "execute_result",
          "data": {
            "text/plain": [
              "'el petróleo (del griego: πετρέλαιον, lit. «aceite de roca») es una mezcla de compuestos orgánicos, principalmente hidrocarburos insolubles en agua. también es conocido como oro negro, petróleo crudo o simplemente crudo.\\nse produce en el interior de la tierra, por transformación de la materia orgánica acumulada en sedimentos del pasado geológico[1]\\u200b y puede acumularse en trampas geológicas naturales, que se localizan a nivel mundial[2]\\u200b y de donde se extrae mediante la perforación de pozos.\\nen condiciones normales de presión y temperatura es un líquido bituminoso que puede presentar gran variación en diversos parámetros como color y viscosidad (desde amarillentos y poco viscosos como la gasolina hasta líquidos negros tan viscosos que apenas fluyen), densidad (entre 0,66\\xa0g/ml y 0,9785\\xa0g/ml), capacidad calorífica, etc. estas variaciones se deben a la diversidad de concentraciones de los hidrocarburos que componen la mezcla, esto hace que el petróleo de cada pozo o fuente sea distinto de otro.\\nes un recurso no renovable y actualmente también es la principal fuente de energía y materia prima para la generación de una gran variedad de derivados, entre los que se incluyen la mayoría de los plásticos. el petróleo líquido puede presentarse asociado a capas de gas natural, en yacimientos que han estado enterrados durante millones de años, cubiertos por los estratos superiores de la corteza terrestre.\\ndebido a la importancia fundamental como materia prima, la venta del petróleo y sus derivados es un pilar fundamental del mercado mundial y la política exterior de varios países.\\nen los estados unidos, es común medir los volúmenes de petróleo líquido en barriles (de 42 galones estadounidenses, equivalente a 158,987 litros), y los volúmenes de gas en pies cúbicos (equivalente a 28,317 litros); en otras regiones ambos volúmenes se miden en metros cúbicos.\\n\\nel petróleo es un líquido oleoso bituminoso (de color oscuro) de origen natural compuesto por diferentes sustancias orgánicas (es una mezcla de hidrocarburos, aunque también suelen contener unos pocos compuestos de azufre y de oxígeno). también recibe los nombres de petróleo crudo, crudo petrolífero o simplemente «crudo». aunque se trata de un líquido aceitoso de color oscuro, es considerado una roca sedimentaria. es una mezcla muy compleja de composición variable, de hidrocarburos de muchos puntos de ebullición y de estados sólido, líquido y gaseoso, que se disuelven unos en otros para formar una solución de viscosidad variable.en el petróleo natural, además de hidrocarburos, existen nitrógeno, azufre, oxígeno, colesterina, productos derivados de la clorofila y de las heminas (porfirinas) y, como elementos, trazas, vanadio, níquel, cobalto y molibdeno. \\ncomo consecuencia de la naturaleza de los compuestos orgánicos que lo forman, el petróleo presenta polarización rotatoria, lo cual revela claramente que se trata de un compuesto de origen orgánico, formado a partir de restos animales y vegetales.[3]\\u200b\\nla composición química del petróleo es muy variable, hasta el punto de que los cuatro tipos fundamentales de hidrocarburos: parafinas (hidrocarburos saturados), olefinas (hidrocarburos insaturados), naftenos (hidrocarburos cíclicos saturados o cicloalcanos,), e hidrocarburos aromáticos, no solamente son diferentes de un yacimiento a otro, sino también las diversas sustancias que es preciso eliminar más o menos completamente: gas, azufre (que junto con el sulfhídrico, mercaptanos y tioalcoholes pueden alcanzar un 3\\xa0%), agua más o menos salada, compuestos oxigenados y nitrogenados, indicios o vestigios de metales, etc.\\nel petróleo es uno de los hidrocarburos de origen fósil, fruto de la transformación de materia orgánica procedente de zooplancton y algas que, depositados en grandes cantidades en fondos anóxicos de mares o zonas lacustres del pasado geológico, fueron posteriormente enterrados bajo pesadas capas de sedimentos. \\nestos hidrocarburos se pueden originar a partir de restos de plantas y microorganismos enterrados durante millones de años y sujetos a distintos procesos físicos y químicos.[4]\\u200b[5]\\u200b la transformación química (craqueo natural) debido al calor y a la presión durante la diagénesis produce, en sucesivas etapas, desde betún a hidrocarburos cada vez más ligeros (líquidos y gaseosos). \\nestos productos ascienden hacia la superficie, por su menor densidad, gracias a la porosidad de las rocas sedimentarias. si se dieran las circunstancias geológicas que impiden dicho ascenso (trampas petrolíferas como rocas impermeables, estructuras anticlinales, márgenes de diapiros salinos, etc.) se formarían entonces los yacimientos petrolíferos.\\nla hipótesis del origen abiogenético del petróleo sostiene que en el interior de la tierra existen hidrocarburos de origen estrictamente abiogenético. \\nlos químicos marcellin berthelot y dimitri mendeleiev, así como el astrónomo thomas gold llevaron adelante esta teoría en el mundo occidental al apoyar el trabajo de nikolai kudryavtsev en la década de 1950.[cita\\xa0requerida]\\nla hipótesis del origen abiogenético del petróleo es minoritaria entre los geólogos. sus defensores consideran que se trata de \"una cuestión todavía abierta\". \\nla extensiva investigación de la estructura química del querógeno ha identificado a las algas como la posible fuente principal del petróleo. \\nla hipótesis del origen abiogenético aún no puede explicar la presencia de estos marcadores en el querógeno y el petróleo, ni puede explicar su origen inorgánico a presiones y temperaturas suficientemente altas para convertir el querógeno en grafito. la hipótesis tampoco ha tenido mucho éxito ayudando a los geólogos a descubrir depósitos de petróleo, debido a que carece de cualquier mecanismo para predecir dónde podría ocurrir el proceso. \\nmás recientemente, los científicos del carnegie institution for science han descubierto que el etano y otros hidrocarburos más pesados pueden ser sintetizados bajo las condiciones del manto superior.[6]\\u200b\\nla industria petrolera clasifica el petróleo crudo según su lugar de origen (p. ej. \"west texas intermediate\" o \"brent\") y también con base a su densidad o gravedad api (ligero, medio, pesado, extra pesado); los refinadores también lo clasifican como \"crudo dulce\", que significa que contiene relativamente poco azufre, o \"ácido\", que contiene mayores cantidades de azufre y, por lo tanto, se necesitarán más operaciones de refinamiento para cumplir las especificaciones actuales de los productos refinados.\\nfuente: departamento de estadística de ee. uu..\\nordenado por millones de barriles exportados por día en 2018:\\nfuente: departamento de estadística de ee. uu..\\ncifras de consumo en 2019, en millones de barriles por día:\\nfuente: statistical review of world energy, junio de 2020 \\nvalores de importación en 2018, en millones de barriles por día:\\nfuente: departamento de estadística de ee. uu..\\nla opep intenta mantener los precios de su cesta entre unos límites superior e inferior, subiendo o bajando su producción. esto crea una importante base de trabajo para los analistas de mercados. la cesta opep es más pesada que los crudo brent y wti.\\nrelacionándolo con su gravedad api el american petroleum institute clasifica el petróleo en \"liviano\", \"mediano\", \"pesado\" y \"extrapesado\":[7]\\u200b\\npredominan los hidrocarburos saturados o parafínicos. son muy fluidos de colores claros y bajo peso específico (aproximadamente 0,85 kg/l). por destilación producen abundante parafina y poco asfalto. son los que proporcionan mayores porcentajes de nafta y aceite lubricante.\\npredominan los hidrocarburos etilénicos y dietilínicos, cíclicos ciclánicos (llamados nafténicos), y bencénicos o aromáticos. son muy viscosos, de coloración oscura y mayor peso específico (aproximadamente 0,950 kg/l). por destilación producen un abundante residuo de asfalto. las asfaltitas o rafealitas argentinos fueron originadas por yacimientos de este tipo, que al aflorar perdieron sus hidrocarburos volátiles y sufrieron la oxidación y polimerización de los etilénicos.\\nde composición de bases intermedias, formados por toda clase de hidrocarburos: saturados, no saturados (etilénicos y acetilénicos) y cíclicos (ciclánicos o nafténicos y bencénicos o aromáticos). la mayoría de los yacimientos mundiales son de este tipo.\\ncuando nació la industria petrolífera era muy sencillo localizar yacimientos, porque se explotaron los muy superficiales, cuya existencia era conocida, o porque fueron descubiertos por obra del azar. pero la creciente importancia de esta industria originó una búsqueda intensiva y racional de nuevos yacimientos, que se transformó en una verdadera ciencia.\\nactualmente el hallazgo de yacimientos petrolíferos no es obra librada al azar y obedece a una tarea científicamente organizada, que se planifica con mucha antelación. instrumental de alta precisión y técnicos especializados deben ser trasladados a regiones a menudo deshabitadas, en el desierto o en la selva, obligando a construir caminos y sistemas de comunicación, disponer de helicópteros, instalar campamentos y laboratorios, etc.\\nactualmente se utilizan los siguientes métodos de exploración:\\ntoda la información obtenida a lo largo del proceso exploratorio es objeto de interpretación en los centros geológicos y geofísicos de las empresas petroleras. allí es donde se establece qué áreas pueden contener mantos con depósitos de hidrocarburos, cuál es su potencial contenido de hidrocarburos y dónde se deben perforar los pozos exploratorios para confirmarlo. de aquí sale lo que se llama \"prospectos\" petroleros.\\nse realiza en zonas que se consideran favorables determinadas en la etapa de exploración superficial, mediante la perforación de pozos profundos:\\nse han ideado métodos muy modernos y rápidos, basados en:\\nel proceso de perforación de pozos petroleros y de gas natural se realiza en las etapas de exploración y desarrollo, de lo que en la industria petrolera se conoce como upstream. la extracción es una actividad de la última etapa del upstream, denominada producción.\\nsi la presión de los fluidos es suficiente, forzará la salida natural del petróleo a través del pozo que se conecta mediante una red de oleoductos hacia su tratamiento primario, donde se deshidrata y estabiliza eliminando los compuestos más volátiles. posteriormente se transporta a refinerías o plantas de mejoramiento. durante la vida del yacimiento, la presión descenderá y será necesario usar otras técnicas para la extracción del petróleo. esas técnicas incluyen la extracción mediante bombas, la inyección de agua o la inyección de gas, entre otras.\\nel petróleo es una mezcla de productos que para poder ser utilizada en las diferentes industrias y en los motores de combustión debe sufrir una serie de tratamientos diversos. muy a menudo la calidad de un petróleo crudo depende en gran medida de su origen. en función de dicho origen sus características varían: color, viscosidad, contenido. por ello, el crudo a pie de pozo no puede ser utilizado tal cual. se hace, por lo tanto, indispensable la utilización de diferentes procesos de tratamiento y transformación para la obtención del mayor número de productos de alto valor comercial. el conjunto de estos tratamientos constituye el proceso de refino o refinación del petróleo.\\nel petróleo natural no se usa como se extrae de la naturaleza, sino que se separa en mezclas más simples de hidrocarburos que tienen usos específicos. a ese proceso se le conoce como destilación fraccionada. el petróleo natural hirviente (a unos 400 grados celsius) se introduce a la parte baja de la torre de destilación o fraccionamiento; las sustancias más volátiles que se evaporan a esa temperatura pasan como vapores a la cámara superior, donde se enfrían y se condensan, mientras que las fracciones más pesadas quedan en las zonas inferiores. de este proceso se obtienen las siguientes fracciones:\\nla industria petroquímica elabora a partir del petróleo varios productos derivados, además de combustibles, como metanol, etileno, propileno[8]\\u200b[9]\\u200b  y derivados (epoxido de etileno, ácido ácrilico,[10]\\u200b[11]\\u200b acrilonitrilo), plásticos (polietileno,polipropileno, poliacrilatos, poliacrilonotrilo), pesticidas, herbicidas, fertilizantes o fibras sintéticas. \\npara incrementar el octanaje de naftas y gasolinas se utilizan los siguientes métodos:\\nes la reformación de la estructura molecular de las naftas. las naftas extraídas directamente de la destilación primaria suelen tener moléculas lineales por lo que tienden a detonar por presión. por eso la reformación se encarga de \"reformar\" dichas moléculas lineales en ramificadas y cíclicas. al ser más compactas no detonan por efecto de la presión. la reformación puede realizarse de dos maneras distintas, mediante calor (lo cual es muy poco usual y se realiza en menor medida; se denomina reformación térmica) o mediante calor y la asistencia de un catalizador (reformación catalítica).\\nen el reformado catalítico se deshidrogenan alcanos tanto de cadena abierta como cíclicos para obtener aromáticos, principalmente benceno, tolueno y xilenos, empleando catalizadores de platino -renio -alúmina. en a reformación catalítica es una reacción a través de iones carbono.\\nproceso para la producción de un componente de gasolinas de alto octanaje por síntesis de butilenos con isobutano. el proceso de alquilación es una síntesis química por medio de la cual se une un alcano ramificado al doble enlace de un alqueno, extraído del craking o segunda destilación. al resultado de la síntesis se le denomina alquilado o gasolina alquilada, producto constituido por componentes isoparafínicos. su objetivo es producir una fracción cuyas características tanto técnicas (alto octano) como ambientales (bajas presión de vapor y reactividad fotoquímica) la hacen hoy en día, uno de los componentes más importantes de la gasolina reformulada. la alquilación es un proceso catalítico que requiere de un catalizador de naturaleza ácida fuerte, y se utilizan para este propósito ya sea ácido fluorhídrico o ácido sulfúrico.\\nla isomerización convierte la cadena recta de los hidrocarburos parafínicos en una cadena ramificada. se hace sin aumentar o disminuir ninguno de sus componentes. las parafinas, son hidrocarburos constituidos por cadenas de átomos de carbono asociados a hidrógeno, que poseen una gran variedad de estructuras; cuando la cadena de átomos de carbono es lineal, el compuesto se denomina parafina normal, y si la cadena es ramificada, el compuesto es una isoparafina. las isoparafinas tienen número de octano superior a las parafinas normales, de tal manera que para mejorar la calidad del producto se utiliza un proceso en el que las parafinas normales se convierten en isoparafinas a través de reacciones de isomerización. la práctica es separar por destilación la corriente de nafta en dos cortes, ligero y pesado; el ligero que corresponde a moléculas de cinco y seis átomos de carbono se alimenta al proceso de isomerización, mientras que el pesado, con moléculas de siete a once átomos de carbono, es la carga al proceso de reformación antes descrito.[12]\\u200b[13]\\u200b las reacciones de isomerización son promovidas por catalizador de platino.\\ndesde la antigüedad el petróleo aparecía de forma natural en ciertas regiones terrestres como son los países de oriente próximo. hace 6000 años en asiria y en babilonia se usaba para pegar ladrillos y piedras, en medicina y en el calafateo de embarcaciones; en egipto, para engrasar pieles; las culturas precolombinas de méxico exactamente en talpa de allende pintaron esculturas con él; y los chinos ya lo utilizaban como combustible.\\nla primera destilación de petróleo se atribuye al sabio árabe de origen persa al-razi en el siglo ix, inventor del alambique, con el cual obtenía queroseno y otros destilados, para usos médicos y militares.\\nlos árabes a través del califato de córdoba, actual españa, difundieron estas técnicas por toda europa.\\ndurante la edad media continuó usándose únicamente con fines curativos.\\nen el siglo xviii y gracias a los trabajos de g. a. hirn, empiezan a perfeccionarse los métodos de refinado, obteniéndose productos derivados que se utilizarán principalmente para el engrasado de máquinas.\\nen el siglo xix se logran obtener aceites fluidos que empezaran pronto a usarse para el alumbrado. en 1846 el canadiense a. gesnerse obtuvo queroseno, lo que incrementó la importancia del petróleo aplicado al alumbrado. en 1859 edwin drake perforó el primer pozo de petróleo en pensilvania.\\nla aparición de los motores de combustión interna abrió nuevas e importantes perspectivas en la utilización del petróleo, sobre todo en uno de los productos derivados, la gasolina, que hasta entonces había sido desechada por completo al no encontrarle ninguna aplicación práctica.\\nel 14 de septiembre de 1960 en bagdad, (irak) se constituye la organización de países exportadores de petróleo (opep), fundada por el ministro de energías venezolano juan pablo pérez alfonso, junto con un grupo de ministros árabes.\\nes importante señalar, que derivado de la crisis del petróleo de 1973 y como respuesta a la opep, en 1974 la organización para la cooperación y el desarrollo económico ocde, crea la agencia internacional de energía o aie, con el objetivo de que los países consumidores de crudo coordinasen las medidas necesarias para asegurar el abastecimiento del petróleo.\\nlas principales empresas estatales son aramco (arabia saudita), national iranian oil company (irán), petróleos de venezuela, china national petroleum corporation, kuwait petroleum corporation, sonatrach (argelia), nigerian national petroleum corporation (nigeria), national oil corporation (libia), petróleos mexicanos y abu dhabi national oil co. en el caso de la mayor empresa rusa, lukoil, la propiedad gubernamental es parcial.\\nsegún la organización de países exportadores de petróleo (opep) en el mundo hay 1,65 billones de barriles (2014),[14]\\u200b eso quiere decir 262 billones de litros (262 tera-litros), si la producción de 83 millones de barriles al día[15]\\u200b se mantuviera constante, significa que habría petróleo para 54 años. venezuela, el país con más reservas probadas, al ritmo actual de producción[16]\\u200b tendría petróleo para más de 300 años y arabia saudita[17]\\u200b para 70 años.\\nhay entre 6,8 y 7,2 barriles de petróleo por tonelada, en dependencia de la densidad del petróleo. por tanto, las reservas de crudo se calculan entre 0,97 y 1,003 billones de barriles de petróleo.[18]\\u200b\\notras fuentes indican que si la producción de petróleo siguiera en el futuro al mismo ritmo que en 2013, las reservas mundiales –salvo que se encontrasen nuevos yacimientos– durarían 53,3 años, ascendiendo las reservas mundiales probadas de petróleo a 1,69 billones de barriles a finales del año 2013.[19]\\u200b\\nsin embargo el límite de las reservas podría estar más cercano aun si se tienen en cuenta modelos de previsión con un consumo creciente como ha venido siendo normal a lo largo de todo el siglo pasado. los nuevos descubrimientos de yacimientos se han reducido drásticamente en las últimas décadas haciendo insostenible por mucho tiempo los elevados niveles de extracción actuales, sin incluir la futura demanda de los consumidores asiáticos. por otra parte, la mayoría de las principales reservas mundiales han entrado en declive y solo las de oriente próximo mantienen un crecimiento sostenido. \\nsegún la teoría del pico de hubbert, actualizada con datos recientes por la asociación para el estudio del pico del petróleo, el inicio de dicho declive se habría producido en torno a 2007. la agencia internacional de la energía reconoció en 2010 que el cénit de la extracción mundial de petróleo convencional se había producido en 2006.[20]\\u200b\\nexisten otros tipos de reservas de hidrocarburos, conocidos como bitúmenes, que es petróleo extrapesado, cuyas reservas más conocidas son las de bitumen de las arenas de alquitrán de athabasca en canadá, y la faja petrolífera del orinoco en venezuela. según cálculos de la estatal venezolana pdvsa, la unión de estas reservas no convencionales con reservas convencionales le da a venezuela el primer puesto como el país con mayores reservas de hidrocarburos en el planeta.\\ndurante el año\\xa02004, el consumo mundial de petróleo se elevó un\\xa03,4\\xa0% y alcanzó los 82,4 millones de barriles al día. los responsables de casi la mitad del aumento son estados unidos y china, que en la actualidad utilizan 20,5 y 6,6 millones de barriles diarios, respectivamente.[21]\\u200b de acuerdo con el comité ministerial de seguimiento de la alianza petrolera, consideró que la demanda mundial de petróleo para finales de 2021 podría crecer en 6 millones de barriles diarios para alcanzar los 96.5 millones barriles diario en promedio anual.[22]\\u200b mientras se promedie un consumo de 96,6 mbd durante 2021 la opep seguirá controlando su producción de manera moderada y gradual entre 27,8 y 28,8 mbd para mantener los precios hasta diciembre, tal como pactó con rusia y otros aliados.[23]\\u200b\\nel petróleo tiene el problema de ser insoluble en agua y, por lo tanto, difícil de limpiar. además, la combustión de sus derivados produce productos residuales: partículas, co2, sox (óxidos de azufre), nox (óxidos nitrosos), etc.\\nen general, los derrames de hidrocarburos dañan gravemente al ecosistema del lugar, razón por la cual la industria petrolera mundial debe cumplir normas y procedimientos estrictos en materia de protección ambiental.\\ncasi la mitad del petróleo y derivados industriales que se vierten en el mar son residuos que vuelcan las ciudades costeras. el mar es empleado como un accesible y barato depósito de sustancias contaminantes.\\notros derrames se deben a accidentes que sufren los grandes barcos contenedores de petróleo, que por negligencia transportan el combustible en condiciones inadecuadas.\\nde cualquier manera, los derrames de petróleo representan una de las mayores causas de la contaminación oceánica. ocasionan gran mortandad de aves acuáticas, peces y otros seres vivos de los océanos, alterando el equilibrio del ecosistema. en las zonas afectadas, se vuelven imposibles la pesca, la navegación y el aprovechamiento de las playas con fines recreativos.\\nentre 1969 y 2016 se derramaron 5.73 millones de toneladas de petróleo en todo el mundo. cada año se producen una media de 1\\'7 mareas negras.[24]\\u200b cuando sucede un derrame de petróleo se tiene que actuar rápidamente, ya que aunque el daño ya es irreversible se puede contrarrestar su propagación; en alta mar, cuando el mar está calmado y hay poco viento, se puede quemar el aceite. usualmente en las playas se usa un método de absorción que atrapa la sustancia, como una esponja, aunque no es muy eficaz. \\nhe aquí algunos de los derrames más graves:\\n[29]\\u200b[30]\\u200b[31]\\u200b[32]\\u200b[33]\\u200b[34]\\u200b[35]\\u200b\\n[53]\\u200b\\nla combustión de los derivados del petróleo es una de las principales causas de emisión de co2, cuya acumulación en la atmósfera favorece el cambio climático.\\nel control del petróleo se ha vinculado a diversos conflictos bélicos, desde la segunda guerra mundial hasta los más recientes en irak (guerra del golfo de 1991 y guerra de irak de 2003). es considerado un mineral de conflicto (isis utilizó las ventas del petróleo para financiar actividades militares y terroristas).[54]\\u200b\\nel petróleo es tal vez uno de los recursos naturales más conocidos por todos nosotros y teniendo en cuenta que la población mundial sigue creciendo, y siendo este un recurso limitado, con proyecciones a una futura escasez, puede ser motivo de conflictos internacionales o globales [55]\\u200b\\ncomo sustancias alternativas a los combustibles derivados del petróleo se encuentran el biodiésel, aceite combustible con características comparables al diésel que se extrae principalmente de las semillas oleaginosas de diferentes plantas y el bioetanol, alcohol procedente de restos vegetales, que se puede utilizar mezclándolo con otros combustibles o para la fabricación de éteres, que son bases para fabricar combustibles más ecológicos.\\nenarsa (acrónimo de energía argentina s.a.) es una empresa pública argentina dedicada al estudio, exploración y explotación de yacimientos de hidrocarburos, el transporte, almacenaje, distribución, comercialización e industrialización de estos productos y sus derivados, el transporte y distribución de gas natural, y la generación, transporte, distribución y comercialización de energía eléctrica. la titularidad de la empresa está repartida en un 53\\xa0% perteneciente al estado nacional, un 12\\xa0% en manos de las provincias y el resto a comerciarse en la bolsa de comercio. enarsa cuenta entre sus activos el monopolio legal sobre de la exploración y explotación de la plataforma submarina del mar argentino.[56]\\u200b\\nyacimientos petrolíferos fiscales (ypf) sociedad del estado, fundada en 1922, fue la primera petrolera estatal de américa latina y modelo sobre el que se constituyeron entre otras, petrobras, perteneciente a brasil. en su momento la mayor empresa del país que perteneció al estado argentino hasta su privatización durante la presidencia de carlos saúl menem. el 3 de mayo de 2012 el congreso de la nación argentina aprobó el proyecto de ley para expropiar ypf, regresándola a manos del estado argentino en un 51\\xa0% de su paquete accionario.\\nypfb (yacimientos petrolíferos fiscales bolivianos) es la empresa estatal boliviana creada el 21 de diciembre de 1936 y la cual esta encargada de la exploración y procesos de destilación y venta en bolivia.\\nla empresa fue nacionalizada tres veces: la primera fue en 1936, la segunda en 1969 y la tercera el 1 de mayo de 2006 en donde hasta esos momento estaba en manos de transnacionales como \"petrobras\" pertenecientes de países de origen como estados unidos, brasil, españa, etc., de donde se recuperó el 100\\xa0% de las regalías para el estado y repartiendo a sus nueve gobernaciones con un impuesto directo a las producciones de hidrocarburos.\\npetrobras es una empresa mixta integrada de energía de origen brasileño. el 51\\xa0% de sus acciones en manos del estado brasileño, el mayor accionista por ser las fuentes de energía uno de los mayores intereses públicos del estado brasileño; y el 49\\xa0% en manos privadas. la empresa está en cuarto lugar en el ranking de las mayores empresas petrolíferas internacionales de capital abierto en el mundo, además de ser la mayor compañía de américa latina.[57]\\u200b petrobras opera en forma activa en el mercado internacional de petróleo como así también a través del intercambio de una importante diversidad de productos relacionados con la industria hidrocarburífera. entre otras cosas, petrobrás se destaca por utilizar alta tecnología en operaciones de exploración y producción de petróleo en aguas abiertas (off shore) contando con el récord de la planta de producción de crudo más profunda del mundo. en noviembre de 2007 fue descubierto en brasil el megacampo de tupí, en la cuenca de santos, con una reserva estimada por la petrobras de entre cinco mil millones y ocho mil millones de barriles de petróleo, uno de los más grandes descubrimientos de petróleo del mundo desde 2000. el 14 de abril de 2008 petrobrás anuncia el descubrimiento del megacampo carioca, cinco veces más grande que el de tupí, con reservas cercanas a los 33\\xa0000 millones de barriles de petróleo equivalente.\\nla empresa nacional del petróleo (enap) es una empresa estatal chilena dedicada a la exploración, producción y comercialización de hidrocarburos y sus derivados. depende actualmente del ministerio de energía. los últimos proyectos de extracción de enap fueron en magallanes, patagonia. \\nactualmente ya no extrae petróleo, solo importa, refina y comercializa combustibles.\\necopetrol s.a. (empresa colombiana de petróleo) es una sociedad pública por acciones, del estado colombiano, dedicada a explorar, producir, transportar, refinar y comercializar hidrocarburos. con utilidades promedio en los últimos 5 años superiores a los 1.2 billones de pesos anuales y exportaciones en el mismo período por más de 1.981 millones de dólares, es la cuarta petrolera estatal más grande de américa latina. es la primera compañía de petróleo de colombia, es listada en el puesto 303 entre las empresas más grandes del mundo por forbes y como la cuarta petrolera a nivel latinoamericano por detrás de petrobras, pemex y pdvsa en 2012. recientemente la firma platts ubicó a esta petrolera como una de las 14 mejores del mundo, primera en américa latina y 4.ª del continente.\\npetroamazonas ep (empresa estatal de petróleos) es una empresa estatal ecuatoriana, creada en 2006, encargada de la exploración y producción de hidrocarburos. el estado, directamente por medio de petroamazonas ep o por contratos de asociación con terceros, asume la exploración y explotación de los yacimientos de hidrocarburos en el territorio nacional y mar territorial ecuatoriano. (mcr)\\npetróleos mexicanos (pemex) es una empresa productiva del estado, de propiedad exclusiva del gobierno federal,[58]\\u200b la cual tiene por objeto llevar a cabo, en términos de la legislación aplicable, la exploración y extracción de hidrocarburos, así como las actividades de refinación, transformación, transporte, almacenamiento, distribución, venta, exportación e importación de petróleo, hidrocarburos, petrolíferos y petroquímicos. fue creada el 20 de julio de 1938[59]\\u200b y desde 1960 hasta el 2013, gozó de monopolio constitucional para la explotación de los hidrocarburos en territorio mexicano.[60]\\u200b pemex cuenta con diversas operaciones en el extranjero. \\nen el año 2009 la empresa de goyler & mcnaughton, netherland & sewell y ryder scott certificó la existencia de un gran yacimiento petrolero en la región de chicontepec en el estado de veracruz, la cual en términos de volumen equivale a la mitad de las reservas probadas de arabia saudita, al 78\\xa0% de las reservas de canadá y son iguales a las reservas petroleras de irán, lo que colocaría a méxico dentro de los cuatro primeros países con mayor número de reservas petroleras en el mundo, sin embargo se requiere de una gran inversión para explotar al máximo este yacimiento.[61]\\u200b\\nen el perú la empresa estatal petroperú s.a. es, desde su fundación el 24 de julio de 1969, la encargada de la explotación de los yacimientos petroleros ubicados en este país sudamericano. actualmente petroperú s.a. se dedica a actividades de refinación, transporte y comercialización de productos terminados, luego del proceso de privatización del gobierno de alberto fujimori, en el que se vendió y concesionó diferentes lotes de producción del norte y selva, así como la refinería más importante como la pampilla vendida en 1996 al grupo de repsol.\\nla empresa estatal ancap realiza exploraciones marítimas y en tierra en búsqueda de hidrocarburos, el 31 de marzo de 2011 su presidente raúl fernando sendic confirmó la existencia de petróleo en el departamento de durazno.[62]\\u200b\\npetróleos de venezuela, sociedad anónima (pdvsa) es una empresa estatal que se dedica a la explotación, producción, refinación, petroquímica, mercadeo y transporte del petróleo venezolano. fue creada el 1 de enero de 1976 durante la nacionalización de la industria petrolera extranjera que operaba en el país. también fue clasificada por la revista internacional fortune en 1998 como la empresa número 35 entre las 500 más grandes del mundo.[18]\\u200b petróleos de venezuela estaba de tercera en el ranking de las 50 empresas petroleras del mundo hasta antes del 2014, solo superada por saudi aramco, de arabia saudita, y por exxonmobil, de estados unidos. entre sus mayores activos internacionales están las refinerías citgo en los estados unidos de américa de la cual es propietaria en un 100\\xa0%, la ruhr oil en alemania (vendida en 2010 a la rusa rosneft[63]\\u200b), y la nynas posee solo el 15\\xa0% de las acciones,[64]\\u200b[65]\\u200b en suecia, en la cual es propietaria con una empresa petrolera de finlandia y suiza.\\n'"
            ],
            "application/vnd.google.colaboratory.intrinsic+json": {
              "type": "string"
            }
          },
          "metadata": {},
          "execution_count": 41
        }
      ],
      "source": [
        "raw_html = urllib.request.urlopen('https://es.wikipedia.org/wiki/Petr%C3%B3leo')\n",
        "raw_html = raw_html.read()\n",
        "\n",
        "# Parsear artículo, 'lxml' es el parser a utilizar\n",
        "article_html = bs.BeautifulSoup(raw_html, 'lxml')\n",
        "\n",
        "# Encontrar todos los párrafos del HTML (bajo el tag <p>)\n",
        "# y tenerlos disponible como lista\n",
        "article_paragraphs = article_html.find_all('p')\n",
        "\n",
        "article_text = ''\n",
        "\n",
        "for para in article_paragraphs:\n",
        "    article_text += para.text\n",
        "\n",
        "article_text = article_text.lower()\n",
        "article_text"
      ]
    },
    {
      "cell_type": "code",
      "execution_count": 40,
      "metadata": {
        "id": "pUH30a1_rOkS",
        "outputId": "9c51aa1e-c0d5-4174-c9f4-9d9330c92f26",
        "colab": {
          "base_uri": "https://localhost:8080/",
          "height": 140
        }
      },
      "outputs": [
        {
          "output_type": "execute_result",
          "data": {
            "text/plain": [
              "'por mitsubishi motors | 11 mayo 2022¿estás pensando en comprar un auto nuevo? es una grandiosa idea, ya que conducir un auto puede ser un gran placer, además de las ventajas de desplazamiento. sin embargo, una parte de la propiedad de un vehículo consiste en solucionar los problemas que pueden hacerlo inseguro para ti y tus pasajeros.¿sabes cuáles son las fallas más comunes en un automóvil? en el siguiente artículo, te ayudaremos a identificar los problemas que un auto puede tener. además, te explicaremos cómo reducir estas fallas.tabla de contenidos:un problema muy común en un auto con el que te puedes encontrar son las luces traseras o delanteras rotas. una luz dañada representa una situación peligrosa para ti y para los demás conductores en la carretera, incluso puede dar lugar a una multa.en general, cuando las luces de un auto no encienden se debe a una bombilla quemada o gastada. sin embargo, el agua también puede causar daños a las luces. afortunadamente, puedes identificar este problema de una manera muy fácil cuando se trata de las luces delanteras, pero no se puede decir lo mismo de las luces traseras.por ese motivo, te recomendamos que de vez en cuando, con la ayuda de una persona, compruebes si las luces se mantienen encendidas mientras frenas. de está forma, evitarás problemas con los demás conductores y con la policía.las luces de emergencia están ubicadas en tu vehículo, específicamente en el tablero. una luz de advertencia o de comprobación del motor es el problema más común en un automóvil. las luces que ves incluyen: la revisión del motor, la bolsa de aire y otras más que están diseñadas para advertirte si algo deja de funcionar correctamente.sin embargo, a veces las propias luces de advertencia no funcionan correctamente, porque el sensor que activa esta luz puede estar fallando. estas luces se encienden cuando la ecu (unidad de control del motor) del vehículo detecta un código de error activado por un sensor.dado que existen más de 200 códigos de advertencia posibles, la mejor manera de determinar el origen y realizar las reparaciones adecuadas es mediante la ayuda de un mecánico profesional. este realizará una inspección de las luces de advertencia si sospechas que no funcionan correctamente.te puede interesar: cómo reparar los problemas de las luces intermitentes de un autola salud de tu motor no puede ser subestimada, ya que es el corazón de tu vehículo. cuando el motor funciona de forma eficiente, quema el combustible a un ritmo que ayuda a optimizar este consumo.sin embargo, varias piezas del sistema de combustible, como los filtros de combustible, los filtros de aire, los sensores de flujo de masa de aire y los sensores de o2 pueden ensuciarse o desgastarse si no se lleva a cabo un mantenimiento regular. si esto sucede antes de que sean reemplazados, hará que el motor consuma más combustible de lo habitual.por ese motivo, es importante ser proactivo con el mantenimiento de las piezas del motor. hay varias partes de tu auto que puedes limpiar en casa. de esta forma evitarás gastos en combustible y en reparaciones.aunque la mayoría de los neumáticos se desinflan tras golpear un objeto o ser pinchados, es posible que el simple desgaste sea la causa principal. dicho esto, debes saber cómo cambiar un neumático pinchado por tu cuenta cuando llegue el momento.para prolongar la vida de tus neumáticos, debes rotarlos cada cierto periodo de tiempo, tal y como recomienda el fabricante del vehículo. por lo general, se recomienda rotar los neumáticos cada 10.000 km aproximadamente o cuando cambies el aceite del motor.además, es importante que elijas los neumáticos correctos así como contar siempre con una llanta de repuesto. de esta forma, evitarás quedarte parado en medio de la carretera por falta de una llanta.los frenos son una de las partes más importantes de tu vehículo, pero al igual que cualquier otra pieza móvil, el sistema de frenos está destinado a desgastarse en un periodo de tiempo determinado.los frenos son vitales para una frenada segura, por lo que cuando muestran cualquier síntoma, como chirridos o el pedal de freno está blando, un mecánico profesional debe inspeccionarlo\\xa0 tan pronto como sea posible.una reparación puede variar según la gravedad del daño, desde conseguir nuevas pastillas de freno hasta reemplazar las líneas de freno. por lo general, los problemas menores pueden causar chirridos o ruidos, pero una vez que los frenos comienzan a rechinar, es una señal definitiva de que necesitan reemplazarse.podrías sospechar que el sobrecalentamiento está más arriba en esta lista, pero en realidad, ocurre raramente. en la mayoría de los vehículos modernos, el sistema de refrigeración es muy complejo y contiene múltiples sensores que controlan la temperatura del refrigerante, el flujo y otros componentes.un motor que se sobrecalienta puede ser extremadamente peligroso para conducir, y es algo que notarás enseguida. un mecánico puede inspeccionar tu motor para averiguar el origen del sobrecalentamiento y restablecer la temperatura de tu vehículo.sin embargo, para evitar el sobrecalentamiento de un auto debes estar al pendiente de los servicios de lavado del radiador y cambiar la bomba de agua antes de que se rompa. verás que estas dos formas de mantenimiento, reducirás los problemas de sobrecalentamiento.la mayoría de las baterías de los vehículos deberían durar entre 3 y 4 años. la causa de una batería muerta suele deberse a la reducción de amperios o corrientes eléctricas que disminuyen de forma natural a medida que la batería pierde su capacidad de mantener la carga.\\xa0un alternador dañado, un sensor de temperatura de la batería u otros componentes del sistema de carga pueden acelerar este problema. esto suele ocurrir si dejas los faros encendidos cuando el auto no está en marcha o por las temperaturas bajas.para reparar una batería muerta, necesitas cables de arranque y la batería de otro auto. si la batería de tu vehículo sigue siendo efectiva, volverá a encenderse. de lo contrario, tendrás que sustituirla.ahora que sabes cuáles son los problemas más comunes en un auto, te invitamos a descubrir nuestra increíble gama de vehículos. ¡si deseas comprar una de las camionetas que tenemos para ofrecerte, revisa nuestras principales promociones!su dirección de correo no se hará público. los campos requeridos están marcados *comentario * nombre * correo * sitio web  \\n\\n\\nrazón social: mc autos del peru s.a.ruc: 20430500521mirageasxeclipse crossoutlandermontero sportmonterol200suscríbete a nuestro newsletter y recibirás las últimas novedades de mitsubishi motors. además de promociones y descuentos especiales.mitsubishi motors perú | venta de camionetas suv 2023. all rights reserved.¿quieres saber más sobre los autos mitsubishi?\\xa0dejanos tus datos y te llamamos'"
            ],
            "application/vnd.google.colaboratory.intrinsic+json": {
              "type": "string"
            }
          },
          "metadata": {},
          "execution_count": 40
        }
      ],
      "source": [
        "# Demos un vistazo\n",
        "article_text"
      ]
    },
    {
      "cell_type": "code",
      "execution_count": 42,
      "metadata": {
        "id": "BtGLJjt6rQhK",
        "outputId": "c64d8ed6-0b86-4863-98e1-782409658c6b",
        "colab": {
          "base_uri": "https://localhost:8080/"
        }
      },
      "outputs": [
        {
          "output_type": "stream",
          "name": "stdout",
          "text": [
            "Cantidad de caracteres en la nota: 31804\n"
          ]
        }
      ],
      "source": [
        "print(\"Cantidad de caracteres en la nota:\", len(article_text))"
      ]
    },
    {
      "cell_type": "markdown",
      "metadata": {
        "id": "FVHxBRNzCMOS"
      },
      "source": [
        "### 2 - Preprocesamiento\n",
        "- Remover caracteres especiales\n",
        "- Quitar espacios o saltos"
      ]
    },
    {
      "cell_type": "code",
      "execution_count": 43,
      "metadata": {
        "id": "HnEUTD1Erl1N"
      },
      "outputs": [],
      "source": [
        "# Repaso de regex:\n",
        "# https://docs.python.org/3/library/re.html\n",
        "\n",
        "# Para practicar regex:\n",
        "# https://regex101.com/\n",
        "\n",
        "# el inicio con 'r' antes de cada string indica que se interprete como raw string\n",
        "# '\\n' es interpretado por Python como salto de linea\n",
        "# r'\\n' es interpretado por Python como el string formado por dos caracteres:\n",
        "#  backslash y n\n",
        "\n",
        "# substituir con regex con espacio vacío:\n",
        "text = re.sub(r'\\[[0-9]*\\]', ' ', article_text) # substituir los números entre corchetes\n",
        "# (notar que los corchetes son interpretados literalmente por los backlsash)\n",
        "text = re.sub(r'\\s+', ' ', text) # substituir más de un caracter de espacio, salto de línea o tabulación\n",
        "\n",
        "# probar en regex101 con los patrones anteriores:\n",
        "# 'Hola [1], [], [ estoy bien   [123]. [12sss]. OK!   .'"
      ]
    },
    {
      "cell_type": "code",
      "execution_count": 44,
      "metadata": {
        "id": "g7ycrAMYrn66",
        "outputId": "f0dacd25-f917-4919-8fc7-f3bc963e0b3c",
        "colab": {
          "base_uri": "https://localhost:8080/",
          "height": 140
        }
      },
      "outputs": [
        {
          "output_type": "execute_result",
          "data": {
            "text/plain": [
              "'el petróleo (del griego: πετρέλαιον, lit. «aceite de roca») es una mezcla de compuestos orgánicos, principalmente hidrocarburos insolubles en agua. también es conocido como oro negro, petróleo crudo o simplemente crudo. se produce en el interior de la tierra, por transformación de la materia orgánica acumulada en sedimentos del pasado geológico \\u200b y puede acumularse en trampas geológicas naturales, que se localizan a nivel mundial \\u200b y de donde se extrae mediante la perforación de pozos. en condiciones normales de presión y temperatura es un líquido bituminoso que puede presentar gran variación en diversos parámetros como color y viscosidad (desde amarillentos y poco viscosos como la gasolina hasta líquidos negros tan viscosos que apenas fluyen), densidad (entre 0,66 g/ml y 0,9785 g/ml), capacidad calorífica, etc. estas variaciones se deben a la diversidad de concentraciones de los hidrocarburos que componen la mezcla, esto hace que el petróleo de cada pozo o fuente sea distinto de otro. es un recurso no renovable y actualmente también es la principal fuente de energía y materia prima para la generación de una gran variedad de derivados, entre los que se incluyen la mayoría de los plásticos. el petróleo líquido puede presentarse asociado a capas de gas natural, en yacimientos que han estado enterrados durante millones de años, cubiertos por los estratos superiores de la corteza terrestre. debido a la importancia fundamental como materia prima, la venta del petróleo y sus derivados es un pilar fundamental del mercado mundial y la política exterior de varios países. en los estados unidos, es común medir los volúmenes de petróleo líquido en barriles (de 42 galones estadounidenses, equivalente a 158,987 litros), y los volúmenes de gas en pies cúbicos (equivalente a 28,317 litros); en otras regiones ambos volúmenes se miden en metros cúbicos. el petróleo es un líquido oleoso bituminoso (de color oscuro) de origen natural compuesto por diferentes sustancias orgánicas (es una mezcla de hidrocarburos, aunque también suelen contener unos pocos compuestos de azufre y de oxígeno). también recibe los nombres de petróleo crudo, crudo petrolífero o simplemente «crudo». aunque se trata de un líquido aceitoso de color oscuro, es considerado una roca sedimentaria. es una mezcla muy compleja de composición variable, de hidrocarburos de muchos puntos de ebullición y de estados sólido, líquido y gaseoso, que se disuelven unos en otros para formar una solución de viscosidad variable.en el petróleo natural, además de hidrocarburos, existen nitrógeno, azufre, oxígeno, colesterina, productos derivados de la clorofila y de las heminas (porfirinas) y, como elementos, trazas, vanadio, níquel, cobalto y molibdeno. como consecuencia de la naturaleza de los compuestos orgánicos que lo forman, el petróleo presenta polarización rotatoria, lo cual revela claramente que se trata de un compuesto de origen orgánico, formado a partir de restos animales y vegetales. \\u200b la composición química del petróleo es muy variable, hasta el punto de que los cuatro tipos fundamentales de hidrocarburos: parafinas (hidrocarburos saturados), olefinas (hidrocarburos insaturados), naftenos (hidrocarburos cíclicos saturados o cicloalcanos,), e hidrocarburos aromáticos, no solamente son diferentes de un yacimiento a otro, sino también las diversas sustancias que es preciso eliminar más o menos completamente: gas, azufre (que junto con el sulfhídrico, mercaptanos y tioalcoholes pueden alcanzar un 3 %), agua más o menos salada, compuestos oxigenados y nitrogenados, indicios o vestigios de metales, etc. el petróleo es uno de los hidrocarburos de origen fósil, fruto de la transformación de materia orgánica procedente de zooplancton y algas que, depositados en grandes cantidades en fondos anóxicos de mares o zonas lacustres del pasado geológico, fueron posteriormente enterrados bajo pesadas capas de sedimentos. estos hidrocarburos se pueden originar a partir de restos de plantas y microorganismos enterrados durante millones de años y sujetos a distintos procesos físicos y químicos. \\u200b \\u200b la transformación química (craqueo natural) debido al calor y a la presión durante la diagénesis produce, en sucesivas etapas, desde betún a hidrocarburos cada vez más ligeros (líquidos y gaseosos). estos productos ascienden hacia la superficie, por su menor densidad, gracias a la porosidad de las rocas sedimentarias. si se dieran las circunstancias geológicas que impiden dicho ascenso (trampas petrolíferas como rocas impermeables, estructuras anticlinales, márgenes de diapiros salinos, etc.) se formarían entonces los yacimientos petrolíferos. la hipótesis del origen abiogenético del petróleo sostiene que en el interior de la tierra existen hidrocarburos de origen estrictamente abiogenético. los químicos marcellin berthelot y dimitri mendeleiev, así como el astrónomo thomas gold llevaron adelante esta teoría en el mundo occidental al apoyar el trabajo de nikolai kudryavtsev en la década de 1950.[cita requerida] la hipótesis del origen abiogenético del petróleo es minoritaria entre los geólogos. sus defensores consideran que se trata de \"una cuestión todavía abierta\". la extensiva investigación de la estructura química del querógeno ha identificado a las algas como la posible fuente principal del petróleo. la hipótesis del origen abiogenético aún no puede explicar la presencia de estos marcadores en el querógeno y el petróleo, ni puede explicar su origen inorgánico a presiones y temperaturas suficientemente altas para convertir el querógeno en grafito. la hipótesis tampoco ha tenido mucho éxito ayudando a los geólogos a descubrir depósitos de petróleo, debido a que carece de cualquier mecanismo para predecir dónde podría ocurrir el proceso. más recientemente, los científicos del carnegie institution for science han descubierto que el etano y otros hidrocarburos más pesados pueden ser sintetizados bajo las condiciones del manto superior. \\u200b la industria petrolera clasifica el petróleo crudo según su lugar de origen (p. ej. \"west texas intermediate\" o \"brent\") y también con base a su densidad o gravedad api (ligero, medio, pesado, extra pesado); los refinadores también lo clasifican como \"crudo dulce\", que significa que contiene relativamente poco azufre, o \"ácido\", que contiene mayores cantidades de azufre y, por lo tanto, se necesitarán más operaciones de refinamiento para cumplir las especificaciones actuales de los productos refinados. fuente: departamento de estadística de ee. uu.. ordenado por millones de barriles exportados por día en 2018: fuente: departamento de estadística de ee. uu.. cifras de consumo en 2019, en millones de barriles por día: fuente: statistical review of world energy, junio de 2020 valores de importación en 2018, en millones de barriles por día: fuente: departamento de estadística de ee. uu.. la opep intenta mantener los precios de su cesta entre unos límites superior e inferior, subiendo o bajando su producción. esto crea una importante base de trabajo para los analistas de mercados. la cesta opep es más pesada que los crudo brent y wti. relacionándolo con su gravedad api el american petroleum institute clasifica el petróleo en \"liviano\", \"mediano\", \"pesado\" y \"extrapesado\": \\u200b predominan los hidrocarburos saturados o parafínicos. son muy fluidos de colores claros y bajo peso específico (aproximadamente 0,85 kg/l). por destilación producen abundante parafina y poco asfalto. son los que proporcionan mayores porcentajes de nafta y aceite lubricante. predominan los hidrocarburos etilénicos y dietilínicos, cíclicos ciclánicos (llamados nafténicos), y bencénicos o aromáticos. son muy viscosos, de coloración oscura y mayor peso específico (aproximadamente 0,950 kg/l). por destilación producen un abundante residuo de asfalto. las asfaltitas o rafealitas argentinos fueron originadas por yacimientos de este tipo, que al aflorar perdieron sus hidrocarburos volátiles y sufrieron la oxidación y polimerización de los etilénicos. de composición de bases intermedias, formados por toda clase de hidrocarburos: saturados, no saturados (etilénicos y acetilénicos) y cíclicos (ciclánicos o nafténicos y bencénicos o aromáticos). la mayoría de los yacimientos mundiales son de este tipo. cuando nació la industria petrolífera era muy sencillo localizar yacimientos, porque se explotaron los muy superficiales, cuya existencia era conocida, o porque fueron descubiertos por obra del azar. pero la creciente importancia de esta industria originó una búsqueda intensiva y racional de nuevos yacimientos, que se transformó en una verdadera ciencia. actualmente el hallazgo de yacimientos petrolíferos no es obra librada al azar y obedece a una tarea científicamente organizada, que se planifica con mucha antelación. instrumental de alta precisión y técnicos especializados deben ser trasladados a regiones a menudo deshabitadas, en el desierto o en la selva, obligando a construir caminos y sistemas de comunicación, disponer de helicópteros, instalar campamentos y laboratorios, etc. actualmente se utilizan los siguientes métodos de exploración: toda la información obtenida a lo largo del proceso exploratorio es objeto de interpretación en los centros geológicos y geofísicos de las empresas petroleras. allí es donde se establece qué áreas pueden contener mantos con depósitos de hidrocarburos, cuál es su potencial contenido de hidrocarburos y dónde se deben perforar los pozos exploratorios para confirmarlo. de aquí sale lo que se llama \"prospectos\" petroleros. se realiza en zonas que se consideran favorables determinadas en la etapa de exploración superficial, mediante la perforación de pozos profundos: se han ideado métodos muy modernos y rápidos, basados en: el proceso de perforación de pozos petroleros y de gas natural se realiza en las etapas de exploración y desarrollo, de lo que en la industria petrolera se conoce como upstream. la extracción es una actividad de la última etapa del upstream, denominada producción. si la presión de los fluidos es suficiente, forzará la salida natural del petróleo a través del pozo que se conecta mediante una red de oleoductos hacia su tratamiento primario, donde se deshidrata y estabiliza eliminando los compuestos más volátiles. posteriormente se transporta a refinerías o plantas de mejoramiento. durante la vida del yacimiento, la presión descenderá y será necesario usar otras técnicas para la extracción del petróleo. esas técnicas incluyen la extracción mediante bombas, la inyección de agua o la inyección de gas, entre otras. el petróleo es una mezcla de productos que para poder ser utilizada en las diferentes industrias y en los motores de combustión debe sufrir una serie de tratamientos diversos. muy a menudo la calidad de un petróleo crudo depende en gran medida de su origen. en función de dicho origen sus características varían: color, viscosidad, contenido. por ello, el crudo a pie de pozo no puede ser utilizado tal cual. se hace, por lo tanto, indispensable la utilización de diferentes procesos de tratamiento y transformación para la obtención del mayor número de productos de alto valor comercial. el conjunto de estos tratamientos constituye el proceso de refino o refinación del petróleo. el petróleo natural no se usa como se extrae de la naturaleza, sino que se separa en mezclas más simples de hidrocarburos que tienen usos específicos. a ese proceso se le conoce como destilación fraccionada. el petróleo natural hirviente (a unos 400 grados celsius) se introduce a la parte baja de la torre de destilación o fraccionamiento; las sustancias más volátiles que se evaporan a esa temperatura pasan como vapores a la cámara superior, donde se enfrían y se condensan, mientras que las fracciones más pesadas quedan en las zonas inferiores. de este proceso se obtienen las siguientes fracciones: la industria petroquímica elabora a partir del petróleo varios productos derivados, además de combustibles, como metanol, etileno, propileno \\u200b \\u200b y derivados (epoxido de etileno, ácido ácrilico, \\u200b \\u200b acrilonitrilo), plásticos (polietileno,polipropileno, poliacrilatos, poliacrilonotrilo), pesticidas, herbicidas, fertilizantes o fibras sintéticas. para incrementar el octanaje de naftas y gasolinas se utilizan los siguientes métodos: es la reformación de la estructura molecular de las naftas. las naftas extraídas directamente de la destilación primaria suelen tener moléculas lineales por lo que tienden a detonar por presión. por eso la reformación se encarga de \"reformar\" dichas moléculas lineales en ramificadas y cíclicas. al ser más compactas no detonan por efecto de la presión. la reformación puede realizarse de dos maneras distintas, mediante calor (lo cual es muy poco usual y se realiza en menor medida; se denomina reformación térmica) o mediante calor y la asistencia de un catalizador (reformación catalítica). en el reformado catalítico se deshidrogenan alcanos tanto de cadena abierta como cíclicos para obtener aromáticos, principalmente benceno, tolueno y xilenos, empleando catalizadores de platino -renio -alúmina. en a reformación catalítica es una reacción a través de iones carbono. proceso para la producción de un componente de gasolinas de alto octanaje por síntesis de butilenos con isobutano. el proceso de alquilación es una síntesis química por medio de la cual se une un alcano ramificado al doble enlace de un alqueno, extraído del craking o segunda destilación. al resultado de la síntesis se le denomina alquilado o gasolina alquilada, producto constituido por componentes isoparafínicos. su objetivo es producir una fracción cuyas características tanto técnicas (alto octano) como ambientales (bajas presión de vapor y reactividad fotoquímica) la hacen hoy en día, uno de los componentes más importantes de la gasolina reformulada. la alquilación es un proceso catalítico que requiere de un catalizador de naturaleza ácida fuerte, y se utilizan para este propósito ya sea ácido fluorhídrico o ácido sulfúrico. la isomerización convierte la cadena recta de los hidrocarburos parafínicos en una cadena ramificada. se hace sin aumentar o disminuir ninguno de sus componentes. las parafinas, son hidrocarburos constituidos por cadenas de átomos de carbono asociados a hidrógeno, que poseen una gran variedad de estructuras; cuando la cadena de átomos de carbono es lineal, el compuesto se denomina parafina normal, y si la cadena es ramificada, el compuesto es una isoparafina. las isoparafinas tienen número de octano superior a las parafinas normales, de tal manera que para mejorar la calidad del producto se utiliza un proceso en el que las parafinas normales se convierten en isoparafinas a través de reacciones de isomerización. la práctica es separar por destilación la corriente de nafta en dos cortes, ligero y pesado; el ligero que corresponde a moléculas de cinco y seis átomos de carbono se alimenta al proceso de isomerización, mientras que el pesado, con moléculas de siete a once átomos de carbono, es la carga al proceso de reformación antes descrito. \\u200b \\u200b las reacciones de isomerización son promovidas por catalizador de platino. desde la antigüedad el petróleo aparecía de forma natural en ciertas regiones terrestres como son los países de oriente próximo. hace 6000 años en asiria y en babilonia se usaba para pegar ladrillos y piedras, en medicina y en el calafateo de embarcaciones; en egipto, para engrasar pieles; las culturas precolombinas de méxico exactamente en talpa de allende pintaron esculturas con él; y los chinos ya lo utilizaban como combustible. la primera destilación de petróleo se atribuye al sabio árabe de origen persa al-razi en el siglo ix, inventor del alambique, con el cual obtenía queroseno y otros destilados, para usos médicos y militares. los árabes a través del califato de córdoba, actual españa, difundieron estas técnicas por toda europa. durante la edad media continuó usándose únicamente con fines curativos. en el siglo xviii y gracias a los trabajos de g. a. hirn, empiezan a perfeccionarse los métodos de refinado, obteniéndose productos derivados que se utilizarán principalmente para el engrasado de máquinas. en el siglo xix se logran obtener aceites fluidos que empezaran pronto a usarse para el alumbrado. en 1846 el canadiense a. gesnerse obtuvo queroseno, lo que incrementó la importancia del petróleo aplicado al alumbrado. en 1859 edwin drake perforó el primer pozo de petróleo en pensilvania. la aparición de los motores de combustión interna abrió nuevas e importantes perspectivas en la utilización del petróleo, sobre todo en uno de los productos derivados, la gasolina, que hasta entonces había sido desechada por completo al no encontrarle ninguna aplicación práctica. el 14 de septiembre de 1960 en bagdad, (irak) se constituye la organización de países exportadores de petróleo (opep), fundada por el ministro de energías venezolano juan pablo pérez alfonso, junto con un grupo de ministros árabes. es importante señalar, que derivado de la crisis del petróleo de 1973 y como respuesta a la opep, en 1974 la organización para la cooperación y el desarrollo económico ocde, crea la agencia internacional de energía o aie, con el objetivo de que los países consumidores de crudo coordinasen las medidas necesarias para asegurar el abastecimiento del petróleo. las principales empresas estatales son aramco (arabia saudita), national iranian oil company (irán), petróleos de venezuela, china national petroleum corporation, kuwait petroleum corporation, sonatrach (argelia), nigerian national petroleum corporation (nigeria), national oil corporation (libia), petróleos mexicanos y abu dhabi national oil co. en el caso de la mayor empresa rusa, lukoil, la propiedad gubernamental es parcial. según la organización de países exportadores de petróleo (opep) en el mundo hay 1,65 billones de barriles (2014), \\u200b eso quiere decir 262 billones de litros (262 tera-litros), si la producción de 83 millones de barriles al día \\u200b se mantuviera constante, significa que habría petróleo para 54 años. venezuela, el país con más reservas probadas, al ritmo actual de producción \\u200b tendría petróleo para más de 300 años y arabia saudita \\u200b para 70 años. hay entre 6,8 y 7,2 barriles de petróleo por tonelada, en dependencia de la densidad del petróleo. por tanto, las reservas de crudo se calculan entre 0,97 y 1,003 billones de barriles de petróleo. \\u200b otras fuentes indican que si la producción de petróleo siguiera en el futuro al mismo ritmo que en 2013, las reservas mundiales –salvo que se encontrasen nuevos yacimientos– durarían 53,3 años, ascendiendo las reservas mundiales probadas de petróleo a 1,69 billones de barriles a finales del año 2013. \\u200b sin embargo el límite de las reservas podría estar más cercano aun si se tienen en cuenta modelos de previsión con un consumo creciente como ha venido siendo normal a lo largo de todo el siglo pasado. los nuevos descubrimientos de yacimientos se han reducido drásticamente en las últimas décadas haciendo insostenible por mucho tiempo los elevados niveles de extracción actuales, sin incluir la futura demanda de los consumidores asiáticos. por otra parte, la mayoría de las principales reservas mundiales han entrado en declive y solo las de oriente próximo mantienen un crecimiento sostenido. según la teoría del pico de hubbert, actualizada con datos recientes por la asociación para el estudio del pico del petróleo, el inicio de dicho declive se habría producido en torno a 2007. la agencia internacional de la energía reconoció en 2010 que el cénit de la extracción mundial de petróleo convencional se había producido en 2006. \\u200b existen otros tipos de reservas de hidrocarburos, conocidos como bitúmenes, que es petróleo extrapesado, cuyas reservas más conocidas son las de bitumen de las arenas de alquitrán de athabasca en canadá, y la faja petrolífera del orinoco en venezuela. según cálculos de la estatal venezolana pdvsa, la unión de estas reservas no convencionales con reservas convencionales le da a venezuela el primer puesto como el país con mayores reservas de hidrocarburos en el planeta. durante el año 2004, el consumo mundial de petróleo se elevó un 3,4 % y alcanzó los 82,4 millones de barriles al día. los responsables de casi la mitad del aumento son estados unidos y china, que en la actualidad utilizan 20,5 y 6,6 millones de barriles diarios, respectivamente. \\u200b de acuerdo con el comité ministerial de seguimiento de la alianza petrolera, consideró que la demanda mundial de petróleo para finales de 2021 podría crecer en 6 millones de barriles diarios para alcanzar los 96.5 millones barriles diario en promedio anual. \\u200b mientras se promedie un consumo de 96,6 mbd durante 2021 la opep seguirá controlando su producción de manera moderada y gradual entre 27,8 y 28,8 mbd para mantener los precios hasta diciembre, tal como pactó con rusia y otros aliados. \\u200b el petróleo tiene el problema de ser insoluble en agua y, por lo tanto, difícil de limpiar. además, la combustión de sus derivados produce productos residuales: partículas, co2, sox (óxidos de azufre), nox (óxidos nitrosos), etc. en general, los derrames de hidrocarburos dañan gravemente al ecosistema del lugar, razón por la cual la industria petrolera mundial debe cumplir normas y procedimientos estrictos en materia de protección ambiental. casi la mitad del petróleo y derivados industriales que se vierten en el mar son residuos que vuelcan las ciudades costeras. el mar es empleado como un accesible y barato depósito de sustancias contaminantes. otros derrames se deben a accidentes que sufren los grandes barcos contenedores de petróleo, que por negligencia transportan el combustible en condiciones inadecuadas. de cualquier manera, los derrames de petróleo representan una de las mayores causas de la contaminación oceánica. ocasionan gran mortandad de aves acuáticas, peces y otros seres vivos de los océanos, alterando el equilibrio del ecosistema. en las zonas afectadas, se vuelven imposibles la pesca, la navegación y el aprovechamiento de las playas con fines recreativos. entre 1969 y 2016 se derramaron 5.73 millones de toneladas de petróleo en todo el mundo. cada año se producen una media de 1\\'7 mareas negras. \\u200b cuando sucede un derrame de petróleo se tiene que actuar rápidamente, ya que aunque el daño ya es irreversible se puede contrarrestar su propagación; en alta mar, cuando el mar está calmado y hay poco viento, se puede quemar el aceite. usualmente en las playas se usa un método de absorción que atrapa la sustancia, como una esponja, aunque no es muy eficaz. he aquí algunos de los derrames más graves: \\u200b \\u200b \\u200b \\u200b \\u200b \\u200b \\u200b \\u200b la combustión de los derivados del petróleo es una de las principales causas de emisión de co2, cuya acumulación en la atmósfera favorece el cambio climático. el control del petróleo se ha vinculado a diversos conflictos bélicos, desde la segunda guerra mundial hasta los más recientes en irak (guerra del golfo de 1991 y guerra de irak de 2003). es considerado un mineral de conflicto (isis utilizó las ventas del petróleo para financiar actividades militares y terroristas). \\u200b el petróleo es tal vez uno de los recursos naturales más conocidos por todos nosotros y teniendo en cuenta que la población mundial sigue creciendo, y siendo este un recurso limitado, con proyecciones a una futura escasez, puede ser motivo de conflictos internacionales o globales \\u200b como sustancias alternativas a los combustibles derivados del petróleo se encuentran el biodiésel, aceite combustible con características comparables al diésel que se extrae principalmente de las semillas oleaginosas de diferentes plantas y el bioetanol, alcohol procedente de restos vegetales, que se puede utilizar mezclándolo con otros combustibles o para la fabricación de éteres, que son bases para fabricar combustibles más ecológicos. enarsa (acrónimo de energía argentina s.a.) es una empresa pública argentina dedicada al estudio, exploración y explotación de yacimientos de hidrocarburos, el transporte, almacenaje, distribución, comercialización e industrialización de estos productos y sus derivados, el transporte y distribución de gas natural, y la generación, transporte, distribución y comercialización de energía eléctrica. la titularidad de la empresa está repartida en un 53 % perteneciente al estado nacional, un 12 % en manos de las provincias y el resto a comerciarse en la bolsa de comercio. enarsa cuenta entre sus activos el monopolio legal sobre de la exploración y explotación de la plataforma submarina del mar argentino. \\u200b yacimientos petrolíferos fiscales (ypf) sociedad del estado, fundada en 1922, fue la primera petrolera estatal de américa latina y modelo sobre el que se constituyeron entre otras, petrobras, perteneciente a brasil. en su momento la mayor empresa del país que perteneció al estado argentino hasta su privatización durante la presidencia de carlos saúl menem. el 3 de mayo de 2012 el congreso de la nación argentina aprobó el proyecto de ley para expropiar ypf, regresándola a manos del estado argentino en un 51 % de su paquete accionario. ypfb (yacimientos petrolíferos fiscales bolivianos) es la empresa estatal boliviana creada el 21 de diciembre de 1936 y la cual esta encargada de la exploración y procesos de destilación y venta en bolivia. la empresa fue nacionalizada tres veces: la primera fue en 1936, la segunda en 1969 y la tercera el 1 de mayo de 2006 en donde hasta esos momento estaba en manos de transnacionales como \"petrobras\" pertenecientes de países de origen como estados unidos, brasil, españa, etc., de donde se recuperó el 100 % de las regalías para el estado y repartiendo a sus nueve gobernaciones con un impuesto directo a las producciones de hidrocarburos. petrobras es una empresa mixta integrada de energía de origen brasileño. el 51 % de sus acciones en manos del estado brasileño, el mayor accionista por ser las fuentes de energía uno de los mayores intereses públicos del estado brasileño; y el 49 % en manos privadas. la empresa está en cuarto lugar en el ranking de las mayores empresas petrolíferas internacionales de capital abierto en el mundo, además de ser la mayor compañía de américa latina. \\u200b petrobras opera en forma activa en el mercado internacional de petróleo como así también a través del intercambio de una importante diversidad de productos relacionados con la industria hidrocarburífera. entre otras cosas, petrobrás se destaca por utilizar alta tecnología en operaciones de exploración y producción de petróleo en aguas abiertas (off shore) contando con el récord de la planta de producción de crudo más profunda del mundo. en noviembre de 2007 fue descubierto en brasil el megacampo de tupí, en la cuenca de santos, con una reserva estimada por la petrobras de entre cinco mil millones y ocho mil millones de barriles de petróleo, uno de los más grandes descubrimientos de petróleo del mundo desde 2000. el 14 de abril de 2008 petrobrás anuncia el descubrimiento del megacampo carioca, cinco veces más grande que el de tupí, con reservas cercanas a los 33 000 millones de barriles de petróleo equivalente. la empresa nacional del petróleo (enap) es una empresa estatal chilena dedicada a la exploración, producción y comercialización de hidrocarburos y sus derivados. depende actualmente del ministerio de energía. los últimos proyectos de extracción de enap fueron en magallanes, patagonia. actualmente ya no extrae petróleo, solo importa, refina y comercializa combustibles. ecopetrol s.a. (empresa colombiana de petróleo) es una sociedad pública por acciones, del estado colombiano, dedicada a explorar, producir, transportar, refinar y comercializar hidrocarburos. con utilidades promedio en los últimos 5 años superiores a los 1.2 billones de pesos anuales y exportaciones en el mismo período por más de 1.981 millones de dólares, es la cuarta petrolera estatal más grande de américa latina. es la primera compañía de petróleo de colombia, es listada en el puesto 303 entre las empresas más grandes del mundo por forbes y como la cuarta petrolera a nivel latinoamericano por detrás de petrobras, pemex y pdvsa en 2012. recientemente la firma platts ubicó a esta petrolera como una de las 14 mejores del mundo, primera en américa latina y 4.ª del continente. petroamazonas ep (empresa estatal de petróleos) es una empresa estatal ecuatoriana, creada en 2006, encargada de la exploración y producción de hidrocarburos. el estado, directamente por medio de petroamazonas ep o por contratos de asociación con terceros, asume la exploración y explotación de los yacimientos de hidrocarburos en el territorio nacional y mar territorial ecuatoriano. (mcr) petróleos mexicanos (pemex) es una empresa productiva del estado, de propiedad exclusiva del gobierno federal, \\u200b la cual tiene por objeto llevar a cabo, en términos de la legislación aplicable, la exploración y extracción de hidrocarburos, así como las actividades de refinación, transformación, transporte, almacenamiento, distribución, venta, exportación e importación de petróleo, hidrocarburos, petrolíferos y petroquímicos. fue creada el 20 de julio de 1938 \\u200b y desde 1960 hasta el 2013, gozó de monopolio constitucional para la explotación de los hidrocarburos en territorio mexicano. \\u200b pemex cuenta con diversas operaciones en el extranjero. en el año 2009 la empresa de goyler & mcnaughton, netherland & sewell y ryder scott certificó la existencia de un gran yacimiento petrolero en la región de chicontepec en el estado de veracruz, la cual en términos de volumen equivale a la mitad de las reservas probadas de arabia saudita, al 78 % de las reservas de canadá y son iguales a las reservas petroleras de irán, lo que colocaría a méxico dentro de los cuatro primeros países con mayor número de reservas petroleras en el mundo, sin embargo se requiere de una gran inversión para explotar al máximo este yacimiento. \\u200b en el perú la empresa estatal petroperú s.a. es, desde su fundación el 24 de julio de 1969, la encargada de la explotación de los yacimientos petroleros ubicados en este país sudamericano. actualmente petroperú s.a. se dedica a actividades de refinación, transporte y comercialización de productos terminados, luego del proceso de privatización del gobierno de alberto fujimori, en el que se vendió y concesionó diferentes lotes de producción del norte y selva, así como la refinería más importante como la pampilla vendida en 1996 al grupo de repsol. la empresa estatal ancap realiza exploraciones marítimas y en tierra en búsqueda de hidrocarburos, el 31 de marzo de 2011 su presidente raúl fernando sendic confirmó la existencia de petróleo en el departamento de durazno. \\u200b petróleos de venezuela, sociedad anónima (pdvsa) es una empresa estatal que se dedica a la explotación, producción, refinación, petroquímica, mercadeo y transporte del petróleo venezolano. fue creada el 1 de enero de 1976 durante la nacionalización de la industria petrolera extranjera que operaba en el país. también fue clasificada por la revista internacional fortune en 1998 como la empresa número 35 entre las 500 más grandes del mundo. \\u200b petróleos de venezuela estaba de tercera en el ranking de las 50 empresas petroleras del mundo hasta antes del 2014, solo superada por saudi aramco, de arabia saudita, y por exxonmobil, de estados unidos. entre sus mayores activos internacionales están las refinerías citgo en los estados unidos de américa de la cual es propietaria en un 100 %, la ruhr oil en alemania (vendida en 2010 a la rusa rosneft \\u200b), y la nynas posee solo el 15 % de las acciones, \\u200b \\u200b en suecia, en la cual es propietaria con una empresa petrolera de finlandia y suiza. '"
            ],
            "application/vnd.google.colaboratory.intrinsic+json": {
              "type": "string"
            }
          },
          "metadata": {},
          "execution_count": 44
        }
      ],
      "source": [
        "# Demos un vistazo\n",
        "text"
      ]
    },
    {
      "cell_type": "code",
      "execution_count": 45,
      "metadata": {
        "id": "PA5F0s4UsMpf",
        "outputId": "07137b12-5840-4289-b861-ff2ab0549d1f",
        "colab": {
          "base_uri": "https://localhost:8080/"
        }
      },
      "outputs": [
        {
          "output_type": "stream",
          "name": "stdout",
          "text": [
            "Cantidad de caracteres en el texto: 31660\n"
          ]
        }
      ],
      "source": [
        "print(\"Cantidad de caracteres en el texto:\", len(text))"
      ]
    },
    {
      "cell_type": "markdown",
      "metadata": {
        "id": "DKNcDGcisajf"
      },
      "source": [
        "### 3 - Dividir el texto en sentencias y en palabras"
      ]
    },
    {
      "cell_type": "code",
      "execution_count": 46,
      "metadata": {
        "id": "reXBOFQ7sdlB"
      },
      "outputs": [],
      "source": [
        "corpus = nltk.sent_tokenize(text) # divide en oraciones\n",
        "words = nltk.word_tokenize(text) # divide en términos"
      ]
    },
    {
      "cell_type": "code",
      "execution_count": 47,
      "metadata": {
        "id": "J5GloV9fsi6o",
        "outputId": "0f17e6ac-56d1-486c-df24-080f1ce10a62",
        "colab": {
          "base_uri": "https://localhost:8080/"
        }
      },
      "outputs": [
        {
          "output_type": "execute_result",
          "data": {
            "text/plain": [
              "['el petróleo (del griego: πετρέλαιον, lit.',\n",
              " '«aceite de roca») es una mezcla de compuestos orgánicos, principalmente hidrocarburos insolubles en agua.',\n",
              " 'también es conocido como oro negro, petróleo crudo o simplemente crudo.',\n",
              " 'se produce en el interior de la tierra, por transformación de la materia orgánica acumulada en sedimentos del pasado geológico \\u200b y puede acumularse en trampas geológicas naturales, que se localizan a nivel mundial \\u200b y de donde se extrae mediante la perforación de pozos.',\n",
              " 'en condiciones normales de presión y temperatura es un líquido bituminoso que puede presentar gran variación en diversos parámetros como color y viscosidad (desde amarillentos y poco viscosos como la gasolina hasta líquidos negros tan viscosos que apenas fluyen), densidad (entre 0,66 g/ml y 0,9785 g/ml), capacidad calorífica, etc.',\n",
              " 'estas variaciones se deben a la diversidad de concentraciones de los hidrocarburos que componen la mezcla, esto hace que el petróleo de cada pozo o fuente sea distinto de otro.',\n",
              " 'es un recurso no renovable y actualmente también es la principal fuente de energía y materia prima para la generación de una gran variedad de derivados, entre los que se incluyen la mayoría de los plásticos.',\n",
              " 'el petróleo líquido puede presentarse asociado a capas de gas natural, en yacimientos que han estado enterrados durante millones de años, cubiertos por los estratos superiores de la corteza terrestre.',\n",
              " 'debido a la importancia fundamental como materia prima, la venta del petróleo y sus derivados es un pilar fundamental del mercado mundial y la política exterior de varios países.',\n",
              " 'en los estados unidos, es común medir los volúmenes de petróleo líquido en barriles (de 42 galones estadounidenses, equivalente a 158,987 litros), y los volúmenes de gas en pies cúbicos (equivalente a 28,317 litros); en otras regiones ambos volúmenes se miden en metros cúbicos.']"
            ]
          },
          "metadata": {},
          "execution_count": 47
        }
      ],
      "source": [
        "# Demos un vistazo\n",
        "corpus[:10]"
      ]
    },
    {
      "cell_type": "code",
      "execution_count": 48,
      "metadata": {
        "id": "hmQ7nkvvsi0i",
        "outputId": "aac65ac7-ae6f-476b-ba36-713a2ecca353",
        "colab": {
          "base_uri": "https://localhost:8080/"
        }
      },
      "outputs": [
        {
          "output_type": "execute_result",
          "data": {
            "text/plain": [
              "['el',\n",
              " 'petróleo',\n",
              " '(',\n",
              " 'del',\n",
              " 'griego',\n",
              " ':',\n",
              " 'πετρέλαιον',\n",
              " ',',\n",
              " 'lit',\n",
              " '.',\n",
              " '«',\n",
              " 'aceite',\n",
              " 'de',\n",
              " 'roca',\n",
              " '»',\n",
              " ')',\n",
              " 'es',\n",
              " 'una',\n",
              " 'mezcla',\n",
              " 'de']"
            ]
          },
          "metadata": {},
          "execution_count": 48
        }
      ],
      "source": [
        "# Demos un vistazo\n",
        "words[:20]"
      ]
    },
    {
      "cell_type": "code",
      "execution_count": 49,
      "metadata": {
        "id": "YXPWNkKfEvDZ",
        "outputId": "623936f5-ac9d-4577-ddc6-a192fb1da85a",
        "colab": {
          "base_uri": "https://localhost:8080/"
        }
      },
      "outputs": [
        {
          "output_type": "stream",
          "name": "stdout",
          "text": [
            "Vocabulario: 5580\n"
          ]
        }
      ],
      "source": [
        "print(\"Vocabulario:\", len(words))"
      ]
    },
    {
      "cell_type": "markdown",
      "metadata": {
        "id": "NlYKyb3OtDse"
      },
      "source": [
        "### 4 - Funciones de ayuda para limpiar y procesar el input del usuario\n",
        "- Lematizar los tokens de la oración\n",
        "- Quitar símbolos de puntuación"
      ]
    },
    {
      "cell_type": "code",
      "execution_count": 50,
      "metadata": {
        "id": "afPok8pstPOx"
      },
      "outputs": [],
      "source": [
        "from nltk.stem import WordNetLemmatizer\n",
        "lemmatizer = WordNetLemmatizer()\n",
        "\n",
        "def perform_lemmatization(tokens):\n",
        "    return [lemmatizer.lemmatize(token) for token in tokens]\n",
        "\n",
        "# ord() nos da el código Unicode para un caracter dado\n",
        "punctuation_removal = dict((ord(punctuation), None) for punctuation in string.punctuation)\n",
        "\n",
        "def get_processed_text(document):\n",
        "    # 1 - reduce el texto a mínuscula (string.lower())\n",
        "    # 2 - quitar los simbolos de puntuacion (string.translate())\n",
        "    # 3 - realiza la tokenización (nltk.word_tokenize)\n",
        "    # 4 - realiza la lematización (nuestra función perform_lemmatization)\n",
        "    return perform_lemmatization(nltk.word_tokenize(document.lower().translate(punctuation_removal)))"
      ]
    },
    {
      "cell_type": "markdown",
      "metadata": {
        "id": "Jl8r6d9ZuyR9"
      },
      "source": [
        "### 5 - Utilizar vectores TF-IDF y la similitud coseno construido con el corpus del artículo de wikipedia"
      ]
    },
    {
      "cell_type": "code",
      "execution_count": 51,
      "metadata": {
        "id": "IRYFHcBfk2Gt"
      },
      "outputs": [],
      "source": [
        "from sklearn.feature_extraction.text import TfidfVectorizer\n",
        "from sklearn.metrics.pairwise import cosine_similarity\n",
        "\n",
        "def generate_response(user_input, corpus):\n",
        "    response = ''\n",
        "    # Sumar al corpus la pregunta del usuario para calcular\n",
        "    # su cercania con otros documentos/sentencias\n",
        "    # la entrada del usuario se usa para tokenizar y vectorizar\n",
        "    corpus.append(user_input)\n",
        "\n",
        "    # Crear un vectorizar TFIDF que quite las \"stop words\" del ingles y utilice\n",
        "    # nuestra funcion para obtener los tokens lematizados \"get_processed_text\"\n",
        "    word_vectorizer = TfidfVectorizer(tokenizer=get_processed_text, stop_words='english')\n",
        "\n",
        "    # Crear los vectores a partir del corpus\n",
        "    all_word_vectors = word_vectorizer.fit_transform(corpus)\n",
        "\n",
        "    # Calcular la similitud coseno entre todas los documentos excepto el agregado (el útlimo \"-1\")\n",
        "    # NOTA: con los word embedings veremos más en detalle esta matriz de similitud\n",
        "    similar_vector_values = cosine_similarity(all_word_vectors[-1], all_word_vectors)\n",
        "\n",
        "    # Obtener el índice del vector más cercano a nuestra oración\n",
        "    # --> descartando la similitud contra nuestor vector propio\n",
        "    similar_sentence_number = similar_vector_values.argsort()[0][-2]\n",
        "    matched_vector = similar_vector_values.flatten()\n",
        "    matched_vector.sort()\n",
        "    vector_matched = matched_vector[-2]\n",
        "\n",
        "    if vector_matched == 0: # si la similaridad coseno fue nula (ningún término en común)\n",
        "        response = \"I am sorry, I could not understand you\"\n",
        "    else:\n",
        "        response = corpus[similar_sentence_number] # obtener el documento del corpus más similar\n",
        "\n",
        "    corpus.remove(user_input)\n",
        "    return response"
      ]
    },
    {
      "cell_type": "markdown",
      "metadata": {
        "id": "OK-BuXPBybSp"
      },
      "source": [
        "### 6 - Ensayar el sistema\n",
        "El sistema intentará encontrar la parte del artículo que más se relaciona con nuestro texto de entrada. Sugerencias a ensayar:\n",
        "- Grand slam\n",
        "- tournaments\n",
        "- nadal\n",
        "- artificial intelligence"
      ]
    },
    {
      "cell_type": "code",
      "execution_count": 52,
      "metadata": {
        "id": "Z2X4j8XyydSb"
      },
      "outputs": [],
      "source": [
        "# Se utilizará gradio para ensayar el bot\n",
        "# Herramienta poderosa para crear interfaces rápidas para ensayar modelos\n",
        "# https://gradio.app/\n",
        "import sys\n",
        "!{sys.executable} -m pip install gradio --quiet"
      ]
    },
    {
      "cell_type": "code",
      "execution_count": 53,
      "metadata": {
        "id": "SZv5MiVzynG1",
        "outputId": "c6f0f483-16e0-4af4-c67b-91468f3823f0",
        "colab": {
          "base_uri": "https://localhost:8080/",
          "height": 1000
        }
      },
      "outputs": [
        {
          "output_type": "stream",
          "name": "stderr",
          "text": [
            "<ipython-input-53-802801f2853a>:9: GradioDeprecationWarning: `layout` parameter is deprecated, and it has no effect\n",
            "  iface = gr.Interface(\n"
          ]
        },
        {
          "output_type": "stream",
          "name": "stdout",
          "text": [
            "Colab notebook detected. This cell will run indefinitely so that you can see errors and logs. To turn off, set debug=False in launch().\n",
            "Note: opening Chrome Inspector may crash demo inside Colab notebooks.\n",
            "\n",
            "To create a public link, set `share=True` in `launch()`.\n"
          ]
        },
        {
          "output_type": "display_data",
          "data": {
            "text/plain": [
              "<IPython.core.display.Javascript object>"
            ],
            "application/javascript": [
              "(async (port, path, width, height, cache, element) => {\n",
              "                        if (!google.colab.kernel.accessAllowed && !cache) {\n",
              "                            return;\n",
              "                        }\n",
              "                        element.appendChild(document.createTextNode(''));\n",
              "                        const url = await google.colab.kernel.proxyPort(port, {cache});\n",
              "\n",
              "                        const external_link = document.createElement('div');\n",
              "                        external_link.innerHTML = `\n",
              "                            <div style=\"font-family: monospace; margin-bottom: 0.5rem\">\n",
              "                                Running on <a href=${new URL(path, url).toString()} target=\"_blank\">\n",
              "                                    https://localhost:${port}${path}\n",
              "                                </a>\n",
              "                            </div>\n",
              "                        `;\n",
              "                        element.appendChild(external_link);\n",
              "\n",
              "                        const iframe = document.createElement('iframe');\n",
              "                        iframe.src = new URL(path, url).toString();\n",
              "                        iframe.height = height;\n",
              "                        iframe.allow = \"autoplay; camera; microphone; clipboard-read; clipboard-write;\"\n",
              "                        iframe.width = width;\n",
              "                        iframe.style.border = 0;\n",
              "                        element.appendChild(iframe);\n",
              "                    })(7860, \"/\", \"100%\", 500, false, window.element)"
            ]
          },
          "metadata": {}
        },
        {
          "output_type": "stream",
          "name": "stdout",
          "text": [
            "Q: Como se fracciona el petroleo\n",
            "A: el petróleo natural no se usa como se extrae de la naturaleza, sino que se separa en mezclas más simples de hidrocarburos que tienen usos específicos.\n"
          ]
        },
        {
          "output_type": "stream",
          "name": "stderr",
          "text": [
            "/usr/local/lib/python3.10/dist-packages/sklearn/feature_extraction/text.py:528: UserWarning: The parameter 'token_pattern' will not be used since 'tokenizer' is not None'\n",
            "  warnings.warn(\n",
            "/usr/local/lib/python3.10/dist-packages/sklearn/feature_extraction/text.py:409: UserWarning: Your stop_words may be inconsistent with your preprocessing. Tokenizing the stop words generated tokens ['ha', 'le', 'u', 'wa'] not in stop_words.\n",
            "  warnings.warn(\n"
          ]
        },
        {
          "output_type": "stream",
          "name": "stdout",
          "text": [
            "Q: Naftas livianas\n",
            "A: para incrementar el octanaje de naftas y gasolinas se utilizan los siguientes métodos: es la reformación de la estructura molecular de las naftas.\n",
            "Q: Kerosene para industria\n",
            "A: ​ la industria petrolera clasifica el petróleo crudo según su lugar de origen (p. ej.\n",
            "Q: gasoil liviano\n",
            "A: relacionándolo con su gravedad api el american petroleum institute clasifica el petróleo en \"liviano\", \"mediano\", \"pesado\" y \"extrapesado\": ​ predominan los hidrocarburos saturados o parafínicos.\n",
            "Q: componente de gasolinas\n",
            "A: proceso para la producción de un componente de gasolinas de alto octanaje por síntesis de butilenos con isobutano.\n",
            "Q: componente de gasolinas\n",
            "A: proceso para la producción de un componente de gasolinas de alto octanaje por síntesis de butilenos con isobutano.\n",
            "Q: componente de gasolinas\n",
            "A: proceso para la producción de un componente de gasolinas de alto octanaje por síntesis de butilenos con isobutano.\n",
            "Q: Desarrollo Económico OCDE\n",
            "A: es importante señalar, que derivado de la crisis del petróleo de 1973 y como respuesta a la opep, en 1974 la organización para la cooperación y el desarrollo económico ocde, crea la agencia internacional de energía o aie, con el objetivo de que los países consumidores de crudo coordinasen las medidas necesarias para asegurar el abastecimiento del petróleo.\n",
            "Keyboard interruption in main thread... closing server.\n"
          ]
        },
        {
          "output_type": "execute_result",
          "data": {
            "text/plain": []
          },
          "metadata": {},
          "execution_count": 53
        }
      ],
      "source": [
        "import gradio as gr\n",
        "\n",
        "def bot_response(human_text):\n",
        "    print(\"Q:\", human_text)\n",
        "    resp = generate_response(human_text.lower(), corpus)\n",
        "    print(\"A:\", resp)\n",
        "    return resp\n",
        "\n",
        "iface = gr.Interface(\n",
        "    fn=bot_response,\n",
        "    inputs=[\"textbox\"],\n",
        "    outputs=\"text\",\n",
        "    layout=\"vertical\")\n",
        "\n",
        "iface.launch(debug=True)"
      ]
    }
  ],
  "metadata": {
    "colab": {
      "name": "2c - bot_tfidf_nltk.ipynb",
      "provenance": []
    },
    "kernelspec": {
      "display_name": "Python 3 (ipykernel)",
      "language": "python",
      "name": "python3"
    },
    "language_info": {
      "codemirror_mode": {
        "name": "ipython",
        "version": 3
      },
      "file_extension": ".py",
      "mimetype": "text/x-python",
      "name": "python",
      "nbconvert_exporter": "python",
      "pygments_lexer": "ipython3",
      "version": "3.10.6"
    }
  },
  "nbformat": 4,
  "nbformat_minor": 0
}